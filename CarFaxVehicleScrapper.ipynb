{
 "cells": [
  {
   "cell_type": "code",
   "execution_count": 1,
   "metadata": {},
   "outputs": [],
   "source": [
    "#This script is a web scraper for the Carfax.com website. It scrapes the\n",
    "#vehicle info from the grey vehicle info box. You have to be on the specific vehicle page that has \n",
    "#the vehicle vin in the url for it to work.\n",
    "#I am planning to break this script into two individual functions\n",
    "\n",
    "#Import the important libraries\n",
    "from time import time,sleep\n",
    "from random import randint\n",
    "from IPython.core.display import clear_output\n",
    "from requests import get\n",
    "from bs4 import BeautifulSoup\n",
    "import matplotlib.pyplot as plt\n",
    "import pandas as pd\n",
    "import re "
   ]
  },
  {
   "cell_type": "code",
   "execution_count": 2,
   "metadata": {},
   "outputs": [],
   "source": [
    "#This is the url that the car data will come from - use these websites to test\n",
    "\n",
    "#url = 'https://www.carfax.com/vehicle/1C4PJMDSXGW187284'\n",
    "#url = 'https://www.carfax.com/vehicle/1C4PJMLB9KD299693'\n",
    "#url = 'https://www.carfax.com/vehicle/JTMCY7AJ3K4080248'\n",
    "#url = 'https://www.carfax.com/vehicle/2G4GV5GV1D9246173'\n",
    "#url = 'https://www.carfax.com/vehicle/5N1AT2MV4HC762833'\n",
    "#url = 'https://www.carfax.com/vehicle/2C3CCAAG2HH505944'\n",
    "#url = 'https://www.carfax.com/vehicle/WVGEF7BP2HD004963'\n",
    "#url = 'https://www.carfax.com/vehicle/WP0CB2A82JS229213'\n",
    "url = 'https://www.carfax.com/vehicle/3GYFNFE34CS573590'"
   ]
  },
  {
   "cell_type": "code",
   "execution_count": 3,
   "metadata": {},
   "outputs": [],
   "source": [
    "#scraping webpage with beautiful soup\n",
    "response = get(url, timeout = 5)\n",
    "soup = BeautifulSoup(response.text, 'html.parser')"
   ]
  },
  {
   "cell_type": "code",
   "execution_count": null,
   "metadata": {},
   "outputs": [],
   "source": [
    "#THIS IS THE VEHICLE INFO SECTION"
   ]
  },
  {
   "cell_type": "code",
   "execution_count": 4,
   "metadata": {
    "scrolled": true
   },
   "outputs": [],
   "source": [
    "#Getting the year, make, model, etc from the bottom of the page near the dealer disclaimer\n",
    "#NOTICE THAT I AM USING THE soup.select with a .class\n",
    "mm = soup.select('.disclaimer-vehicle-title')\n",
    "mm = str(mm[0].contents[0]).strip().split()"
   ]
  },
  {
   "cell_type": "code",
   "execution_count": null,
   "metadata": {},
   "outputs": [],
   "source": [
    "#soup.find_all(\"ul\",class_=\"vehicle-info-ul\")"
   ]
  },
  {
   "cell_type": "code",
   "execution_count": 5,
   "metadata": {},
   "outputs": [],
   "source": [
    "#parsing out the info in the grey box with all vehicle info from the rest of the website\n",
    "data = soup.select('.vehicle-info-details')"
   ]
  },
  {
   "cell_type": "code",
   "execution_count": 6,
   "metadata": {},
   "outputs": [
    {
     "ename": "IndexError",
     "evalue": "list index out of range",
     "output_type": "error",
     "traceback": [
      "\u001b[1;31m---------------------------------------------------------------------------\u001b[0m",
      "\u001b[1;31mIndexError\u001b[0m                                Traceback (most recent call last)",
      "\u001b[1;32m<ipython-input-6-7fc81c1a5356>\u001b[0m in \u001b[0;36m<module>\u001b[1;34m\u001b[0m\n\u001b[0;32m      2\u001b[0m \u001b[0minfo\u001b[0m \u001b[1;33m=\u001b[0m \u001b[1;33m[\u001b[0m\u001b[1;33m]\u001b[0m\u001b[1;33m\u001b[0m\u001b[1;33m\u001b[0m\u001b[0m\n\u001b[0;32m      3\u001b[0m \u001b[1;32mfor\u001b[0m \u001b[0md\u001b[0m \u001b[1;32min\u001b[0m \u001b[0mdata\u001b[0m\u001b[1;33m:\u001b[0m\u001b[1;33m\u001b[0m\u001b[1;33m\u001b[0m\u001b[0m\n\u001b[1;32m----> 4\u001b[1;33m     \u001b[0minfo\u001b[0m\u001b[1;33m.\u001b[0m\u001b[0mappend\u001b[0m\u001b[1;33m(\u001b[0m\u001b[0mstr\u001b[0m\u001b[1;33m(\u001b[0m\u001b[0md\u001b[0m\u001b[1;33m.\u001b[0m\u001b[0mcontents\u001b[0m\u001b[1;33m[\u001b[0m\u001b[1;36m0\u001b[0m\u001b[1;33m]\u001b[0m\u001b[1;33m)\u001b[0m\u001b[1;33m.\u001b[0m\u001b[0mstrip\u001b[0m\u001b[1;33m(\u001b[0m\u001b[1;33m)\u001b[0m\u001b[1;33m)\u001b[0m\u001b[1;33m\u001b[0m\u001b[1;33m\u001b[0m\u001b[0m\n\u001b[0m",
      "\u001b[1;31mIndexError\u001b[0m: list index out of range"
     ]
    }
   ],
   "source": [
    "#parsing out the information in the grey box\n",
    "info = []\n",
    "for d in data:\n",
    "    info.append(str(d.contents[0]).strip())"
   ]
  },
  {
   "cell_type": "code",
   "execution_count": null,
   "metadata": {
    "scrolled": true
   },
   "outputs": [],
   "source": [
    "#info"
   ]
  },
  {
   "cell_type": "code",
   "execution_count": null,
   "metadata": {},
   "outputs": [],
   "source": [
    "vehicle_info = {\n",
    "    \"vin\": info[23],\n",
    "    'year': mm[0],\n",
    "    'make': mm[1],\n",
    "    'model': mm[2],\n",
    "    'trim' : mm[3],\n",
    "    \"price\": info[1],\n",
    "    \"mileage\": info[3],\n",
    "    \"location\": info[5],\n",
    "    \"ext_color\": info[7],\n",
    "    \"int_color\": info[9],\n",
    "    \"drive_type\": info[11],\n",
    "    \"transmission\": info[13],\n",
    "    \"body_style\": info[15],\n",
    "    \"engine\": info[17],\n",
    "    \"fuel\": info[19],\n",
    "    \"mpg\": info[21],\n",
    "    \"stock_num\": info[25]    \n",
    "}"
   ]
  },
  {
   "cell_type": "code",
   "execution_count": null,
   "metadata": {
    "scrolled": false
   },
   "outputs": [],
   "source": [
    "vehicle_info"
   ]
  },
  {
   "cell_type": "code",
   "execution_count": null,
   "metadata": {},
   "outputs": [],
   "source": [
    "#THIS IS THE DEALER INFO SECTION"
   ]
  },
  {
   "cell_type": "code",
   "execution_count": null,
   "metadata": {
    "scrolled": true
   },
   "outputs": [],
   "source": [
    "#parsing out the dealer info\n",
    "temp = soup.select('.dealer-name')\n",
    "dealer_name = str(temp[0].contents[0]).strip()\n",
    "dealer_name"
   ]
  },
  {
   "cell_type": "code",
   "execution_count": null,
   "metadata": {},
   "outputs": [],
   "source": [
    "temp"
   ]
  },
  {
   "cell_type": "code",
   "execution_count": null,
   "metadata": {
    "scrolled": true
   },
   "outputs": [],
   "source": [
    "#parsing out the dealer address - NOTICE I USED # for an id\n",
    "temp = soup.select('#dealer-info__address-text')\n"
   ]
  },
  {
   "cell_type": "code",
   "execution_count": null,
   "metadata": {},
   "outputs": [],
   "source": [
    "temp"
   ]
  },
  {
   "cell_type": "code",
   "execution_count": null,
   "metadata": {},
   "outputs": [],
   "source": [
    "dealer_street = str(temp[0].contents[0]).strip()\n",
    "dealer_street"
   ]
  },
  {
   "cell_type": "code",
   "execution_count": null,
   "metadata": {},
   "outputs": [],
   "source": [
    "dealer_csz = str(temp[0].contents[2]).strip()\n",
    "dealer_csz"
   ]
  },
  {
   "cell_type": "code",
   "execution_count": null,
   "metadata": {
    "scrolled": true
   },
   "outputs": [],
   "source": [
    "#dealer_street"
   ]
  },
  {
   "cell_type": "code",
   "execution_count": null,
   "metadata": {},
   "outputs": [],
   "source": [
    "#dealer_csz"
   ]
  },
  {
   "cell_type": "code",
   "execution_count": null,
   "metadata": {},
   "outputs": [],
   "source": [
    "temp = soup.select('.dealer-info__phone-text')\n",
    "dealer_phone = str(temp[0].contents[0]).strip()\n",
    "\n"
   ]
  },
  {
   "cell_type": "code",
   "execution_count": null,
   "metadata": {},
   "outputs": [],
   "source": [
    "dealer_csz"
   ]
  },
  {
   "cell_type": "code",
   "execution_count": null,
   "metadata": {
    "scrolled": true
   },
   "outputs": [],
   "source": [
    "   #parsing out the dealer address - NOTICE I USED # for an id\n",
    "temp = soup.select('#dealer-info__address-text')\n",
    "dealer_street = str(temp[0].contents[0]).strip()\n"
   ]
  },
  {
   "cell_type": "code",
   "execution_count": null,
   "metadata": {},
   "outputs": [],
   "source": [
    "        dealer_csz = str(temp[0].contents[2]).strip()\n",
    "        string3 = dealer_csz\n",
    "        strg = string3.strip().split(',')\n",
    "        len(strg)\n",
    "        city = strg[0]\n",
    "        strg = strg[1].split()\n",
    "        state = strg[0]\n",
    "        zipc = strg[1]"
   ]
  },
  {
   "cell_type": "code",
   "execution_count": null,
   "metadata": {},
   "outputs": [],
   "source": [
    "zipc"
   ]
  },
  {
   "cell_type": "code",
   "execution_count": null,
   "metadata": {
    "scrolled": true
   },
   "outputs": [],
   "source": [
    "dealer_csz = str(temp[0].contents[2]).strip().split()\n",
    "string3 = dealer_csz\n",
    "strg = string3.split(',')"
   ]
  },
  {
   "cell_type": "code",
   "execution_count": null,
   "metadata": {},
   "outputs": [],
   "source": [
    "str = string3.strip().split(',')\n",
    "len(str)\n",
    "city = str[0]\n",
    "str = str[1].split()\n",
    "state = str[0]\n",
    "zip = str[1]"
   ]
  },
  {
   "cell_type": "code",
   "execution_count": null,
   "metadata": {},
   "outputs": [],
   "source": [
    "#try:\n",
    "\n",
    "len(strg)\n",
    "city = strg[0]\n",
    "strg = strg[1].split()\n",
    "state = strg[0]\n",
    "zipc = strg[1]\n",
    "#except:\n",
    "#    print('something went wrong with the address')\n",
    "#    city = '-'\n",
    "#    state = '-'\n",
    "#    zipc = '-'\n"
   ]
  },
  {
   "cell_type": "code",
   "execution_count": null,
   "metadata": {
    "scrolled": false
   },
   "outputs": [],
   "source": [
    "#I had trouble getting the dealer website - stopped here\n",
    "#temp = soup.select('#dealer-website-vdp').select()\n",
    "#dealer_website = str(temp[0].contents[0]).strip().split()\n",
    "#dealer_website"
   ]
  },
  {
   "cell_type": "code",
   "execution_count": null,
   "metadata": {},
   "outputs": [],
   "source": [
    "#temp = soup.select('a[href]')\n",
    "#temp"
   ]
  },
  {
   "cell_type": "code",
   "execution_count": null,
   "metadata": {},
   "outputs": [],
   "source": [
    "dealer_info = {\n",
    "    'vin' : info[23],\n",
    "    'dealer_name': dealer_name,\n",
    "    'dealer_street': dealer_street,\n",
    "    'dealer_city': dealer_csz[0],\n",
    "    'dealer_state': dealer_csz[1],\n",
    "    'dealer_zip': dealer_csz[2],\n",
    "    'dealer_phone': dealer_phone,\n",
    "    'stock_number': info[25]\n",
    "    \n",
    "    \n",
    "}\n",
    "dealer_info"
   ]
  }
 ],
 "metadata": {
  "kernelspec": {
   "display_name": "Python 3",
   "language": "python",
   "name": "python3"
  },
  "language_info": {
   "codemirror_mode": {
    "name": "ipython",
    "version": 3
   },
   "file_extension": ".py",
   "mimetype": "text/x-python",
   "name": "python",
   "nbconvert_exporter": "python",
   "pygments_lexer": "ipython3",
   "version": "3.7.7"
  }
 },
 "nbformat": 4,
 "nbformat_minor": 4
}
