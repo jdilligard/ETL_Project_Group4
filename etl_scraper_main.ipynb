{
 "cells": [
  {
   "cell_type": "code",
   "execution_count": 5,
   "metadata": {},
   "outputs": [],
   "source": [
    "#This is the etl scraper for team 4. It goes to Carfax.com and searches for Jeep Cherokees in the Dallas Area.\n",
    "\n",
    "\n",
    "#Import the important libraries\n",
    "from time import time,sleep\n",
    "from random import randint\n",
    "from IPython.core.display import clear_output\n",
    "from requests import get\n",
    "from bs4 import BeautifulSoup\n",
    "import matplotlib.pyplot as plt\n",
    "import pandas as pd\n",
    "import re \n",
    "\n",
    "from Scrapper import *\n",
    "from pandas_to_x import *"
   ]
  },
  {
   "cell_type": "code",
   "execution_count": 6,
   "metadata": {
    "scrolled": true
   },
   "outputs": [],
   "source": [
    "#This is the url for the search that we are doing at Carfax.com\n",
    "url = 'https://www.carfax.com/Used-Jeep-Cherokee-Dallas-TX_w371_c18864'"
   ]
  },
  {
   "cell_type": "code",
   "execution_count": 7,
   "metadata": {},
   "outputs": [
    {
     "name": "stdout",
     "output_type": "stream",
     "text": [
      "in the scrapper_to_pandas\n",
      "https://www.carfax.com/vehicle/1C4PJLLB9KD222378\n",
      "https://www.carfax.com/vehicle/1C4PJMDS8HW545404\n",
      "https://www.carfax.com/vehicle/1C4PJLCB3HW640769\n",
      "https://www.carfax.com/vehicle/1C4PJMCS2GW332965\n",
      "https://www.carfax.com/vehicle/1C4PJLCSXGW304454\n",
      "https://www.carfax.com/vehicle/1C4PJMCBXGW330414\n",
      "https://www.carfax.com/vehicle/1C4PJMCB8HW521427\n",
      "https://www.carfax.com/vehicle/1C4PJMJN8KD173841\n",
      "https://www.carfax.com/vehicle/1C4PJLDB0HW626701\n",
      "https://www.carfax.com/vehicle/1C4PJLCSXGW362208\n",
      "https://www.carfax.com/vehicle/1C4PJMCBXHW582469\n",
      "https://www.carfax.com/vehicle/1C4PJMCS4GW154380\n",
      "https://www.carfax.com/vehicle/1C4PJLCB0JD576708\n",
      "https://www.carfax.com/vehicle/1C4PJLCS1GW234018\n",
      "https://www.carfax.com/vehicle/1C4PJMDS6GW327959\n",
      "https://www.carfax.com/vehicle/1C4PJMCS9GW341467\n",
      "https://www.carfax.com/vehicle/1C4PJMDB4HW537767\n",
      "https://www.carfax.com/vehicle/1C4PJLDS0HW664123\n",
      "https://www.carfax.com/vehicle/1C4PJMDBXGW236810\n",
      "https://www.carfax.com/vehicle/1C4PJLDBXJD561566\n",
      "https://www.carfax.com/vehicle/1C4PJLCX2KD396689\n",
      "https://www.carfax.com/vehicle/1C4PJLCBXKD487648\n",
      "https://www.carfax.com/vehicle/1C4PJMDSXGW187284\n",
      "https://www.carfax.com/vehicle/1C4PJMCB3HD218289\n",
      "https://www.carfax.com/vehicle/1C4PJLCB0HD231897\n",
      "Done with scrapper_to_pandas\n"
     ]
    }
   ],
   "source": [
    "#This function goes to the carfax page and scrapes all of the pertinent info such as location, VIN, color etc. \n",
    "#After scraping the info, the info is placed in to several pandas data frames that correlate to our ERD database structure\n",
    "#The dataframes are place into a dictionary called 'dict' and returned\n",
    "dict = scrapper_to_pandas(url)"
   ]
  },
  {
   "cell_type": "code",
   "execution_count": 8,
   "metadata": {
    "scrolled": false
   },
   "outputs": [
    {
     "data": {
      "text/plain": [
       "dict_keys(['dealer', 'car_descriptions', 'vehicle_info', 'drive_train', 'price'])"
      ]
     },
     "execution_count": 8,
     "metadata": {},
     "output_type": "execute_result"
    }
   ],
   "source": [
    "dict.keys()"
   ]
  },
  {
   "cell_type": "code",
   "execution_count": 9,
   "metadata": {},
   "outputs": [
    {
     "name": "stdout",
     "output_type": "stream",
     "text": [
      "Im doing the mongo thing\n",
      "I did the mongo thing\n"
     ]
    }
   ],
   "source": [
    "#This function takes the 'dict' function and loads the data into several data tables in MongoDB.  \n",
    "pandas_to_mongo(dict)"
   ]
  }
 ],
 "metadata": {
  "kernelspec": {
   "display_name": "Python 3",
   "language": "python",
   "name": "python3"
  },
  "language_info": {
   "codemirror_mode": {
    "name": "ipython",
    "version": 3
   },
   "file_extension": ".py",
   "mimetype": "text/x-python",
   "name": "python",
   "nbconvert_exporter": "python",
   "pygments_lexer": "ipython3",
   "version": "3.7.7"
  }
 },
 "nbformat": 4,
 "nbformat_minor": 4
}
