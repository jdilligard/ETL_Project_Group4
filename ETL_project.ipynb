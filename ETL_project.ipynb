{
 "cells": [
  {
   "cell_type": "code",
   "execution_count": 1,
   "metadata": {},
   "outputs": [],
   "source": [
    "#Import the important libraries\n",
    "from time import time,sleep\n",
    "from random import randint\n",
    "from IPython.core.display import clear_output\n",
    "from requests import get\n",
    "from bs4 import BeautifulSoup\n",
    "import matplotlib.pyplot as plt\n",
    "import pandas as pd\n",
    "import re \n",
    "\n",
    "from Scrapper import *"
   ]
  },
  {
   "cell_type": "code",
   "execution_count": 2,
   "metadata": {},
   "outputs": [],
   "source": [
    "executable_path = {'executable_path': r\"C:\\Users\\jdilligard\\Desktop\\chromedriver_win32\\chromedriver.exe\"}\n",
    "#browser = Browser('chrome', **executable_path, headless=False)"
   ]
  },
  {
   "cell_type": "code",
   "execution_count": 3,
   "metadata": {},
   "outputs": [],
   "source": [
    "url = 'https://www.carfax.com/Used-Jeep-Cherokee-Dallas-TX_w371_c18864'\n",
    "#browser.visit(url)"
   ]
  },
  {
   "cell_type": "code",
   "execution_count": 4,
   "metadata": {},
   "outputs": [],
   "source": [
    "#scraping webpage with beautiful soup\n",
    "response = get(url, timeout = 5)\n",
    "soup = BeautifulSoup(response.text, 'html.parser')"
   ]
  },
  {
   "cell_type": "code",
   "execution_count": 5,
   "metadata": {},
   "outputs": [
    {
     "name": "stdout",
     "output_type": "stream",
     "text": [
      "/vehicle/1C4PJMDSXGW187284\n"
     ]
    }
   ],
   "source": [
    "data = soup.find(id='listing_0').find('a')['href']\n",
    "print(data)"
   ]
  },
  {
   "cell_type": "code",
   "execution_count": 6,
   "metadata": {},
   "outputs": [],
   "source": [
    "links = []"
   ]
  },
  {
   "cell_type": "code",
   "execution_count": 14,
   "metadata": {},
   "outputs": [
    {
     "name": "stdout",
     "output_type": "stream",
     "text": [
      "https://www.carfax.com/vehicle/1C4PJMDSXGW187284\n",
      "https://www.carfax.com/vehicle/1C4PJMDSXGW187284\n",
      "https://www.carfax.com/vehicle/1C4PJMLB9KD299693\n",
      "https://www.carfax.com/vehicle/1C4PJMLB9KD299693\n",
      "https://www.carfax.com/vehicle/1C4PJLDBXJD561566\n",
      "https://www.carfax.com/vehicle/1C4PJLDBXJD561566\n",
      "https://www.carfax.com/vehicle/1C4PJLCS1GW234018\n",
      "https://www.carfax.com/vehicle/1C4PJLCS1GW234018\n",
      "https://www.carfax.com/vehicle/1C4PJLCB0HD231897\n",
      "https://www.carfax.com/vehicle/1C4PJLCB0HD231897\n",
      "https://www.carfax.com/vehicle/1C4PJLCX2KD396689\n",
      "https://www.carfax.com/vehicle/1C4PJLCX2KD396689\n",
      "https://www.carfax.com/vehicle/1C4PJLDB0HW626701\n",
      "https://www.carfax.com/vehicle/1C4PJLDB0HW626701\n",
      "https://www.carfax.com/vehicle/1C4PJLDS0HW664123\n",
      "https://www.carfax.com/vehicle/1C4PJLDS0HW664123\n",
      "https://www.carfax.com/vehicle/1C4PJLLB9KD222378\n",
      "https://www.carfax.com/vehicle/1C4PJLLB9KD222378\n",
      "https://www.carfax.com/vehicle/1C4PJLCB3HW640769\n",
      "https://www.carfax.com/vehicle/1C4PJLCB3HW640769\n",
      "https://www.carfax.com/vehicle/1C4PJMDS8HW545404\n",
      "https://www.carfax.com/vehicle/1C4PJMDS8HW545404\n",
      "https://www.carfax.com/vehicle/1C4PJLDB5HW662965\n",
      "https://www.carfax.com/vehicle/1C4PJLDB5HW662965\n",
      "https://www.carfax.com/vehicle/1C4PJMJN8KD173841\n",
      "https://www.carfax.com/vehicle/1C4PJMJN8KD173841\n",
      "https://www.carfax.com/vehicle/1C4PJMDS6GW327959\n",
      "https://www.carfax.com/vehicle/1C4PJMDS6GW327959\n",
      "https://www.carfax.com/vehicle/1C4PJMCB3HD218289\n",
      "https://www.carfax.com/vehicle/1C4PJMCB3HD218289\n",
      "https://www.carfax.com/vehicle/1C4PJMCB8HW521427\n",
      "https://www.carfax.com/vehicle/1C4PJMCB8HW521427\n",
      "https://www.carfax.com/vehicle/1C4PJMDBXGW236810\n",
      "https://www.carfax.com/vehicle/1C4PJMDBXGW236810\n",
      "https://www.carfax.com/vehicle/1C4PJLDB2FW602686\n",
      "https://www.carfax.com/vehicle/1C4PJLDB2FW602686\n",
      "https://www.carfax.com/vehicle/1C4PJMDB4HW537767\n",
      "https://www.carfax.com/vehicle/1C4PJMDB4HW537767\n",
      "https://www.carfax.com/vehicle/1C4PJMBS3FW570890\n",
      "https://www.carfax.com/vehicle/1C4PJMBS3FW570890\n",
      "https://www.carfax.com/vehicle/1C4PJMCS9HW556624\n",
      "https://www.carfax.com/vehicle/1C4PJMCS9HW556624\n",
      "https://www.carfax.com/vehicle/1C4PJMCS2GW332965\n",
      "https://www.carfax.com/vehicle/1C4PJMCS2GW332965\n",
      "https://www.carfax.com/vehicle/1C4PJMCS9GW341467\n",
      "https://www.carfax.com/vehicle/1C4PJMCS9GW341467\n",
      "https://www.carfax.com/vehicle/1C4PJMCBXGW330414\n",
      "https://www.carfax.com/vehicle/1C4PJMCBXGW330414\n",
      "https://www.carfax.com/vehicle/1C4PJMCS4GW154380\n",
      "https://www.carfax.com/vehicle/1C4PJMCS4GW154380\n"
     ]
    }
   ],
   "source": [
    "for link in soup.findAll('a', attrs={'href': re.compile(\"/vehicle/\")}):\n",
    "    #print(link.get('href'))\n",
    "    string = 'https://www.carfax.com' + link.get('href')\n",
    "    links.append(string)\n",
    "    print(string)"
   ]
  },
  {
   "cell_type": "code",
   "execution_count": 15,
   "metadata": {},
   "outputs": [
    {
     "name": "stdout",
     "output_type": "stream",
     "text": [
      "['https://www.carfax.com//vehicle/1C4PJMDS8HW545404', 'https://www.carfax.com/vehicle/1C4PJMCB3HD218289', 'https://www.carfax.com/vehicle/1C4PJMDBXGW236810', 'https://www.carfax.com//vehicle/1C4PJLDB5HW662965', 'https://www.carfax.com//vehicle/1C4PJMCS9GW341467', 'https://www.carfax.com//vehicle/1C4PJMCS2GW332965', 'https://www.carfax.com/vehicle/1C4PJLDB5HW662965', 'https://www.carfax.com/vehicle/1C4PJMCB8HW521427', 'https://www.carfax.com//vehicle/1C4PJMCS9HW556624', 'https://www.carfax.com/vehicle/1C4PJMDB4HW537767', 'https://www.carfax.com/vehicle/1C4PJMDSXGW187284', 'https://www.carfax.com//vehicle/1C4PJMCB3HD218289', 'https://www.carfax.com/vehicle/1C4PJLLB9KD222378', 'https://www.carfax.com/vehicle/1C4PJLCB3HW640769', 'https://www.carfax.com//vehicle/1C4PJMCBXGW330414', 'https://www.carfax.com//vehicle/1C4PJLDS0HW664123', 'https://www.carfax.com/vehicle/1C4PJLCX2KD396689', 'https://www.carfax.com/vehicle/1C4PJMDS8HW545404', 'https://www.carfax.com//vehicle/1C4PJMDS6GW327959', 'https://www.carfax.com/vehicle/1C4PJMCBXGW330414', 'https://www.carfax.com//vehicle/1C4PJMDBXGW236810', 'https://www.carfax.com//vehicle/1C4PJMCB8HW521427', 'https://www.carfax.com//vehicle/1C4PJMLB9KD299693', 'https://www.carfax.com//vehicle/1C4PJLCS1GW234018', 'https://www.carfax.com/vehicle/1C4PJMCS4GW154380', 'https://www.carfax.com/vehicle/1C4PJMCS9GW341467', 'https://www.carfax.com//vehicle/1C4PJMDSXGW187284', 'https://www.carfax.com/vehicle/1C4PJMJN8KD173841', 'https://www.carfax.com//vehicle/1C4PJLCB0HD231897', 'https://www.carfax.com//vehicle/1C4PJMDB4HW537767', 'https://www.carfax.com//vehicle/1C4PJLCB3HW640769', 'https://www.carfax.com/vehicle/1C4PJMCS9HW556624', 'https://www.carfax.com/vehicle/1C4PJLDB2FW602686', 'https://www.carfax.com//vehicle/1C4PJLDBXJD561566', 'https://www.carfax.com//vehicle/1C4PJMCS4GW154380', 'https://www.carfax.com//vehicle/1C4PJLDB2FW602686', 'https://www.carfax.com/vehicle/1C4PJMBS3FW570890', 'https://www.carfax.com//vehicle/1C4PJMBS3FW570890', 'https://www.carfax.com//vehicle/1C4PJMJN8KD173841', 'https://www.carfax.com/vehicle/1C4PJLCB0HD231897', 'https://www.carfax.com/vehicle/1C4PJMDS6GW327959', 'https://www.carfax.com/vehicle/1C4PJLDBXJD561566', 'https://www.carfax.com/vehicle/1C4PJLDS0HW664123', 'https://www.carfax.com/vehicle/1C4PJMCS2GW332965', 'https://www.carfax.com/vehicle/1C4PJLDB0HW626701', 'https://www.carfax.com//vehicle/1C4PJLCX2KD396689', 'https://www.carfax.com/vehicle/1C4PJLCS1GW234018', 'https://www.carfax.com//vehicle/1C4PJLDB0HW626701', 'https://www.carfax.com//vehicle/1C4PJLLB9KD222378', 'https://www.carfax.com/vehicle/1C4PJMLB9KD299693']\n"
     ]
    }
   ],
   "source": [
    "links = list(set(links))\n",
    "print(links)"
   ]
  },
  {
   "cell_type": "code",
   "execution_count": 20,
   "metadata": {},
   "outputs": [
    {
     "name": "stdout",
     "output_type": "stream",
     "text": [
      "https://www.carfax.com/vehicle/1C4PJMDS8HW545404\n",
      "https://www.carfax.com/vehicle/1C4PJMCB3HD218289\n",
      "https://www.carfax.com/vehicle/1C4PJMDBXGW236810\n",
      "https://www.carfax.com/vehicle/1C4PJLDB5HW662965\n",
      "https://www.carfax.com/vehicle/1C4PJMCS9GW341467\n",
      "https://www.carfax.com/vehicle/1C4PJMCS2GW332965\n",
      "https://www.carfax.com/vehicle/1C4PJMCB8HW521427\n",
      "https://www.carfax.com/vehicle/1C4PJMCS9HW556624\n",
      "https://www.carfax.com/vehicle/1C4PJMDB4HW537767\n",
      "https://www.carfax.com/vehicle/1C4PJMDSXGW187284\n",
      "https://www.carfax.com/vehicle/1C4PJLLB9KD222378\n",
      "https://www.carfax.com/vehicle/1C4PJLCB3HW640769\n",
      "https://www.carfax.com/vehicle/1C4PJMCBXGW330414\n",
      "https://www.carfax.com/vehicle/1C4PJLDS0HW664123\n",
      "https://www.carfax.com/vehicle/1C4PJLCX2KD396689\n",
      "https://www.carfax.com/vehicle/1C4PJMDS6GW327959\n",
      "https://www.carfax.com/vehicle/1C4PJMLB9KD299693\n",
      "https://www.carfax.com/vehicle/1C4PJLCS1GW234018\n",
      "https://www.carfax.com/vehicle/1C4PJMCS4GW154380\n",
      "https://www.carfax.com/vehicle/1C4PJMJN8KD173841\n",
      "https://www.carfax.com/vehicle/1C4PJLCB0HD231897\n",
      "https://www.carfax.com/vehicle/1C4PJLDB2FW602686\n",
      "https://www.carfax.com/vehicle/1C4PJLDBXJD561566\n",
      "https://www.carfax.com/vehicle/1C4PJMBS3FW570890\n",
      "https://www.carfax.com/vehicle/1C4PJLDB0HW626701\n"
     ]
    }
   ],
   "source": [
    "clean_links = []\n",
    "data2 = []\n",
    "for link in links:\n",
    "    link = link.replace('.com//','.com/')\n",
    "    if(link not in clean_links):\n",
    "        clean_links.append(link)\n",
    "        print(link)\n",
    "        data2.append(CarFaxVehicleScrapper(link))"
   ]
  },
  {
   "cell_type": "code",
   "execution_count": 21,
   "metadata": {},
   "outputs": [
    {
     "data": {
      "text/plain": [
       "25"
      ]
     },
     "execution_count": 21,
     "metadata": {},
     "output_type": "execute_result"
    }
   ],
   "source": [
    "len(data2)"
   ]
  },
  {
   "cell_type": "code",
   "execution_count": 23,
   "metadata": {},
   "outputs": [
    {
     "data": {
      "text/plain": [
       "25"
      ]
     },
     "execution_count": 23,
     "metadata": {},
     "output_type": "execute_result"
    }
   ],
   "source": [
    "len(clean_links)"
   ]
  },
  {
   "cell_type": "code",
   "execution_count": 24,
   "metadata": {},
   "outputs": [
    {
     "data": {
      "text/plain": [
       "{'vin': '1C4PJMDS8HW545404',\n",
       " 'year': '2017',\n",
       " 'make': 'Jeep',\n",
       " 'model': 'Cherokee',\n",
       " 'trim': 'Limited',\n",
       " 'price': '$18,395',\n",
       " 'mileage': '30,379 miles',\n",
       " 'location': 'Garland, TX',\n",
       " 'ext_color': 'White',\n",
       " 'int_color': 'Black',\n",
       " 'drive_type': '4WD',\n",
       " 'transmission': 'Automatic',\n",
       " 'body_style': 'SUV',\n",
       " 'engine': '6 Cyl 3.2 L',\n",
       " 'fuel': 'Gasoline',\n",
       " 'mpg': '18',\n",
       " 'stock_num': 'XHW545404',\n",
       " 'dealer_info': {'vin': '1C4PJMDS8HW545404',\n",
       "  'dealer_name': 'Garland Cadillac',\n",
       "  'dealer_street': '11675 Lyndon B Johnson Fwy',\n",
       "  'dealer_city': 'Garland,',\n",
       "  'dealer_state': 'TX',\n",
       "  'dealer_zip': '75041',\n",
       "  'dealer_phone': '(855) 997-1753',\n",
       "  'stock_number': 'XHW545404'}}"
      ]
     },
     "execution_count": 24,
     "metadata": {},
     "output_type": "execute_result"
    }
   ],
   "source": [
    "data2[0]"
   ]
  },
  {
   "cell_type": "code",
   "execution_count": 26,
   "metadata": {},
   "outputs": [],
   "source": [
    "all_dealers = [x['dealer_info'] for x in data2]"
   ]
  },
  {
   "cell_type": "code",
   "execution_count": 27,
   "metadata": {},
   "outputs": [
    {
     "data": {
      "text/html": [
       "<div>\n",
       "<style scoped>\n",
       "    .dataframe tbody tr th:only-of-type {\n",
       "        vertical-align: middle;\n",
       "    }\n",
       "\n",
       "    .dataframe tbody tr th {\n",
       "        vertical-align: top;\n",
       "    }\n",
       "\n",
       "    .dataframe thead th {\n",
       "        text-align: right;\n",
       "    }\n",
       "</style>\n",
       "<table border=\"1\" class=\"dataframe\">\n",
       "  <thead>\n",
       "    <tr style=\"text-align: right;\">\n",
       "      <th></th>\n",
       "      <th>vin</th>\n",
       "      <th>dealer_name</th>\n",
       "      <th>dealer_street</th>\n",
       "      <th>dealer_city</th>\n",
       "      <th>dealer_state</th>\n",
       "      <th>dealer_zip</th>\n",
       "      <th>dealer_phone</th>\n",
       "      <th>stock_number</th>\n",
       "    </tr>\n",
       "  </thead>\n",
       "  <tbody>\n",
       "    <tr>\n",
       "      <th>0</th>\n",
       "      <td>1C4PJMDS8HW545404</td>\n",
       "      <td>Garland Cadillac</td>\n",
       "      <td>11675 Lyndon B Johnson Fwy</td>\n",
       "      <td>Garland,</td>\n",
       "      <td>TX</td>\n",
       "      <td>75041</td>\n",
       "      <td>(855) 997-1753</td>\n",
       "      <td>XHW545404</td>\n",
       "    </tr>\n",
       "    <tr>\n",
       "      <th>1</th>\n",
       "      <td>1C4PJMCB3HD218289</td>\n",
       "      <td>Driversselect</td>\n",
       "      <td>2615 W Interstate 20</td>\n",
       "      <td>Grand</td>\n",
       "      <td>Prairie,</td>\n",
       "      <td>TX</td>\n",
       "      <td>(844) 955-1616</td>\n",
       "      <td>PHD218289</td>\n",
       "    </tr>\n",
       "    <tr>\n",
       "      <th>2</th>\n",
       "      <td>1C4PJMDBXGW236810</td>\n",
       "      <td>Novak Motors</td>\n",
       "      <td>210 Airport Fwy</td>\n",
       "      <td>Bedford,</td>\n",
       "      <td>TX</td>\n",
       "      <td>76022</td>\n",
       "      <td>(844) 924-0439</td>\n",
       "      <td>125437</td>\n",
       "    </tr>\n",
       "    <tr>\n",
       "      <th>3</th>\n",
       "      <td>1C4PJLDB5HW662965</td>\n",
       "      <td>BMW of Grapevine</td>\n",
       "      <td>1111 E State Highway 114</td>\n",
       "      <td>Grapevine,</td>\n",
       "      <td>TX</td>\n",
       "      <td>76092</td>\n",
       "      <td>(844) 955-1632</td>\n",
       "      <td>5063520C</td>\n",
       "    </tr>\n",
       "    <tr>\n",
       "      <th>4</th>\n",
       "      <td>1C4PJMCS9GW341467</td>\n",
       "      <td>Novak Motors</td>\n",
       "      <td>210 Airport Fwy</td>\n",
       "      <td>Bedford,</td>\n",
       "      <td>TX</td>\n",
       "      <td>76022</td>\n",
       "      <td>(844) 924-0439</td>\n",
       "      <td>79663</td>\n",
       "    </tr>\n",
       "  </tbody>\n",
       "</table>\n",
       "</div>"
      ],
      "text/plain": [
       "                 vin       dealer_name               dealer_street  \\\n",
       "0  1C4PJMDS8HW545404  Garland Cadillac  11675 Lyndon B Johnson Fwy   \n",
       "1  1C4PJMCB3HD218289     Driversselect        2615 W Interstate 20   \n",
       "2  1C4PJMDBXGW236810      Novak Motors             210 Airport Fwy   \n",
       "3  1C4PJLDB5HW662965  BMW of Grapevine    1111 E State Highway 114   \n",
       "4  1C4PJMCS9GW341467      Novak Motors             210 Airport Fwy   \n",
       "\n",
       "  dealer_city dealer_state dealer_zip    dealer_phone stock_number  \n",
       "0    Garland,           TX      75041  (855) 997-1753    XHW545404  \n",
       "1       Grand     Prairie,         TX  (844) 955-1616    PHD218289  \n",
       "2    Bedford,           TX      76022  (844) 924-0439       125437  \n",
       "3  Grapevine,           TX      76092  (844) 955-1632     5063520C  \n",
       "4    Bedford,           TX      76022  (844) 924-0439        79663  "
      ]
     },
     "execution_count": 27,
     "metadata": {},
     "output_type": "execute_result"
    }
   ],
   "source": [
    "dealer_df = pd.DataFrame(all_dealers)\n",
    "dealer_df.head()"
   ]
  },
  {
   "cell_type": "code",
   "execution_count": null,
   "metadata": {},
   "outputs": [],
   "source": []
  },
  {
   "cell_type": "code",
   "execution_count": 28,
   "metadata": {},
   "outputs": [],
   "source": [
    "temp = soup.find(id='totalResultCount')"
   ]
  },
  {
   "cell_type": "code",
   "execution_count": null,
   "metadata": {},
   "outputs": [],
   "source": [
    "str(temp.contents[0]).strip()"
   ]
  },
  {
   "cell_type": "code",
   "execution_count": null,
   "metadata": {},
   "outputs": [],
   "source": []
  },
  {
   "cell_type": "code",
   "execution_count": null,
   "metadata": {},
   "outputs": [],
   "source": []
  },
  {
   "cell_type": "code",
   "execution_count": null,
   "metadata": {},
   "outputs": [],
   "source": []
  },
  {
   "cell_type": "code",
   "execution_count": null,
   "metadata": {},
   "outputs": [],
   "source": [
    "browser.quit()"
   ]
  }
 ],
 "metadata": {
  "kernelspec": {
   "display_name": "Python 3",
   "language": "python",
   "name": "python3"
  },
  "language_info": {
   "codemirror_mode": {
    "name": "ipython",
    "version": 3
   },
   "file_extension": ".py",
   "mimetype": "text/x-python",
   "name": "python",
   "nbconvert_exporter": "python",
   "pygments_lexer": "ipython3",
   "version": "3.7.7"
  }
 },
 "nbformat": 4,
 "nbformat_minor": 4
}
