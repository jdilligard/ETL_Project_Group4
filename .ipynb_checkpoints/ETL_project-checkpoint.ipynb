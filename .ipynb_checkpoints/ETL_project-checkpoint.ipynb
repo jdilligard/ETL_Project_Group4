{
 "cells": [
  {
   "cell_type": "code",
   "execution_count": 1,
   "metadata": {},
   "outputs": [],
   "source": [
    "#Import the important libraries\n",
    "from time import time,sleep\n",
    "from random import randint\n",
    "from IPython.core.display import clear_output\n",
    "from requests import get\n",
    "from bs4 import BeautifulSoup\n",
    "import matplotlib.pyplot as plt\n",
    "import pandas as pd\n",
    "import re \n",
    "\n",
    "from Scrapper import *"
   ]
  },
  {
   "cell_type": "code",
   "execution_count": 2,
   "metadata": {},
   "outputs": [],
   "source": [
    "executable_path = {'executable_path': r\"C:\\Users\\jdilligard\\Desktop\\chromedriver_win32\\chromedriver.exe\"}\n",
    "#browser = Browser('chrome', **executable_path, headless=False)"
   ]
  },
  {
   "cell_type": "code",
   "execution_count": 3,
   "metadata": {},
   "outputs": [],
   "source": [
    "url = 'https://www.carfax.com/Used-Jeep-Cherokee-Dallas-TX_w371_c18864'\n",
    "#browser.visit(url)"
   ]
  },
  {
   "cell_type": "code",
   "execution_count": 4,
   "metadata": {},
   "outputs": [],
   "source": [
    "#scraping webpage with beautiful soup\n",
    "response = get(url, timeout = 5)\n",
    "soup = BeautifulSoup(response.text, 'html.parser')"
   ]
  },
  {
   "cell_type": "code",
   "execution_count": 5,
   "metadata": {},
   "outputs": [
    {
     "name": "stdout",
     "output_type": "stream",
     "text": [
      "/vehicle/1C4PJMDSXGW187284\n"
     ]
    }
   ],
   "source": [
    "data = soup.find(id='listing_0').find('a')['href']\n",
    "print(data)"
   ]
  },
  {
   "cell_type": "code",
   "execution_count": 6,
   "metadata": {},
   "outputs": [],
   "source": [
    "links = []"
   ]
  },
  {
   "cell_type": "code",
   "execution_count": 7,
   "metadata": {},
   "outputs": [
    {
     "name": "stdout",
     "output_type": "stream",
     "text": [
      "https://www.carfax.com/vehicle/1C4PJMDSXGW187284\n",
      "https://www.carfax.com/vehicle/1C4PJMDSXGW187284\n",
      "https://www.carfax.com/vehicle/1C4PJLDBXJD561566\n",
      "https://www.carfax.com/vehicle/1C4PJLDBXJD561566\n",
      "https://www.carfax.com/vehicle/1C4PJLCB0HD231897\n",
      "https://www.carfax.com/vehicle/1C4PJLCB0HD231897\n",
      "https://www.carfax.com/vehicle/1C4PJLDB0HW626701\n",
      "https://www.carfax.com/vehicle/1C4PJLDB0HW626701\n",
      "https://www.carfax.com/vehicle/1C4PJMLB9KD299693\n",
      "https://www.carfax.com/vehicle/1C4PJMLB9KD299693\n",
      "https://www.carfax.com/vehicle/1C4PJLCX2KD396689\n",
      "https://www.carfax.com/vehicle/1C4PJLCX2KD396689\n",
      "https://www.carfax.com/vehicle/1C4PJLDS0HW664123\n",
      "https://www.carfax.com/vehicle/1C4PJLDS0HW664123\n",
      "https://www.carfax.com/vehicle/1C4PJLCSXGW362208\n",
      "https://www.carfax.com/vehicle/1C4PJLCSXGW362208\n",
      "https://www.carfax.com/vehicle/1C4PJLCBXKD487648\n",
      "https://www.carfax.com/vehicle/1C4PJLCBXKD487648\n",
      "https://www.carfax.com/vehicle/1C4PJLLB9KD222378\n",
      "https://www.carfax.com/vehicle/1C4PJLLB9KD222378\n",
      "https://www.carfax.com/vehicle/1C4PJLCB3HW640769\n",
      "https://www.carfax.com/vehicle/1C4PJLCB3HW640769\n",
      "https://www.carfax.com/vehicle/1C4PJMCB8HW521427\n",
      "https://www.carfax.com/vehicle/1C4PJMCB8HW521427\n",
      "https://www.carfax.com/vehicle/1C4PJLCSXGW304454\n",
      "https://www.carfax.com/vehicle/1C4PJLCSXGW304454\n",
      "https://www.carfax.com/vehicle/1C4PJMDS8HW545404\n",
      "https://www.carfax.com/vehicle/1C4PJMDS8HW545404\n",
      "https://www.carfax.com/vehicle/1C4PJLDB5HW662965\n",
      "https://www.carfax.com/vehicle/1C4PJLDB5HW662965\n",
      "https://www.carfax.com/vehicle/1C4PJMJN8KD173841\n",
      "https://www.carfax.com/vehicle/1C4PJMJN8KD173841\n",
      "https://www.carfax.com/vehicle/1C4PJMDS6GW327959\n",
      "https://www.carfax.com/vehicle/1C4PJMDS6GW327959\n",
      "https://www.carfax.com/vehicle/1C4PJMCB3HD218289\n",
      "https://www.carfax.com/vehicle/1C4PJMCB3HD218289\n",
      "https://www.carfax.com/vehicle/1C4PJMDB4HW537767\n",
      "https://www.carfax.com/vehicle/1C4PJMDB4HW537767\n",
      "https://www.carfax.com/vehicle/1C4PJMDBXGW236810\n",
      "https://www.carfax.com/vehicle/1C4PJMDBXGW236810\n",
      "https://www.carfax.com/vehicle/1C4PJMCS9GW341467\n",
      "https://www.carfax.com/vehicle/1C4PJMCS9GW341467\n",
      "https://www.carfax.com/vehicle/1C4PJMCS2GW332965\n",
      "https://www.carfax.com/vehicle/1C4PJMCS2GW332965\n",
      "https://www.carfax.com/vehicle/1C4PJMCBXGW330414\n",
      "https://www.carfax.com/vehicle/1C4PJMCBXGW330414\n",
      "https://www.carfax.com/vehicle/1C4PJMCS4GW154380\n",
      "https://www.carfax.com/vehicle/1C4PJMCS4GW154380\n",
      "https://www.carfax.com/vehicle/1C4PJMCBXHW582469\n",
      "https://www.carfax.com/vehicle/1C4PJMCBXHW582469\n"
     ]
    }
   ],
   "source": [
    "for link in soup.findAll('a', attrs={'href': re.compile(\"/vehicle/\")}):\n",
    "    #print(link.get('href'))\n",
    "    string = 'https://www.carfax.com' + link.get('href')\n",
    "    links.append(string)\n",
    "    print(string)"
   ]
  },
  {
   "cell_type": "code",
   "execution_count": 8,
   "metadata": {},
   "outputs": [
    {
     "name": "stdout",
     "output_type": "stream",
     "text": [
      "['https://www.carfax.com/vehicle/1C4PJMDSXGW187284', 'https://www.carfax.com/vehicle/1C4PJLCSXGW362208', 'https://www.carfax.com/vehicle/1C4PJLDB5HW662965', 'https://www.carfax.com/vehicle/1C4PJMCB3HD218289', 'https://www.carfax.com/vehicle/1C4PJMCB8HW521427', 'https://www.carfax.com/vehicle/1C4PJLCB3HW640769', 'https://www.carfax.com/vehicle/1C4PJMDBXGW236810', 'https://www.carfax.com/vehicle/1C4PJMCBXGW330414', 'https://www.carfax.com/vehicle/1C4PJLCBXKD487648', 'https://www.carfax.com/vehicle/1C4PJMJN8KD173841', 'https://www.carfax.com/vehicle/1C4PJMDS6GW327959', 'https://www.carfax.com/vehicle/1C4PJLLB9KD222378', 'https://www.carfax.com/vehicle/1C4PJMDS8HW545404', 'https://www.carfax.com/vehicle/1C4PJLCB0HD231897', 'https://www.carfax.com/vehicle/1C4PJMCBXHW582469', 'https://www.carfax.com/vehicle/1C4PJLDB0HW626701', 'https://www.carfax.com/vehicle/1C4PJMLB9KD299693', 'https://www.carfax.com/vehicle/1C4PJLCX2KD396689', 'https://www.carfax.com/vehicle/1C4PJLDS0HW664123', 'https://www.carfax.com/vehicle/1C4PJMCS2GW332965', 'https://www.carfax.com/vehicle/1C4PJMDB4HW537767', 'https://www.carfax.com/vehicle/1C4PJMCS9GW341467', 'https://www.carfax.com/vehicle/1C4PJMCS4GW154380', 'https://www.carfax.com/vehicle/1C4PJLCSXGW304454', 'https://www.carfax.com/vehicle/1C4PJLDBXJD561566']\n"
     ]
    }
   ],
   "source": [
    "links = list(set(links))\n",
    "print(links)"
   ]
  },
  {
   "cell_type": "code",
   "execution_count": 9,
   "metadata": {},
   "outputs": [
    {
     "name": "stdout",
     "output_type": "stream",
     "text": [
      "https://www.carfax.com/vehicle/1C4PJMDSXGW187284\n",
      "https://www.carfax.com/vehicle/1C4PJLCSXGW362208\n",
      "https://www.carfax.com/vehicle/1C4PJLDB5HW662965\n",
      "https://www.carfax.com/vehicle/1C4PJMCB3HD218289\n",
      "https://www.carfax.com/vehicle/1C4PJMCB8HW521427\n",
      "https://www.carfax.com/vehicle/1C4PJLCB3HW640769\n",
      "https://www.carfax.com/vehicle/1C4PJMDBXGW236810\n",
      "https://www.carfax.com/vehicle/1C4PJMCBXGW330414\n",
      "https://www.carfax.com/vehicle/1C4PJLCBXKD487648\n",
      "https://www.carfax.com/vehicle/1C4PJMJN8KD173841\n",
      "https://www.carfax.com/vehicle/1C4PJMDS6GW327959\n",
      "https://www.carfax.com/vehicle/1C4PJLLB9KD222378\n",
      "https://www.carfax.com/vehicle/1C4PJMDS8HW545404\n",
      "https://www.carfax.com/vehicle/1C4PJLCB0HD231897\n",
      "https://www.carfax.com/vehicle/1C4PJMCBXHW582469\n",
      "https://www.carfax.com/vehicle/1C4PJLDB0HW626701\n",
      "https://www.carfax.com/vehicle/1C4PJMLB9KD299693\n",
      "https://www.carfax.com/vehicle/1C4PJLCX2KD396689\n",
      "https://www.carfax.com/vehicle/1C4PJLDS0HW664123\n",
      "https://www.carfax.com/vehicle/1C4PJMCS2GW332965\n",
      "https://www.carfax.com/vehicle/1C4PJMDB4HW537767\n",
      "https://www.carfax.com/vehicle/1C4PJMCS9GW341467\n",
      "https://www.carfax.com/vehicle/1C4PJMCS4GW154380\n",
      "https://www.carfax.com/vehicle/1C4PJLCSXGW304454\n",
      "https://www.carfax.com/vehicle/1C4PJLDBXJD561566\n"
     ]
    }
   ],
   "source": [
    "clean_links = []\n",
    "data2 = []\n",
    "for link in links:\n",
    "    link = link.replace('.com//','.com/')\n",
    "    if(link not in clean_links):\n",
    "        clean_links.append(link)\n",
    "        print(link)\n",
    "        data2.append(CarFaxVehicleScrapper(link))"
   ]
  },
  {
   "cell_type": "code",
   "execution_count": 10,
   "metadata": {},
   "outputs": [
    {
     "data": {
      "text/plain": [
       "25"
      ]
     },
     "execution_count": 10,
     "metadata": {},
     "output_type": "execute_result"
    }
   ],
   "source": [
    "len(data2)"
   ]
  },
  {
   "cell_type": "code",
   "execution_count": 11,
   "metadata": {},
   "outputs": [
    {
     "data": {
      "text/plain": [
       "25"
      ]
     },
     "execution_count": 11,
     "metadata": {},
     "output_type": "execute_result"
    }
   ],
   "source": [
    "len(clean_links)"
   ]
  },
  {
   "cell_type": "code",
   "execution_count": null,
   "metadata": {},
   "outputs": [],
   "source": []
  },
  {
   "cell_type": "code",
   "execution_count": 12,
   "metadata": {},
   "outputs": [],
   "source": [
    "#dealer info"
   ]
  },
  {
   "cell_type": "code",
   "execution_count": 13,
   "metadata": {},
   "outputs": [
    {
     "data": {
      "text/plain": [
       "{'vin': '1C4PJMDSXGW187284',\n",
       " 'year': '2016',\n",
       " 'make': 'Jeep',\n",
       " 'model': 'Cherokee',\n",
       " 'trim': 'Limited',\n",
       " 'price': '$18,250',\n",
       " 'mileage': '42,081 miles',\n",
       " 'location': 'Grapevine, TX',\n",
       " 'ext_color': 'Black',\n",
       " 'int_color': 'Tan',\n",
       " 'drive_type': '4WD',\n",
       " 'transmission': 'Automatic',\n",
       " 'body_style': 'SUV',\n",
       " 'engine': '6 Cyl 3.2 L',\n",
       " 'fuel': 'Gasoline',\n",
       " 'mpg': '19',\n",
       " 'stock_num': 'GW187284',\n",
       " 'dealer_info': {'vin': '1C4PJMDSXGW187284',\n",
       "  'dealer_name': 'Grubbs Infiniti',\n",
       "  'dealer_street': '1500 E State Highway 114',\n",
       "  'dealer_city': 'Grapevine,',\n",
       "  'dealer_state': 'TX',\n",
       "  'dealer_zip': '76092',\n",
       "  'dealer_phone': '(844) 928-1616',\n",
       "  'stock_number': 'GW187284'}}"
      ]
     },
     "execution_count": 13,
     "metadata": {},
     "output_type": "execute_result"
    }
   ],
   "source": [
    "data2[0]"
   ]
  },
  {
   "cell_type": "code",
   "execution_count": 14,
   "metadata": {},
   "outputs": [],
   "source": [
    "all_dealers = [x['dealer_info'] for x in data2]"
   ]
  },
  {
   "cell_type": "code",
   "execution_count": 15,
   "metadata": {},
   "outputs": [
    {
     "data": {
      "text/plain": [
       "[{'vin': '1C4PJMDSXGW187284',\n",
       "  'dealer_name': 'Grubbs Infiniti',\n",
       "  'dealer_street': '1500 E State Highway 114',\n",
       "  'dealer_city': 'Grapevine,',\n",
       "  'dealer_state': 'TX',\n",
       "  'dealer_zip': '76092',\n",
       "  'dealer_phone': '(844) 928-1616',\n",
       "  'stock_number': 'GW187284'},\n",
       " {'vin': '1C4PJLCSXGW362208',\n",
       "  'dealer_name': 'Audi Dallas',\n",
       "  'dealer_street': '5033 Lemmon Ave',\n",
       "  'dealer_city': 'Dallas,',\n",
       "  'dealer_state': 'TX',\n",
       "  'dealer_zip': '75209',\n",
       "  'dealer_phone': '(833) 629-7680',\n",
       "  'stock_number': 'GW362208'},\n",
       " {'vin': '1C4PJLDB5HW662965',\n",
       "  'dealer_name': 'BMW of Grapevine',\n",
       "  'dealer_street': '1111 E State Highway 114',\n",
       "  'dealer_city': 'Grapevine,',\n",
       "  'dealer_state': 'TX',\n",
       "  'dealer_zip': '76092',\n",
       "  'dealer_phone': '(844) 955-1632',\n",
       "  'stock_number': '5063520C'},\n",
       " {'vin': '1C4PJMCB3HD218289',\n",
       "  'dealer_name': 'Driversselect',\n",
       "  'dealer_street': '2615 W Interstate 20',\n",
       "  'dealer_city': 'Grand',\n",
       "  'dealer_state': 'Prairie,',\n",
       "  'dealer_zip': 'TX',\n",
       "  'dealer_phone': '(844) 955-1616',\n",
       "  'stock_number': 'PHD218289'},\n",
       " {'vin': '1C4PJMCB8HW521427',\n",
       "  'dealer_name': 'Novak Motors',\n",
       "  'dealer_street': '210 Airport Fwy',\n",
       "  'dealer_city': 'Bedford,',\n",
       "  'dealer_state': 'TX',\n",
       "  'dealer_zip': '76022',\n",
       "  'dealer_phone': '(844) 924-0439',\n",
       "  'stock_number': '85091'},\n",
       " {'vin': '1C4PJLCB3HW640769',\n",
       "  'dealer_name': 'C3 Auto.com',\n",
       "  'dealer_street': '3101 Premier Dr',\n",
       "  'dealer_city': 'Plano,',\n",
       "  'dealer_state': 'TX',\n",
       "  'dealer_zip': '75075',\n",
       "  'dealer_phone': '(855) 967-1149',\n",
       "  'stock_number': 'P5199'},\n",
       " {'vin': '1C4PJMDBXGW236810',\n",
       "  'dealer_name': 'Novak Motors',\n",
       "  'dealer_street': '210 Airport Fwy',\n",
       "  'dealer_city': 'Bedford,',\n",
       "  'dealer_state': 'TX',\n",
       "  'dealer_zip': '76022',\n",
       "  'dealer_phone': '(844) 924-0439',\n",
       "  'stock_number': '125437'},\n",
       " {'vin': '1C4PJMCBXGW330414',\n",
       "  'dealer_name': 'Novak Motors',\n",
       "  'dealer_street': '210 Airport Fwy',\n",
       "  'dealer_city': 'Bedford,',\n",
       "  'dealer_state': 'TX',\n",
       "  'dealer_zip': '76022',\n",
       "  'dealer_phone': '(844) 924-0439',\n",
       "  'stock_number': '71598'},\n",
       " {'vin': '1C4PJLCBXKD487648',\n",
       "  'dealer_name': 'Toyota of Richardson',\n",
       "  'dealer_street': '1221 N Central Expy',\n",
       "  'dealer_city': 'Richardson,',\n",
       "  'dealer_state': 'TX',\n",
       "  'dealer_zip': '75080',\n",
       "  'dealer_phone': '(844) 435-8242',\n",
       "  'stock_number': 'KD487648'},\n",
       " {'vin': '1C4PJMJN8KD173841',\n",
       "  'dealer_name': 'P.M. Standley Motorcars',\n",
       "  'dealer_street': '1835 Forms Dr',\n",
       "  'dealer_city': 'Carrollton,',\n",
       "  'dealer_state': 'TX',\n",
       "  'dealer_zip': '75006',\n",
       "  'dealer_phone': '(844) 356-4245',\n",
       "  'stock_number': 'KD173841'},\n",
       " {'vin': '1C4PJMDS6GW327959',\n",
       "  'dealer_name': 'Novak Motors',\n",
       "  'dealer_street': '210 Airport Fwy',\n",
       "  'dealer_city': 'Bedford,',\n",
       "  'dealer_state': 'TX',\n",
       "  'dealer_zip': '76022',\n",
       "  'dealer_phone': '(844) 924-0439',\n",
       "  'stock_number': '72811'},\n",
       " {'vin': '1C4PJLLB9KD222378',\n",
       "  'dealer_name': 'Ewing Subaru of Plano',\n",
       "  'dealer_street': '1555 Dallas Pkwy',\n",
       "  'dealer_city': 'Plano,',\n",
       "  'dealer_state': 'TX',\n",
       "  'dealer_zip': '75093',\n",
       "  'dealer_phone': '(833) 223-7685',\n",
       "  'stock_number': 'S541414A'},\n",
       " {'vin': '1C4PJMDS8HW545404',\n",
       "  'dealer_name': 'Garland Cadillac',\n",
       "  'dealer_street': '11675 Lyndon B Johnson Fwy',\n",
       "  'dealer_city': 'Garland,',\n",
       "  'dealer_state': 'TX',\n",
       "  'dealer_zip': '75041',\n",
       "  'dealer_phone': '(855) 997-1753',\n",
       "  'stock_number': 'XHW545404'},\n",
       " {'vin': '1C4PJLCB0HD231897',\n",
       "  'dealer_name': 'Nissan Of Lewisville',\n",
       "  'dealer_street': '1601 S Stemmons Fwy',\n",
       "  'dealer_city': 'Lewisville,',\n",
       "  'dealer_state': 'TX',\n",
       "  'dealer_zip': '75067',\n",
       "  'dealer_phone': '(833) 959-1331',\n",
       "  'stock_number': 'HD231897'},\n",
       " {'vin': '1C4PJMCBXHW582469',\n",
       "  'dealer_name': 'Novak Motors',\n",
       "  'dealer_street': '210 Airport Fwy',\n",
       "  'dealer_city': 'Bedford,',\n",
       "  'dealer_state': 'TX',\n",
       "  'dealer_zip': '76022',\n",
       "  'dealer_phone': '(844) 924-0439',\n",
       "  'stock_number': '88534'},\n",
       " {'vin': '1C4PJLDB0HW626701',\n",
       "  'dealer_name': 'Moritz Kia of Hurst',\n",
       "  'dealer_street': '110 NE Loop 820',\n",
       "  'dealer_city': 'Hurst,',\n",
       "  'dealer_state': 'TX',\n",
       "  'dealer_zip': '76053',\n",
       "  'dealer_phone': '(833) 309-0706',\n",
       "  'stock_number': 'W211552A'},\n",
       " {'vin': '1C4PJMLB9KD299693',\n",
       "  'dealer_name': 'Certified Autoplex Inc.',\n",
       "  'dealer_street': '3340 Belt Line Rd',\n",
       "  'dealer_city': 'Dallas,',\n",
       "  'dealer_state': 'TX',\n",
       "  'dealer_zip': '75234',\n",
       "  'dealer_phone': '(844) 220-7163',\n",
       "  'stock_number': 'KD299693'},\n",
       " {'vin': '1C4PJLCX2KD396689',\n",
       "  'dealer_name': 'Autos of Dallas',\n",
       "  'dealer_street': '4472 W Plano Pkwy',\n",
       "  'dealer_city': 'Plano,',\n",
       "  'dealer_state': 'TX',\n",
       "  'dealer_zip': '75093',\n",
       "  'dealer_phone': '(972) 284-0341',\n",
       "  'stock_number': 'S396689'},\n",
       " {'vin': '1C4PJLDS0HW664123',\n",
       "  'dealer_name': 'Driversselect',\n",
       "  'dealer_street': '2615 W Interstate 20',\n",
       "  'dealer_city': 'Grand',\n",
       "  'dealer_state': 'Prairie,',\n",
       "  'dealer_zip': 'TX',\n",
       "  'dealer_phone': '(844) 955-1616',\n",
       "  'stock_number': 'PHW664123'},\n",
       " {'vin': '1C4PJMCS2GW332965',\n",
       "  'dealer_name': 'Huffines Chrysler Jeep Dodge Ram - Lewisville',\n",
       "  'dealer_street': '1024 S Stemmons Fwy # I-35e',\n",
       "  'dealer_city': 'Lewisville,',\n",
       "  'dealer_state': 'TX',\n",
       "  'dealer_zip': '75067',\n",
       "  'dealer_phone': '(844) 931-1903',\n",
       "  'stock_number': 'B4790A'},\n",
       " {'vin': '1C4PJMDB4HW537767',\n",
       "  'dealer_name': 'Novak Motors',\n",
       "  'dealer_street': '210 Airport Fwy',\n",
       "  'dealer_city': 'Bedford,',\n",
       "  'dealer_state': 'TX',\n",
       "  'dealer_zip': '76022',\n",
       "  'dealer_phone': '(844) 924-0439',\n",
       "  'stock_number': '88420'},\n",
       " {'vin': '1C4PJMCS9GW341467',\n",
       "  'dealer_name': 'Novak Motors',\n",
       "  'dealer_street': '210 Airport Fwy',\n",
       "  'dealer_city': 'Bedford,',\n",
       "  'dealer_state': 'TX',\n",
       "  'dealer_zip': '76022',\n",
       "  'dealer_phone': '(844) 924-0439',\n",
       "  'stock_number': '79663'},\n",
       " {'vin': '1C4PJMCS4GW154380',\n",
       "  'dealer_name': 'Novak Motors',\n",
       "  'dealer_street': '210 Airport Fwy',\n",
       "  'dealer_city': 'Bedford,',\n",
       "  'dealer_state': 'TX',\n",
       "  'dealer_zip': '76022',\n",
       "  'dealer_phone': '(844) 924-0439',\n",
       "  'stock_number': '65530'},\n",
       " {'vin': '1C4PJLCSXGW304454',\n",
       "  'dealer_name': 'Dallas Lease Returns',\n",
       "  'dealer_street': '14335 INWOOD RD',\n",
       "  'dealer_city': 'DALLAS,',\n",
       "  'dealer_state': 'TX',\n",
       "  'dealer_zip': '75244',\n",
       "  'dealer_phone': '(469) 217-6167',\n",
       "  'stock_number': '304454'},\n",
       " {'vin': '1C4PJLDBXJD561566',\n",
       "  'dealer_name': 'Huggins Honda',\n",
       "  'dealer_street': '7551 NE Loop 820',\n",
       "  'dealer_city': 'North',\n",
       "  'dealer_state': 'Richland',\n",
       "  'dealer_zip': 'Hills,',\n",
       "  'dealer_phone': '(833) 932-0947',\n",
       "  'stock_number': 'U561566'}]"
      ]
     },
     "execution_count": 15,
     "metadata": {},
     "output_type": "execute_result"
    }
   ],
   "source": [
    "all_dealers "
   ]
  },
  {
   "cell_type": "code",
   "execution_count": 16,
   "metadata": {},
   "outputs": [
    {
     "data": {
      "text/html": [
       "<div>\n",
       "<style scoped>\n",
       "    .dataframe tbody tr th:only-of-type {\n",
       "        vertical-align: middle;\n",
       "    }\n",
       "\n",
       "    .dataframe tbody tr th {\n",
       "        vertical-align: top;\n",
       "    }\n",
       "\n",
       "    .dataframe thead th {\n",
       "        text-align: right;\n",
       "    }\n",
       "</style>\n",
       "<table border=\"1\" class=\"dataframe\">\n",
       "  <thead>\n",
       "    <tr style=\"text-align: right;\">\n",
       "      <th></th>\n",
       "      <th>vin</th>\n",
       "      <th>dealer_name</th>\n",
       "      <th>dealer_street</th>\n",
       "      <th>dealer_city</th>\n",
       "      <th>dealer_state</th>\n",
       "      <th>dealer_zip</th>\n",
       "      <th>dealer_phone</th>\n",
       "      <th>stock_number</th>\n",
       "    </tr>\n",
       "  </thead>\n",
       "  <tbody>\n",
       "    <tr>\n",
       "      <th>0</th>\n",
       "      <td>1C4PJMDSXGW187284</td>\n",
       "      <td>Grubbs Infiniti</td>\n",
       "      <td>1500 E State Highway 114</td>\n",
       "      <td>Grapevine,</td>\n",
       "      <td>TX</td>\n",
       "      <td>76092</td>\n",
       "      <td>(844) 928-1616</td>\n",
       "      <td>GW187284</td>\n",
       "    </tr>\n",
       "    <tr>\n",
       "      <th>1</th>\n",
       "      <td>1C4PJLCSXGW362208</td>\n",
       "      <td>Audi Dallas</td>\n",
       "      <td>5033 Lemmon Ave</td>\n",
       "      <td>Dallas,</td>\n",
       "      <td>TX</td>\n",
       "      <td>75209</td>\n",
       "      <td>(833) 629-7680</td>\n",
       "      <td>GW362208</td>\n",
       "    </tr>\n",
       "    <tr>\n",
       "      <th>2</th>\n",
       "      <td>1C4PJLDB5HW662965</td>\n",
       "      <td>BMW of Grapevine</td>\n",
       "      <td>1111 E State Highway 114</td>\n",
       "      <td>Grapevine,</td>\n",
       "      <td>TX</td>\n",
       "      <td>76092</td>\n",
       "      <td>(844) 955-1632</td>\n",
       "      <td>5063520C</td>\n",
       "    </tr>\n",
       "    <tr>\n",
       "      <th>3</th>\n",
       "      <td>1C4PJMCB3HD218289</td>\n",
       "      <td>Driversselect</td>\n",
       "      <td>2615 W Interstate 20</td>\n",
       "      <td>Grand</td>\n",
       "      <td>Prairie,</td>\n",
       "      <td>TX</td>\n",
       "      <td>(844) 955-1616</td>\n",
       "      <td>PHD218289</td>\n",
       "    </tr>\n",
       "    <tr>\n",
       "      <th>4</th>\n",
       "      <td>1C4PJMCB8HW521427</td>\n",
       "      <td>Novak Motors</td>\n",
       "      <td>210 Airport Fwy</td>\n",
       "      <td>Bedford,</td>\n",
       "      <td>TX</td>\n",
       "      <td>76022</td>\n",
       "      <td>(844) 924-0439</td>\n",
       "      <td>85091</td>\n",
       "    </tr>\n",
       "  </tbody>\n",
       "</table>\n",
       "</div>"
      ],
      "text/plain": [
       "                 vin       dealer_name             dealer_street dealer_city  \\\n",
       "0  1C4PJMDSXGW187284   Grubbs Infiniti  1500 E State Highway 114  Grapevine,   \n",
       "1  1C4PJLCSXGW362208       Audi Dallas           5033 Lemmon Ave     Dallas,   \n",
       "2  1C4PJLDB5HW662965  BMW of Grapevine  1111 E State Highway 114  Grapevine,   \n",
       "3  1C4PJMCB3HD218289     Driversselect      2615 W Interstate 20       Grand   \n",
       "4  1C4PJMCB8HW521427      Novak Motors           210 Airport Fwy    Bedford,   \n",
       "\n",
       "  dealer_state dealer_zip    dealer_phone stock_number  \n",
       "0           TX      76092  (844) 928-1616     GW187284  \n",
       "1           TX      75209  (833) 629-7680     GW362208  \n",
       "2           TX      76092  (844) 955-1632     5063520C  \n",
       "3     Prairie,         TX  (844) 955-1616    PHD218289  \n",
       "4           TX      76022  (844) 924-0439        85091  "
      ]
     },
     "execution_count": 16,
     "metadata": {},
     "output_type": "execute_result"
    }
   ],
   "source": [
    "dealer_df = pd.DataFrame(all_dealers)\n",
    "dealer_df.head()"
   ]
  },
  {
   "cell_type": "code",
   "execution_count": null,
   "metadata": {},
   "outputs": [],
   "source": []
  },
  {
   "cell_type": "code",
   "execution_count": 17,
   "metadata": {},
   "outputs": [],
   "source": [
    "temp = soup.find(id='totalResultCount')"
   ]
  },
  {
   "cell_type": "code",
   "execution_count": 18,
   "metadata": {},
   "outputs": [
    {
     "data": {
      "text/plain": [
       "'187'"
      ]
     },
     "execution_count": 18,
     "metadata": {},
     "output_type": "execute_result"
    }
   ],
   "source": [
    "str(temp.contents[0]).strip()"
   ]
  },
  {
   "cell_type": "code",
   "execution_count": 19,
   "metadata": {},
   "outputs": [],
   "source": [
    "#Car_description table"
   ]
  },
  {
   "cell_type": "code",
   "execution_count": 20,
   "metadata": {},
   "outputs": [],
   "source": [
    "vin= [k['vin'] for k in data2]\n",
    "make=[k['make'] for k in data2]\n",
    "model=[k['model'] for k in data2]\n",
    "ext_color= [k['ext_color'] for k in data2]\n",
    "int_color= [k['int_color'] for k in data2]\n",
    "body_style= [k['body_style'] for k in data2]\n",
    "year= [k['year'] for k in data2]"
   ]
  },
  {
   "cell_type": "code",
   "execution_count": 21,
   "metadata": {},
   "outputs": [],
   "source": [
    "list_of_descriptions= list(zip(vin,make,model,ext_color,int_color,body_style,year))"
   ]
  },
  {
   "cell_type": "code",
   "execution_count": 22,
   "metadata": {},
   "outputs": [
    {
     "data": {
      "text/html": [
       "<div>\n",
       "<style scoped>\n",
       "    .dataframe tbody tr th:only-of-type {\n",
       "        vertical-align: middle;\n",
       "    }\n",
       "\n",
       "    .dataframe tbody tr th {\n",
       "        vertical-align: top;\n",
       "    }\n",
       "\n",
       "    .dataframe thead th {\n",
       "        text-align: right;\n",
       "    }\n",
       "</style>\n",
       "<table border=\"1\" class=\"dataframe\">\n",
       "  <thead>\n",
       "    <tr style=\"text-align: right;\">\n",
       "      <th></th>\n",
       "      <th>vin</th>\n",
       "      <th>make</th>\n",
       "      <th>model</th>\n",
       "      <th>ext_color</th>\n",
       "      <th>int_color</th>\n",
       "      <th>body_style</th>\n",
       "      <th>year</th>\n",
       "    </tr>\n",
       "  </thead>\n",
       "  <tbody>\n",
       "    <tr>\n",
       "      <th>0</th>\n",
       "      <td>1C4PJMDSXGW187284</td>\n",
       "      <td>Jeep</td>\n",
       "      <td>Cherokee</td>\n",
       "      <td>Black</td>\n",
       "      <td>Tan</td>\n",
       "      <td>SUV</td>\n",
       "      <td>2016</td>\n",
       "    </tr>\n",
       "    <tr>\n",
       "      <th>1</th>\n",
       "      <td>1C4PJLCSXGW362208</td>\n",
       "      <td>Jeep</td>\n",
       "      <td>Cherokee</td>\n",
       "      <td>Silver</td>\n",
       "      <td>Black</td>\n",
       "      <td>SUV</td>\n",
       "      <td>2016</td>\n",
       "    </tr>\n",
       "    <tr>\n",
       "      <th>2</th>\n",
       "      <td>1C4PJLDB5HW662965</td>\n",
       "      <td>Jeep</td>\n",
       "      <td>Cherokee</td>\n",
       "      <td>Black</td>\n",
       "      <td>Black</td>\n",
       "      <td>SUV</td>\n",
       "      <td>2017</td>\n",
       "    </tr>\n",
       "    <tr>\n",
       "      <th>3</th>\n",
       "      <td>1C4PJMCB3HD218289</td>\n",
       "      <td>Jeep</td>\n",
       "      <td>Cherokee</td>\n",
       "      <td>Silver</td>\n",
       "      <td>Black</td>\n",
       "      <td>SUV</td>\n",
       "      <td>2017</td>\n",
       "    </tr>\n",
       "    <tr>\n",
       "      <th>4</th>\n",
       "      <td>1C4PJMCB8HW521427</td>\n",
       "      <td>Jeep</td>\n",
       "      <td>Cherokee</td>\n",
       "      <td>Gray</td>\n",
       "      <td>Black</td>\n",
       "      <td>SUV</td>\n",
       "      <td>2017</td>\n",
       "    </tr>\n",
       "  </tbody>\n",
       "</table>\n",
       "</div>"
      ],
      "text/plain": [
       "                 vin  make     model ext_color int_color body_style  year\n",
       "0  1C4PJMDSXGW187284  Jeep  Cherokee     Black       Tan        SUV  2016\n",
       "1  1C4PJLCSXGW362208  Jeep  Cherokee    Silver     Black        SUV  2016\n",
       "2  1C4PJLDB5HW662965  Jeep  Cherokee     Black     Black        SUV  2017\n",
       "3  1C4PJMCB3HD218289  Jeep  Cherokee    Silver     Black        SUV  2017\n",
       "4  1C4PJMCB8HW521427  Jeep  Cherokee      Gray     Black        SUV  2017"
      ]
     },
     "execution_count": 22,
     "metadata": {},
     "output_type": "execute_result"
    }
   ],
   "source": [
    "car_descriptions_df=  pd.DataFrame(list_of_descriptions, columns=['vin','make','model','ext_color','int_color','body_style','year'])\n",
    "\n",
    "car_descriptions_df.head()"
   ]
  },
  {
   "cell_type": "code",
   "execution_count": 23,
   "metadata": {},
   "outputs": [],
   "source": [
    "####Vehicle Info"
   ]
  },
  {
   "cell_type": "code",
   "execution_count": 24,
   "metadata": {},
   "outputs": [],
   "source": [
    "mileage= [k['mileage'] for k in data2]\n",
    "location= [k['location'] for k in data2]"
   ]
  },
  {
   "cell_type": "code",
   "execution_count": 25,
   "metadata": {},
   "outputs": [],
   "source": [
    "v_info_list = list(zip(vin,mileage,location))"
   ]
  },
  {
   "cell_type": "code",
   "execution_count": 26,
   "metadata": {},
   "outputs": [
    {
     "data": {
      "text/html": [
       "<div>\n",
       "<style scoped>\n",
       "    .dataframe tbody tr th:only-of-type {\n",
       "        vertical-align: middle;\n",
       "    }\n",
       "\n",
       "    .dataframe tbody tr th {\n",
       "        vertical-align: top;\n",
       "    }\n",
       "\n",
       "    .dataframe thead th {\n",
       "        text-align: right;\n",
       "    }\n",
       "</style>\n",
       "<table border=\"1\" class=\"dataframe\">\n",
       "  <thead>\n",
       "    <tr style=\"text-align: right;\">\n",
       "      <th></th>\n",
       "      <th>vin</th>\n",
       "      <th>mileage</th>\n",
       "      <th>location</th>\n",
       "    </tr>\n",
       "  </thead>\n",
       "  <tbody>\n",
       "    <tr>\n",
       "      <th>0</th>\n",
       "      <td>1C4PJMDSXGW187284</td>\n",
       "      <td>42,081 miles</td>\n",
       "      <td>Grapevine, TX</td>\n",
       "    </tr>\n",
       "    <tr>\n",
       "      <th>1</th>\n",
       "      <td>1C4PJLCSXGW362208</td>\n",
       "      <td>36,616 miles</td>\n",
       "      <td>Dallas, TX</td>\n",
       "    </tr>\n",
       "    <tr>\n",
       "      <th>2</th>\n",
       "      <td>1C4PJLDB5HW662965</td>\n",
       "      <td>33,813 miles</td>\n",
       "      <td>Grapevine, TX</td>\n",
       "    </tr>\n",
       "    <tr>\n",
       "      <th>3</th>\n",
       "      <td>1C4PJMCB3HD218289</td>\n",
       "      <td>25,212 miles</td>\n",
       "      <td>Grand Prairie, TX</td>\n",
       "    </tr>\n",
       "    <tr>\n",
       "      <th>4</th>\n",
       "      <td>1C4PJMCB8HW521427</td>\n",
       "      <td>27,613 miles</td>\n",
       "      <td>Bedford, TX</td>\n",
       "    </tr>\n",
       "  </tbody>\n",
       "</table>\n",
       "</div>"
      ],
      "text/plain": [
       "                 vin       mileage           location\n",
       "0  1C4PJMDSXGW187284  42,081 miles      Grapevine, TX\n",
       "1  1C4PJLCSXGW362208  36,616 miles         Dallas, TX\n",
       "2  1C4PJLDB5HW662965  33,813 miles      Grapevine, TX\n",
       "3  1C4PJMCB3HD218289  25,212 miles  Grand Prairie, TX\n",
       "4  1C4PJMCB8HW521427  27,613 miles        Bedford, TX"
      ]
     },
     "execution_count": 26,
     "metadata": {},
     "output_type": "execute_result"
    }
   ],
   "source": [
    "v_info_df= pd.DataFrame(v_info_list, columns=['vin','mileage','location'])\n",
    "\n",
    "v_info_df.head()"
   ]
  },
  {
   "cell_type": "code",
   "execution_count": 27,
   "metadata": {},
   "outputs": [],
   "source": [
    "###Drive train info"
   ]
  },
  {
   "cell_type": "code",
   "execution_count": 28,
   "metadata": {},
   "outputs": [],
   "source": [
    "drive_type= [k['drive_type'] for k in data2]\n",
    "engine= [k['engine'] for k in data2]\n",
    "transmission= [k['transmission'] for k in data2]\n",
    "mpg= [k['mpg'] for k in data2]\n",
    "fuel= [k['fuel'] for k in data2]"
   ]
  },
  {
   "cell_type": "code",
   "execution_count": 29,
   "metadata": {},
   "outputs": [],
   "source": [
    "drive_train_list= list(zip(vin,drive_type,engine,transmission,mpg,fuel))"
   ]
  },
  {
   "cell_type": "code",
   "execution_count": 30,
   "metadata": {},
   "outputs": [
    {
     "data": {
      "text/html": [
       "<div>\n",
       "<style scoped>\n",
       "    .dataframe tbody tr th:only-of-type {\n",
       "        vertical-align: middle;\n",
       "    }\n",
       "\n",
       "    .dataframe tbody tr th {\n",
       "        vertical-align: top;\n",
       "    }\n",
       "\n",
       "    .dataframe thead th {\n",
       "        text-align: right;\n",
       "    }\n",
       "</style>\n",
       "<table border=\"1\" class=\"dataframe\">\n",
       "  <thead>\n",
       "    <tr style=\"text-align: right;\">\n",
       "      <th></th>\n",
       "      <th>vin</th>\n",
       "      <th>drive_type</th>\n",
       "      <th>engine</th>\n",
       "      <th>transmission</th>\n",
       "      <th>mpg</th>\n",
       "      <th>fuel</th>\n",
       "    </tr>\n",
       "  </thead>\n",
       "  <tbody>\n",
       "    <tr>\n",
       "      <th>0</th>\n",
       "      <td>1C4PJMDSXGW187284</td>\n",
       "      <td>4WD</td>\n",
       "      <td>6 Cyl 3.2 L</td>\n",
       "      <td>Automatic</td>\n",
       "      <td>19</td>\n",
       "      <td>Gasoline</td>\n",
       "    </tr>\n",
       "    <tr>\n",
       "      <th>1</th>\n",
       "      <td>1C4PJLCSXGW362208</td>\n",
       "      <td>FWD</td>\n",
       "      <td>6 Cyl 3.2 L</td>\n",
       "      <td>Automatic</td>\n",
       "      <td>21</td>\n",
       "      <td>Gasoline</td>\n",
       "    </tr>\n",
       "    <tr>\n",
       "      <th>2</th>\n",
       "      <td>1C4PJLDB5HW662965</td>\n",
       "      <td>FWD</td>\n",
       "      <td>4 Cyl 2.4 L</td>\n",
       "      <td>Automatic</td>\n",
       "      <td>21</td>\n",
       "      <td>Gasoline</td>\n",
       "    </tr>\n",
       "    <tr>\n",
       "      <th>3</th>\n",
       "      <td>1C4PJMCB3HD218289</td>\n",
       "      <td>4WD</td>\n",
       "      <td>4 Cyl 2.4 L</td>\n",
       "      <td>Automatic</td>\n",
       "      <td>21</td>\n",
       "      <td>Gasoline</td>\n",
       "    </tr>\n",
       "    <tr>\n",
       "      <th>4</th>\n",
       "      <td>1C4PJMCB8HW521427</td>\n",
       "      <td>4WD</td>\n",
       "      <td>4 Cyl 2.4 L</td>\n",
       "      <td>Automatic</td>\n",
       "      <td>21</td>\n",
       "      <td>Gasoline</td>\n",
       "    </tr>\n",
       "  </tbody>\n",
       "</table>\n",
       "</div>"
      ],
      "text/plain": [
       "                 vin drive_type       engine transmission mpg      fuel\n",
       "0  1C4PJMDSXGW187284        4WD  6 Cyl 3.2 L    Automatic  19  Gasoline\n",
       "1  1C4PJLCSXGW362208        FWD  6 Cyl 3.2 L    Automatic  21  Gasoline\n",
       "2  1C4PJLDB5HW662965        FWD  4 Cyl 2.4 L    Automatic  21  Gasoline\n",
       "3  1C4PJMCB3HD218289        4WD  4 Cyl 2.4 L    Automatic  21  Gasoline\n",
       "4  1C4PJMCB8HW521427        4WD  4 Cyl 2.4 L    Automatic  21  Gasoline"
      ]
     },
     "execution_count": 30,
     "metadata": {},
     "output_type": "execute_result"
    }
   ],
   "source": [
    "drive_train_df= pd.DataFrame(drive_train_list, columns= ['vin','drive_type','engine', 'transmission', 'mpg', 'fuel'])\n",
    "\n",
    "drive_train_df.head()"
   ]
  },
  {
   "cell_type": "code",
   "execution_count": 31,
   "metadata": {},
   "outputs": [],
   "source": [
    "###orice info"
   ]
  },
  {
   "cell_type": "code",
   "execution_count": 32,
   "metadata": {},
   "outputs": [],
   "source": [
    "price= [x['price'] for x in data2]"
   ]
  },
  {
   "cell_type": "code",
   "execution_count": 33,
   "metadata": {},
   "outputs": [],
   "source": [
    "price_list= list(zip(vin,price))"
   ]
  },
  {
   "cell_type": "code",
   "execution_count": 34,
   "metadata": {},
   "outputs": [
    {
     "data": {
      "text/html": [
       "<div>\n",
       "<style scoped>\n",
       "    .dataframe tbody tr th:only-of-type {\n",
       "        vertical-align: middle;\n",
       "    }\n",
       "\n",
       "    .dataframe tbody tr th {\n",
       "        vertical-align: top;\n",
       "    }\n",
       "\n",
       "    .dataframe thead th {\n",
       "        text-align: right;\n",
       "    }\n",
       "</style>\n",
       "<table border=\"1\" class=\"dataframe\">\n",
       "  <thead>\n",
       "    <tr style=\"text-align: right;\">\n",
       "      <th></th>\n",
       "      <th>vin</th>\n",
       "      <th>price</th>\n",
       "    </tr>\n",
       "  </thead>\n",
       "  <tbody>\n",
       "    <tr>\n",
       "      <th>0</th>\n",
       "      <td>1C4PJMDSXGW187284</td>\n",
       "      <td>$18,250</td>\n",
       "    </tr>\n",
       "    <tr>\n",
       "      <th>1</th>\n",
       "      <td>1C4PJLCSXGW362208</td>\n",
       "      <td>$15,493</td>\n",
       "    </tr>\n",
       "    <tr>\n",
       "      <th>2</th>\n",
       "      <td>1C4PJLDB5HW662965</td>\n",
       "      <td>$16,988</td>\n",
       "    </tr>\n",
       "    <tr>\n",
       "      <th>3</th>\n",
       "      <td>1C4PJMCB3HD218289</td>\n",
       "      <td>$16,869</td>\n",
       "    </tr>\n",
       "    <tr>\n",
       "      <th>4</th>\n",
       "      <td>1C4PJMCB8HW521427</td>\n",
       "      <td>$17,498</td>\n",
       "    </tr>\n",
       "  </tbody>\n",
       "</table>\n",
       "</div>"
      ],
      "text/plain": [
       "                 vin    price\n",
       "0  1C4PJMDSXGW187284  $18,250\n",
       "1  1C4PJLCSXGW362208  $15,493\n",
       "2  1C4PJLDB5HW662965  $16,988\n",
       "3  1C4PJMCB3HD218289  $16,869\n",
       "4  1C4PJMCB8HW521427  $17,498"
      ]
     },
     "execution_count": 34,
     "metadata": {},
     "output_type": "execute_result"
    }
   ],
   "source": [
    "price_df= pd.DataFrame(price_list, columns=['vin', 'price'])\n",
    "\n",
    "price_df.head()"
   ]
  },
  {
   "cell_type": "code",
   "execution_count": 35,
   "metadata": {},
   "outputs": [
    {
     "ename": "NameError",
     "evalue": "name 'browser' is not defined",
     "output_type": "error",
     "traceback": [
      "\u001b[1;31m---------------------------------------------------------------------------\u001b[0m",
      "\u001b[1;31mNameError\u001b[0m                                 Traceback (most recent call last)",
      "\u001b[1;32m<ipython-input-35-710928f8954f>\u001b[0m in \u001b[0;36m<module>\u001b[1;34m\u001b[0m\n\u001b[1;32m----> 1\u001b[1;33m \u001b[0mbrowser\u001b[0m\u001b[1;33m.\u001b[0m\u001b[0mquit\u001b[0m\u001b[1;33m(\u001b[0m\u001b[1;33m)\u001b[0m\u001b[1;33m\u001b[0m\u001b[1;33m\u001b[0m\u001b[0m\n\u001b[0m",
      "\u001b[1;31mNameError\u001b[0m: name 'browser' is not defined"
     ]
    }
   ],
   "source": [
    "browser.quit()"
   ]
  },
  {
   "cell_type": "markdown",
   "metadata": {},
   "source": [
    "# Load into MongoDB\n"
   ]
  },
  {
   "cell_type": "code",
   "execution_count": 36,
   "metadata": {},
   "outputs": [],
   "source": [
    "import pymongo"
   ]
  },
  {
   "cell_type": "code",
   "execution_count": 37,
   "metadata": {},
   "outputs": [],
   "source": [
    "conn = 'mongodb://localhost:27017'\n",
    "client = pymongo.MongoClient(conn)\n",
    "\n",
    "# Define the 'classDB' database in Mongo\n",
    "db = client.carfaxDB"
   ]
  },
  {
   "cell_type": "code",
   "execution_count": 42,
   "metadata": {},
   "outputs": [
    {
     "data": {
      "text/plain": [
       "<pymongo.results.InsertManyResult at 0x1c846971d48>"
      ]
     },
     "execution_count": 42,
     "metadata": {},
     "output_type": "execute_result"
    }
   ],
   "source": [
    "db.price_df.insert_many(price_df.to_dict('records'))"
   ]
  },
  {
   "cell_type": "code",
   "execution_count": 43,
   "metadata": {},
   "outputs": [
    {
     "data": {
      "text/plain": [
       "<pymongo.results.InsertManyResult at 0x1c846da8708>"
      ]
     },
     "execution_count": 43,
     "metadata": {},
     "output_type": "execute_result"
    }
   ],
   "source": [
    "db.driveTrain_df.insert_many(drive_train_df.to_dict('records'))"
   ]
  },
  {
   "cell_type": "code",
   "execution_count": 44,
   "metadata": {},
   "outputs": [
    {
     "data": {
      "text/plain": [
       "<pymongo.results.InsertManyResult at 0x1c846da8788>"
      ]
     },
     "execution_count": 44,
     "metadata": {},
     "output_type": "execute_result"
    }
   ],
   "source": [
    "db.vehicleInfo_df.insert_many(v_info_df.to_dict('records'))"
   ]
  },
  {
   "cell_type": "code",
   "execution_count": 45,
   "metadata": {},
   "outputs": [
    {
     "data": {
      "text/plain": [
       "<pymongo.results.InsertManyResult at 0x1c846da1e88>"
      ]
     },
     "execution_count": 45,
     "metadata": {},
     "output_type": "execute_result"
    }
   ],
   "source": [
    "db.carDescriptions_df.insert_many(car_descriptions_df.to_dict('records'))"
   ]
  },
  {
   "cell_type": "code",
   "execution_count": null,
   "metadata": {},
   "outputs": [],
   "source": []
  },
  {
   "cell_type": "code",
   "execution_count": null,
   "metadata": {},
   "outputs": [],
   "source": []
  }
 ],
 "metadata": {
  "kernelspec": {
   "display_name": "Python 3",
   "language": "python",
   "name": "python3"
  },
  "language_info": {
   "codemirror_mode": {
    "name": "ipython",
    "version": 3
   },
   "file_extension": ".py",
   "mimetype": "text/x-python",
   "name": "python",
   "nbconvert_exporter": "python",
   "pygments_lexer": "ipython3",
   "version": "3.7.6"
  }
 },
 "nbformat": 4,
 "nbformat_minor": 4
}
