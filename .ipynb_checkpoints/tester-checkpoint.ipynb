{
 "cells": [
  {
   "cell_type": "code",
   "execution_count": 1,
   "metadata": {},
   "outputs": [],
   "source": [
    "#Import the important libraries\n",
    "from time import time,sleep\n",
    "from random import randint\n",
    "from IPython.core.display import clear_output\n",
    "from requests import get\n",
    "from bs4 import BeautifulSoup\n",
    "import matplotlib.pyplot as plt\n",
    "import pandas as pd\n",
    "import re \n",
    "\n",
    "from Scrapper import *\n",
    "from pandas_to_x import *"
   ]
  },
  {
   "cell_type": "code",
   "execution_count": 2,
   "metadata": {},
   "outputs": [],
   "source": [
    "\n",
    "url = 'https://www.carfax.com/Used-Jeep-Cherokee-Dallas-TX_w371_c18864'\n",
    "#url = 'https://www.carfax.com/Used-Cadillac-SRX-Dallas-TX_w94_c18864' #There is car that breaks it here\n",
    "#url = 'https://www.carfax.com/Used-Hyundai-Genesis-Dallas-TX_w323_c18864'\n",
    "#url = 'https://www.carfax.com/Used-Jaguar-XJ-Dallas-TX_w367_c18864' #only 11 cars\n",
    "#url = 'https://www.carfax.com/Used-BMW-7-Series-Dallas-TX_w48_c18864'\n",
    "#url = 'https://www.carfax.com/Used-Audi-A6-Dallas-TX_w20_c18864'\n",
    "#url = 'https://www.carfax.com/Used-Audi-A6-Dallas-TX_w20_c18864'\n",
    "#url = 'https://www.carfax.com/Used-Volvo-XC90-Dallas-TX_w663_c18864'\n",
    "#url = 'https://www.carfax.com/Used-Jaguar-XE-Dallas-TX_w365_c18864'\n",
    "#url = 'https://www.carfax.com/Used-Dodge-400-Dallas-TX_w9346_c18864'\n",
    "dict = scrapper_to_pandas(url)"
   ]
  },
  {
   "cell_type": "code",
   "execution_count": null,
   "metadata": {
    "scrolled": false
   },
   "outputs": [],
   "source": [
    "dict.keys()"
   ]
  },
  {
   "cell_type": "code",
   "execution_count": null,
   "metadata": {},
   "outputs": [],
   "source": [
    "pandas_to_mongo(dict)"
   ]
  }
 ],
 "metadata": {
  "kernelspec": {
   "display_name": "Python 3",
   "language": "python",
   "name": "python3"
  },
  "language_info": {
   "codemirror_mode": {
    "name": "ipython",
    "version": 3
   },
   "file_extension": ".py",
   "mimetype": "text/x-python",
   "name": "python",
   "nbconvert_exporter": "python",
   "pygments_lexer": "ipython3",
   "version": "3.7.7"
  }
 },
 "nbformat": 4,
 "nbformat_minor": 4
}
