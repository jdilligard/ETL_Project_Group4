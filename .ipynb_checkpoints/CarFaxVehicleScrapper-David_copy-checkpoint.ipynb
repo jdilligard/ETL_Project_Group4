{
 "cells": [
  {
   "cell_type": "code",
   "execution_count": 1,
   "metadata": {},
   "outputs": [],
   "source": [
    "#This script is a web scraper for the Carfax.com website. It scrapes the\n",
    "#vehicle info from the grey vehicle info box. You have to be on the specific vehicle page that has \n",
    "#the vehicle vin in the url for it to work.\n",
    "#I am planning to break this script into two individual functions\n",
    "\n",
    "#Import the important libraries\n",
    "from time import time,sleep\n",
    "from random import randint\n",
    "from IPython.core.display import clear_output\n",
    "from requests import get\n",
    "from bs4 import BeautifulSoup\n",
    "import matplotlib.pyplot as plt\n",
    "import pandas as pd\n",
    "import re "
   ]
  },
  {
   "cell_type": "code",
   "execution_count": 2,
   "metadata": {},
   "outputs": [],
   "source": [
    "#This is the url that the car data will come from - use these websites to test\n",
    "\n",
    "url = 'https://www.carfax.com/vehicle/1C4PJMDSXGW187284'\n",
    "#url = 'https://www.carfax.com/vehicle/1C4PJMLB9KD299693'\n",
    "#url = 'https://www.carfax.com/vehicle/JTMCY7AJ3K4080248'\n",
    "#url = 'https://www.carfax.com/vehicle/2G4GV5GV1D9246173'\n",
    "#url = 'https://www.carfax.com/vehicle/5N1AT2MV4HC762833'\n",
    "#url = 'https://www.carfax.com/vehicle/2C3CCAAG2HH505944'\n",
    "#url = 'https://www.carfax.com/vehicle/WVGEF7BP2HD004963'\n",
    "#url = 'https://www.carfax.com/vehicle/WP0CB2A82JS229213'"
   ]
  },
  {
   "cell_type": "code",
   "execution_count": 3,
   "metadata": {},
   "outputs": [],
   "source": [
    "#scraping webpage with beautiful soup\n",
    "response = get(url, timeout = 5)\n",
    "soup = BeautifulSoup(response.text, 'html.parser')"
   ]
  },
  {
   "cell_type": "code",
   "execution_count": 4,
   "metadata": {},
   "outputs": [],
   "source": [
    "#THIS IS THE VEHICLE INFO SECTION"
   ]
  },
  {
   "cell_type": "code",
   "execution_count": 5,
   "metadata": {
    "scrolled": true
   },
   "outputs": [],
   "source": [
    "#Getting the year, make, model, etc from the bottom of the page near the dealer disclaimer\n",
    "#NOTICE THAT I AM USING THE soup.select with a .class\n",
    "mm = soup.select('.disclaimer-vehicle-title')\n",
    "mm = str(mm[0].contents[0]).strip().split()"
   ]
  },
  {
   "cell_type": "code",
   "execution_count": 6,
   "metadata": {},
   "outputs": [],
   "source": [
    "#soup.find_all(\"ul\",class_=\"vehicle-info-ul\")"
   ]
  },
  {
   "cell_type": "code",
   "execution_count": 7,
   "metadata": {},
   "outputs": [],
   "source": [
    "#parsing out the info in the grey box with all vehicle info from the rest of the website\n",
    "data = soup.select('.vehicle-info-details')"
   ]
  },
  {
   "cell_type": "code",
   "execution_count": 8,
   "metadata": {},
   "outputs": [],
   "source": [
    "#parsing out the information in the grey box\n",
    "info = []\n",
    "for d in data:\n",
    "    info.append(str(d.contents[0]).strip())"
   ]
  },
  {
   "cell_type": "code",
   "execution_count": 9,
   "metadata": {
    "scrolled": true
   },
   "outputs": [],
   "source": [
    "#info"
   ]
  },
  {
   "cell_type": "code",
   "execution_count": 10,
   "metadata": {},
   "outputs": [],
   "source": [
    "vehicle_info = {\n",
    "    \"vin\": info[23],\n",
    "    'year': mm[0],\n",
    "    'make': mm[1],\n",
    "    'model': mm[2],\n",
    "    'trim' : mm[3],\n",
    "    \"price\": info[1],\n",
    "    \"mileage\": info[3],\n",
    "    \"location\": info[5],\n",
    "    \"ext_color\": info[7],\n",
    "    \"int_color\": info[9],\n",
    "    \"drive_type\": info[11],\n",
    "    \"transmission\": info[13],\n",
    "    \"body_style\": info[15],\n",
    "    \"engine\": info[17],\n",
    "    \"fuel\": info[19],\n",
    "    \"mpg\": info[21],\n",
    "    \"stock_num\": info[25]    \n",
    "}"
   ]
  },
  {
   "cell_type": "code",
   "execution_count": 11,
   "metadata": {
    "scrolled": false
   },
   "outputs": [
    {
     "data": {
      "text/plain": [
       "{'vin': '1C4PJMDSXGW187284',\n",
       " 'year': '2016',\n",
       " 'make': 'Jeep',\n",
       " 'model': 'Cherokee',\n",
       " 'trim': 'Limited',\n",
       " 'price': '$18,250',\n",
       " 'mileage': '42,081 miles',\n",
       " 'location': 'Grapevine, TX',\n",
       " 'ext_color': 'Black',\n",
       " 'int_color': 'Tan',\n",
       " 'drive_type': '4WD',\n",
       " 'transmission': 'Automatic',\n",
       " 'body_style': 'SUV',\n",
       " 'engine': '6 Cyl 3.2 L',\n",
       " 'fuel': 'Gasoline',\n",
       " 'mpg': '19',\n",
       " 'stock_num': 'GW187284'}"
      ]
     },
     "execution_count": 11,
     "metadata": {},
     "output_type": "execute_result"
    }
   ],
   "source": [
    "vehicle_info"
   ]
  },
  {
   "cell_type": "code",
   "execution_count": 12,
   "metadata": {},
   "outputs": [],
   "source": [
    "#THIS IS THE DEALER INFO SECTION"
   ]
  },
  {
   "cell_type": "code",
   "execution_count": 13,
   "metadata": {},
   "outputs": [
    {
     "data": {
      "text/plain": [
       "'Grubbs Infiniti'"
      ]
     },
     "execution_count": 13,
     "metadata": {},
     "output_type": "execute_result"
    }
   ],
   "source": [
    "#parsing out the dealer info\n",
    "temp = soup.select('.dealer-name')\n",
    "dealer_name = str(temp[0].contents[0]).strip()\n",
    "dealer_name"
   ]
  },
  {
   "cell_type": "code",
   "execution_count": 14,
   "metadata": {
    "scrolled": true
   },
   "outputs": [],
   "source": [
    "#parsing out the dealer address - NOTICE I USED # for an id\n",
    "temp = soup.select('#dealer-info__address-text')\n",
    "dealer_street = str(temp[0].contents[0]).strip()\n",
    "dealer_csz = str(temp[0].contents[2]).strip().split()"
   ]
  },
  {
   "cell_type": "code",
   "execution_count": 15,
   "metadata": {
    "scrolled": true
   },
   "outputs": [
    {
     "data": {
      "text/plain": [
       "'1500 E State Highway 114'"
      ]
     },
     "execution_count": 15,
     "metadata": {},
     "output_type": "execute_result"
    }
   ],
   "source": [
    "dealer_street"
   ]
  },
  {
   "cell_type": "code",
   "execution_count": 16,
   "metadata": {},
   "outputs": [
    {
     "data": {
      "text/plain": [
       "['Grapevine,', 'TX', '76092']"
      ]
     },
     "execution_count": 16,
     "metadata": {},
     "output_type": "execute_result"
    }
   ],
   "source": [
    "dealer_csz"
   ]
  },
  {
   "cell_type": "code",
   "execution_count": 17,
   "metadata": {},
   "outputs": [],
   "source": [
    "temp = soup.select('.dealer-info__phone-text')\n",
    "dealer_phone = str(temp[0].contents[0]).strip()\n",
    "\n"
   ]
  },
  {
   "cell_type": "code",
   "execution_count": 18,
   "metadata": {
    "scrolled": false
   },
   "outputs": [],
   "source": [
    "#I had trouble getting the dealer website - stopped here\n",
    "#temp = soup.select('#dealer-website-vdp').select()\n",
    "#dealer_website = str(temp[0].contents[0]).strip().split()\n",
    "#dealer_website"
   ]
  },
  {
   "cell_type": "code",
   "execution_count": 19,
   "metadata": {},
   "outputs": [],
   "source": [
    "#temp = soup.select('a[href]')\n",
    "#temp"
   ]
  },
  {
   "cell_type": "code",
   "execution_count": 20,
   "metadata": {},
   "outputs": [
    {
     "data": {
      "text/plain": [
       "{'vin': '1C4PJMDSXGW187284',\n",
       " 'dealer_name': 'Grubbs Infiniti',\n",
       " 'dealer_street': '1500 E State Highway 114',\n",
       " 'dealer_city': 'Grapevine,',\n",
       " 'dealer_state': 'TX',\n",
       " 'dealer_zip': '76092',\n",
       " 'dealer_phone': '(844) 928-1616',\n",
       " 'stock_number': 'GW187284'}"
      ]
     },
     "execution_count": 20,
     "metadata": {},
     "output_type": "execute_result"
    }
   ],
   "source": [
    "dealer_info = {\n",
    "    'vin' : info[23],\n",
    "    'dealer_name': dealer_name,\n",
    "    'dealer_street': dealer_street,\n",
    "    'dealer_city': dealer_csz[0],\n",
    "    'dealer_state': dealer_csz[1],\n",
    "    'dealer_zip': dealer_csz[2],\n",
    "    'dealer_phone': dealer_phone,\n",
    "    'stock_number': info[25]\n",
    "    \n",
    "    \n",
    "}\n",
    "dealer_info"
   ]
  }
 ],
 "metadata": {
  "kernelspec": {
   "display_name": "Python 3",
   "language": "python",
   "name": "python3"
  },
  "language_info": {
   "codemirror_mode": {
    "name": "ipython",
    "version": 3
   },
   "file_extension": ".py",
   "mimetype": "text/x-python",
   "name": "python",
   "nbconvert_exporter": "python",
   "pygments_lexer": "ipython3",
   "version": "3.7.6"
  }
 },
 "nbformat": 4,
 "nbformat_minor": 4
}
