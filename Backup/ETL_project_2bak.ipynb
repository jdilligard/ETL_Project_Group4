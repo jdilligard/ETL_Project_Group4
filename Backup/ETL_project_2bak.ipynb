{
 "cells": [
  {
   "cell_type": "code",
   "execution_count": 1,
   "metadata": {},
   "outputs": [],
   "source": [
    "#Import the important libraries\n",
    "from time import time,sleep\n",
    "from random import randint\n",
    "from IPython.core.display import clear_output\n",
    "from requests import get\n",
    "from bs4 import BeautifulSoup\n",
    "import matplotlib.pyplot as plt\n",
    "import pandas as pd\n",
    "import re \n",
    "\n",
    "from Scrapper import *"
   ]
  },
  {
   "cell_type": "code",
   "execution_count": 2,
   "metadata": {},
   "outputs": [],
   "source": [
    "executable_path = {'executable_path': r\"C:\\Users\\jdilligard\\Desktop\\chromedriver_win32\\chromedriver.exe\"}\n",
    "#browser = Browser('chrome', **executable_path, headless=False)"
   ]
  },
  {
   "cell_type": "code",
   "execution_count": 3,
   "metadata": {},
   "outputs": [],
   "source": [
    "#url = 'https://www.carfax.com/Used-Jeep-Cherokee-Dallas-TX_w371_c18864'\n",
    "\n",
    "url = 'https://www.carfax.com/Used-Jaguar-XE-Dallas-TX_w365_c18864'\n",
    "#browser.visit(url)"
   ]
  },
  {
   "cell_type": "code",
   "execution_count": 5,
   "metadata": {},
   "outputs": [
    {
     "ename": "ConnectionError",
     "evalue": "('Connection aborted.', OSError(\"(10054, 'WSAECONNRESET')\"))",
     "output_type": "error",
     "traceback": [
      "\u001b[1;31m---------------------------------------------------------------------------\u001b[0m",
      "\u001b[1;31mOSError\u001b[0m                                   Traceback (most recent call last)",
      "\u001b[1;32m~\\AppData\\Local\\Continuum\\anaconda3\\lib\\site-packages\\urllib3\\connectionpool.py\u001b[0m in \u001b[0;36murlopen\u001b[1;34m(self, method, url, body, headers, retries, redirect, assert_same_host, timeout, pool_timeout, release_conn, chunked, body_pos, **response_kw)\u001b[0m\n\u001b[0;32m    671\u001b[0m                 \u001b[0mheaders\u001b[0m\u001b[1;33m=\u001b[0m\u001b[0mheaders\u001b[0m\u001b[1;33m,\u001b[0m\u001b[1;33m\u001b[0m\u001b[1;33m\u001b[0m\u001b[0m\n\u001b[1;32m--> 672\u001b[1;33m                 \u001b[0mchunked\u001b[0m\u001b[1;33m=\u001b[0m\u001b[0mchunked\u001b[0m\u001b[1;33m,\u001b[0m\u001b[1;33m\u001b[0m\u001b[1;33m\u001b[0m\u001b[0m\n\u001b[0m\u001b[0;32m    673\u001b[0m             )\n",
      "\u001b[1;32m~\\AppData\\Local\\Continuum\\anaconda3\\lib\\site-packages\\urllib3\\connectionpool.py\u001b[0m in \u001b[0;36m_make_request\u001b[1;34m(self, conn, method, url, timeout, chunked, **httplib_request_kw)\u001b[0m\n\u001b[0;32m    420\u001b[0m                     \u001b[1;31m# Otherwise it looks like a bug in the code.\u001b[0m\u001b[1;33m\u001b[0m\u001b[1;33m\u001b[0m\u001b[1;33m\u001b[0m\u001b[0m\n\u001b[1;32m--> 421\u001b[1;33m                     \u001b[0msix\u001b[0m\u001b[1;33m.\u001b[0m\u001b[0mraise_from\u001b[0m\u001b[1;33m(\u001b[0m\u001b[0me\u001b[0m\u001b[1;33m,\u001b[0m \u001b[1;32mNone\u001b[0m\u001b[1;33m)\u001b[0m\u001b[1;33m\u001b[0m\u001b[1;33m\u001b[0m\u001b[0m\n\u001b[0m\u001b[0;32m    422\u001b[0m         \u001b[1;32mexcept\u001b[0m \u001b[1;33m(\u001b[0m\u001b[0mSocketTimeout\u001b[0m\u001b[1;33m,\u001b[0m \u001b[0mBaseSSLError\u001b[0m\u001b[1;33m,\u001b[0m \u001b[0mSocketError\u001b[0m\u001b[1;33m)\u001b[0m \u001b[1;32mas\u001b[0m \u001b[0me\u001b[0m\u001b[1;33m:\u001b[0m\u001b[1;33m\u001b[0m\u001b[1;33m\u001b[0m\u001b[0m\n",
      "\u001b[1;32m~\\AppData\\Local\\Continuum\\anaconda3\\lib\\site-packages\\urllib3\\packages\\six.py\u001b[0m in \u001b[0;36mraise_from\u001b[1;34m(value, from_value)\u001b[0m\n",
      "\u001b[1;32m~\\AppData\\Local\\Continuum\\anaconda3\\lib\\site-packages\\urllib3\\connectionpool.py\u001b[0m in \u001b[0;36m_make_request\u001b[1;34m(self, conn, method, url, timeout, chunked, **httplib_request_kw)\u001b[0m\n\u001b[0;32m    415\u001b[0m                 \u001b[1;32mtry\u001b[0m\u001b[1;33m:\u001b[0m\u001b[1;33m\u001b[0m\u001b[1;33m\u001b[0m\u001b[0m\n\u001b[1;32m--> 416\u001b[1;33m                     \u001b[0mhttplib_response\u001b[0m \u001b[1;33m=\u001b[0m \u001b[0mconn\u001b[0m\u001b[1;33m.\u001b[0m\u001b[0mgetresponse\u001b[0m\u001b[1;33m(\u001b[0m\u001b[1;33m)\u001b[0m\u001b[1;33m\u001b[0m\u001b[1;33m\u001b[0m\u001b[0m\n\u001b[0m\u001b[0;32m    417\u001b[0m                 \u001b[1;32mexcept\u001b[0m \u001b[0mBaseException\u001b[0m \u001b[1;32mas\u001b[0m \u001b[0me\u001b[0m\u001b[1;33m:\u001b[0m\u001b[1;33m\u001b[0m\u001b[1;33m\u001b[0m\u001b[0m\n",
      "\u001b[1;32m~\\AppData\\Local\\Continuum\\anaconda3\\lib\\http\\client.py\u001b[0m in \u001b[0;36mgetresponse\u001b[1;34m(self)\u001b[0m\n\u001b[0;32m   1343\u001b[0m             \u001b[1;32mtry\u001b[0m\u001b[1;33m:\u001b[0m\u001b[1;33m\u001b[0m\u001b[1;33m\u001b[0m\u001b[0m\n\u001b[1;32m-> 1344\u001b[1;33m                 \u001b[0mresponse\u001b[0m\u001b[1;33m.\u001b[0m\u001b[0mbegin\u001b[0m\u001b[1;33m(\u001b[0m\u001b[1;33m)\u001b[0m\u001b[1;33m\u001b[0m\u001b[1;33m\u001b[0m\u001b[0m\n\u001b[0m\u001b[0;32m   1345\u001b[0m             \u001b[1;32mexcept\u001b[0m \u001b[0mConnectionError\u001b[0m\u001b[1;33m:\u001b[0m\u001b[1;33m\u001b[0m\u001b[1;33m\u001b[0m\u001b[0m\n",
      "\u001b[1;32m~\\AppData\\Local\\Continuum\\anaconda3\\lib\\http\\client.py\u001b[0m in \u001b[0;36mbegin\u001b[1;34m(self)\u001b[0m\n\u001b[0;32m    305\u001b[0m         \u001b[1;32mwhile\u001b[0m \u001b[1;32mTrue\u001b[0m\u001b[1;33m:\u001b[0m\u001b[1;33m\u001b[0m\u001b[1;33m\u001b[0m\u001b[0m\n\u001b[1;32m--> 306\u001b[1;33m             \u001b[0mversion\u001b[0m\u001b[1;33m,\u001b[0m \u001b[0mstatus\u001b[0m\u001b[1;33m,\u001b[0m \u001b[0mreason\u001b[0m \u001b[1;33m=\u001b[0m \u001b[0mself\u001b[0m\u001b[1;33m.\u001b[0m\u001b[0m_read_status\u001b[0m\u001b[1;33m(\u001b[0m\u001b[1;33m)\u001b[0m\u001b[1;33m\u001b[0m\u001b[1;33m\u001b[0m\u001b[0m\n\u001b[0m\u001b[0;32m    307\u001b[0m             \u001b[1;32mif\u001b[0m \u001b[0mstatus\u001b[0m \u001b[1;33m!=\u001b[0m \u001b[0mCONTINUE\u001b[0m\u001b[1;33m:\u001b[0m\u001b[1;33m\u001b[0m\u001b[1;33m\u001b[0m\u001b[0m\n",
      "\u001b[1;32m~\\AppData\\Local\\Continuum\\anaconda3\\lib\\http\\client.py\u001b[0m in \u001b[0;36m_read_status\u001b[1;34m(self)\u001b[0m\n\u001b[0;32m    266\u001b[0m     \u001b[1;32mdef\u001b[0m \u001b[0m_read_status\u001b[0m\u001b[1;33m(\u001b[0m\u001b[0mself\u001b[0m\u001b[1;33m)\u001b[0m\u001b[1;33m:\u001b[0m\u001b[1;33m\u001b[0m\u001b[1;33m\u001b[0m\u001b[0m\n\u001b[1;32m--> 267\u001b[1;33m         \u001b[0mline\u001b[0m \u001b[1;33m=\u001b[0m \u001b[0mstr\u001b[0m\u001b[1;33m(\u001b[0m\u001b[0mself\u001b[0m\u001b[1;33m.\u001b[0m\u001b[0mfp\u001b[0m\u001b[1;33m.\u001b[0m\u001b[0mreadline\u001b[0m\u001b[1;33m(\u001b[0m\u001b[0m_MAXLINE\u001b[0m \u001b[1;33m+\u001b[0m \u001b[1;36m1\u001b[0m\u001b[1;33m)\u001b[0m\u001b[1;33m,\u001b[0m \u001b[1;34m\"iso-8859-1\"\u001b[0m\u001b[1;33m)\u001b[0m\u001b[1;33m\u001b[0m\u001b[1;33m\u001b[0m\u001b[0m\n\u001b[0m\u001b[0;32m    268\u001b[0m         \u001b[1;32mif\u001b[0m \u001b[0mlen\u001b[0m\u001b[1;33m(\u001b[0m\u001b[0mline\u001b[0m\u001b[1;33m)\u001b[0m \u001b[1;33m>\u001b[0m \u001b[0m_MAXLINE\u001b[0m\u001b[1;33m:\u001b[0m\u001b[1;33m\u001b[0m\u001b[1;33m\u001b[0m\u001b[0m\n",
      "\u001b[1;32m~\\AppData\\Local\\Continuum\\anaconda3\\lib\\socket.py\u001b[0m in \u001b[0;36mreadinto\u001b[1;34m(self, b)\u001b[0m\n\u001b[0;32m    588\u001b[0m             \u001b[1;32mtry\u001b[0m\u001b[1;33m:\u001b[0m\u001b[1;33m\u001b[0m\u001b[1;33m\u001b[0m\u001b[0m\n\u001b[1;32m--> 589\u001b[1;33m                 \u001b[1;32mreturn\u001b[0m \u001b[0mself\u001b[0m\u001b[1;33m.\u001b[0m\u001b[0m_sock\u001b[0m\u001b[1;33m.\u001b[0m\u001b[0mrecv_into\u001b[0m\u001b[1;33m(\u001b[0m\u001b[0mb\u001b[0m\u001b[1;33m)\u001b[0m\u001b[1;33m\u001b[0m\u001b[1;33m\u001b[0m\u001b[0m\n\u001b[0m\u001b[0;32m    590\u001b[0m             \u001b[1;32mexcept\u001b[0m \u001b[0mtimeout\u001b[0m\u001b[1;33m:\u001b[0m\u001b[1;33m\u001b[0m\u001b[1;33m\u001b[0m\u001b[0m\n",
      "\u001b[1;32m~\\AppData\\Local\\Continuum\\anaconda3\\lib\\site-packages\\urllib3\\contrib\\pyopenssl.py\u001b[0m in \u001b[0;36mrecv_into\u001b[1;34m(self, *args, **kwargs)\u001b[0m\n\u001b[0;32m    327\u001b[0m             \u001b[1;32melse\u001b[0m\u001b[1;33m:\u001b[0m\u001b[1;33m\u001b[0m\u001b[1;33m\u001b[0m\u001b[0m\n\u001b[1;32m--> 328\u001b[1;33m                 \u001b[1;32mreturn\u001b[0m \u001b[0mself\u001b[0m\u001b[1;33m.\u001b[0m\u001b[0mrecv_into\u001b[0m\u001b[1;33m(\u001b[0m\u001b[1;33m*\u001b[0m\u001b[0margs\u001b[0m\u001b[1;33m,\u001b[0m \u001b[1;33m**\u001b[0m\u001b[0mkwargs\u001b[0m\u001b[1;33m)\u001b[0m\u001b[1;33m\u001b[0m\u001b[1;33m\u001b[0m\u001b[0m\n\u001b[0m\u001b[0;32m    329\u001b[0m \u001b[1;33m\u001b[0m\u001b[0m\n",
      "\u001b[1;32m~\\AppData\\Local\\Continuum\\anaconda3\\lib\\site-packages\\urllib3\\contrib\\pyopenssl.py\u001b[0m in \u001b[0;36mrecv_into\u001b[1;34m(self, *args, **kwargs)\u001b[0m\n\u001b[0;32m    317\u001b[0m             \u001b[1;32melse\u001b[0m\u001b[1;33m:\u001b[0m\u001b[1;33m\u001b[0m\u001b[1;33m\u001b[0m\u001b[0m\n\u001b[1;32m--> 318\u001b[1;33m                 \u001b[1;32mraise\u001b[0m \u001b[0mSocketError\u001b[0m\u001b[1;33m(\u001b[0m\u001b[0mstr\u001b[0m\u001b[1;33m(\u001b[0m\u001b[0me\u001b[0m\u001b[1;33m)\u001b[0m\u001b[1;33m)\u001b[0m\u001b[1;33m\u001b[0m\u001b[1;33m\u001b[0m\u001b[0m\n\u001b[0m\u001b[0;32m    319\u001b[0m         \u001b[1;32mexcept\u001b[0m \u001b[0mOpenSSL\u001b[0m\u001b[1;33m.\u001b[0m\u001b[0mSSL\u001b[0m\u001b[1;33m.\u001b[0m\u001b[0mZeroReturnError\u001b[0m\u001b[1;33m:\u001b[0m\u001b[1;33m\u001b[0m\u001b[1;33m\u001b[0m\u001b[0m\n",
      "\u001b[1;31mOSError\u001b[0m: (10054, 'WSAECONNRESET')",
      "\nDuring handling of the above exception, another exception occurred:\n",
      "\u001b[1;31mProtocolError\u001b[0m                             Traceback (most recent call last)",
      "\u001b[1;32m~\\AppData\\Local\\Continuum\\anaconda3\\lib\\site-packages\\requests\\adapters.py\u001b[0m in \u001b[0;36msend\u001b[1;34m(self, request, stream, timeout, verify, cert, proxies)\u001b[0m\n\u001b[0;32m    448\u001b[0m                     \u001b[0mretries\u001b[0m\u001b[1;33m=\u001b[0m\u001b[0mself\u001b[0m\u001b[1;33m.\u001b[0m\u001b[0mmax_retries\u001b[0m\u001b[1;33m,\u001b[0m\u001b[1;33m\u001b[0m\u001b[1;33m\u001b[0m\u001b[0m\n\u001b[1;32m--> 449\u001b[1;33m                     \u001b[0mtimeout\u001b[0m\u001b[1;33m=\u001b[0m\u001b[0mtimeout\u001b[0m\u001b[1;33m\u001b[0m\u001b[1;33m\u001b[0m\u001b[0m\n\u001b[0m\u001b[0;32m    450\u001b[0m                 )\n",
      "\u001b[1;32m~\\AppData\\Local\\Continuum\\anaconda3\\lib\\site-packages\\urllib3\\connectionpool.py\u001b[0m in \u001b[0;36murlopen\u001b[1;34m(self, method, url, body, headers, retries, redirect, assert_same_host, timeout, pool_timeout, release_conn, chunked, body_pos, **response_kw)\u001b[0m\n\u001b[0;32m    719\u001b[0m             retries = retries.increment(\n\u001b[1;32m--> 720\u001b[1;33m                 \u001b[0mmethod\u001b[0m\u001b[1;33m,\u001b[0m \u001b[0murl\u001b[0m\u001b[1;33m,\u001b[0m \u001b[0merror\u001b[0m\u001b[1;33m=\u001b[0m\u001b[0me\u001b[0m\u001b[1;33m,\u001b[0m \u001b[0m_pool\u001b[0m\u001b[1;33m=\u001b[0m\u001b[0mself\u001b[0m\u001b[1;33m,\u001b[0m \u001b[0m_stacktrace\u001b[0m\u001b[1;33m=\u001b[0m\u001b[0msys\u001b[0m\u001b[1;33m.\u001b[0m\u001b[0mexc_info\u001b[0m\u001b[1;33m(\u001b[0m\u001b[1;33m)\u001b[0m\u001b[1;33m[\u001b[0m\u001b[1;36m2\u001b[0m\u001b[1;33m]\u001b[0m\u001b[1;33m\u001b[0m\u001b[1;33m\u001b[0m\u001b[0m\n\u001b[0m\u001b[0;32m    721\u001b[0m             )\n",
      "\u001b[1;32m~\\AppData\\Local\\Continuum\\anaconda3\\lib\\site-packages\\urllib3\\util\\retry.py\u001b[0m in \u001b[0;36mincrement\u001b[1;34m(self, method, url, response, error, _pool, _stacktrace)\u001b[0m\n\u001b[0;32m    399\u001b[0m             \u001b[1;32mif\u001b[0m \u001b[0mread\u001b[0m \u001b[1;32mis\u001b[0m \u001b[1;32mFalse\u001b[0m \u001b[1;32mor\u001b[0m \u001b[1;32mnot\u001b[0m \u001b[0mself\u001b[0m\u001b[1;33m.\u001b[0m\u001b[0m_is_method_retryable\u001b[0m\u001b[1;33m(\u001b[0m\u001b[0mmethod\u001b[0m\u001b[1;33m)\u001b[0m\u001b[1;33m:\u001b[0m\u001b[1;33m\u001b[0m\u001b[1;33m\u001b[0m\u001b[0m\n\u001b[1;32m--> 400\u001b[1;33m                 \u001b[1;32mraise\u001b[0m \u001b[0msix\u001b[0m\u001b[1;33m.\u001b[0m\u001b[0mreraise\u001b[0m\u001b[1;33m(\u001b[0m\u001b[0mtype\u001b[0m\u001b[1;33m(\u001b[0m\u001b[0merror\u001b[0m\u001b[1;33m)\u001b[0m\u001b[1;33m,\u001b[0m \u001b[0merror\u001b[0m\u001b[1;33m,\u001b[0m \u001b[0m_stacktrace\u001b[0m\u001b[1;33m)\u001b[0m\u001b[1;33m\u001b[0m\u001b[1;33m\u001b[0m\u001b[0m\n\u001b[0m\u001b[0;32m    401\u001b[0m             \u001b[1;32melif\u001b[0m \u001b[0mread\u001b[0m \u001b[1;32mis\u001b[0m \u001b[1;32mnot\u001b[0m \u001b[1;32mNone\u001b[0m\u001b[1;33m:\u001b[0m\u001b[1;33m\u001b[0m\u001b[1;33m\u001b[0m\u001b[0m\n",
      "\u001b[1;32m~\\AppData\\Local\\Continuum\\anaconda3\\lib\\site-packages\\urllib3\\packages\\six.py\u001b[0m in \u001b[0;36mreraise\u001b[1;34m(tp, value, tb)\u001b[0m\n\u001b[0;32m    733\u001b[0m             \u001b[1;32mif\u001b[0m \u001b[0mvalue\u001b[0m\u001b[1;33m.\u001b[0m\u001b[0m__traceback__\u001b[0m \u001b[1;32mis\u001b[0m \u001b[1;32mnot\u001b[0m \u001b[0mtb\u001b[0m\u001b[1;33m:\u001b[0m\u001b[1;33m\u001b[0m\u001b[1;33m\u001b[0m\u001b[0m\n\u001b[1;32m--> 734\u001b[1;33m                 \u001b[1;32mraise\u001b[0m \u001b[0mvalue\u001b[0m\u001b[1;33m.\u001b[0m\u001b[0mwith_traceback\u001b[0m\u001b[1;33m(\u001b[0m\u001b[0mtb\u001b[0m\u001b[1;33m)\u001b[0m\u001b[1;33m\u001b[0m\u001b[1;33m\u001b[0m\u001b[0m\n\u001b[0m\u001b[0;32m    735\u001b[0m             \u001b[1;32mraise\u001b[0m \u001b[0mvalue\u001b[0m\u001b[1;33m\u001b[0m\u001b[1;33m\u001b[0m\u001b[0m\n",
      "\u001b[1;32m~\\AppData\\Local\\Continuum\\anaconda3\\lib\\site-packages\\urllib3\\connectionpool.py\u001b[0m in \u001b[0;36murlopen\u001b[1;34m(self, method, url, body, headers, retries, redirect, assert_same_host, timeout, pool_timeout, release_conn, chunked, body_pos, **response_kw)\u001b[0m\n\u001b[0;32m    671\u001b[0m                 \u001b[0mheaders\u001b[0m\u001b[1;33m=\u001b[0m\u001b[0mheaders\u001b[0m\u001b[1;33m,\u001b[0m\u001b[1;33m\u001b[0m\u001b[1;33m\u001b[0m\u001b[0m\n\u001b[1;32m--> 672\u001b[1;33m                 \u001b[0mchunked\u001b[0m\u001b[1;33m=\u001b[0m\u001b[0mchunked\u001b[0m\u001b[1;33m,\u001b[0m\u001b[1;33m\u001b[0m\u001b[1;33m\u001b[0m\u001b[0m\n\u001b[0m\u001b[0;32m    673\u001b[0m             )\n",
      "\u001b[1;32m~\\AppData\\Local\\Continuum\\anaconda3\\lib\\site-packages\\urllib3\\connectionpool.py\u001b[0m in \u001b[0;36m_make_request\u001b[1;34m(self, conn, method, url, timeout, chunked, **httplib_request_kw)\u001b[0m\n\u001b[0;32m    420\u001b[0m                     \u001b[1;31m# Otherwise it looks like a bug in the code.\u001b[0m\u001b[1;33m\u001b[0m\u001b[1;33m\u001b[0m\u001b[1;33m\u001b[0m\u001b[0m\n\u001b[1;32m--> 421\u001b[1;33m                     \u001b[0msix\u001b[0m\u001b[1;33m.\u001b[0m\u001b[0mraise_from\u001b[0m\u001b[1;33m(\u001b[0m\u001b[0me\u001b[0m\u001b[1;33m,\u001b[0m \u001b[1;32mNone\u001b[0m\u001b[1;33m)\u001b[0m\u001b[1;33m\u001b[0m\u001b[1;33m\u001b[0m\u001b[0m\n\u001b[0m\u001b[0;32m    422\u001b[0m         \u001b[1;32mexcept\u001b[0m \u001b[1;33m(\u001b[0m\u001b[0mSocketTimeout\u001b[0m\u001b[1;33m,\u001b[0m \u001b[0mBaseSSLError\u001b[0m\u001b[1;33m,\u001b[0m \u001b[0mSocketError\u001b[0m\u001b[1;33m)\u001b[0m \u001b[1;32mas\u001b[0m \u001b[0me\u001b[0m\u001b[1;33m:\u001b[0m\u001b[1;33m\u001b[0m\u001b[1;33m\u001b[0m\u001b[0m\n",
      "\u001b[1;32m~\\AppData\\Local\\Continuum\\anaconda3\\lib\\site-packages\\urllib3\\packages\\six.py\u001b[0m in \u001b[0;36mraise_from\u001b[1;34m(value, from_value)\u001b[0m\n",
      "\u001b[1;32m~\\AppData\\Local\\Continuum\\anaconda3\\lib\\site-packages\\urllib3\\connectionpool.py\u001b[0m in \u001b[0;36m_make_request\u001b[1;34m(self, conn, method, url, timeout, chunked, **httplib_request_kw)\u001b[0m\n\u001b[0;32m    415\u001b[0m                 \u001b[1;32mtry\u001b[0m\u001b[1;33m:\u001b[0m\u001b[1;33m\u001b[0m\u001b[1;33m\u001b[0m\u001b[0m\n\u001b[1;32m--> 416\u001b[1;33m                     \u001b[0mhttplib_response\u001b[0m \u001b[1;33m=\u001b[0m \u001b[0mconn\u001b[0m\u001b[1;33m.\u001b[0m\u001b[0mgetresponse\u001b[0m\u001b[1;33m(\u001b[0m\u001b[1;33m)\u001b[0m\u001b[1;33m\u001b[0m\u001b[1;33m\u001b[0m\u001b[0m\n\u001b[0m\u001b[0;32m    417\u001b[0m                 \u001b[1;32mexcept\u001b[0m \u001b[0mBaseException\u001b[0m \u001b[1;32mas\u001b[0m \u001b[0me\u001b[0m\u001b[1;33m:\u001b[0m\u001b[1;33m\u001b[0m\u001b[1;33m\u001b[0m\u001b[0m\n",
      "\u001b[1;32m~\\AppData\\Local\\Continuum\\anaconda3\\lib\\http\\client.py\u001b[0m in \u001b[0;36mgetresponse\u001b[1;34m(self)\u001b[0m\n\u001b[0;32m   1343\u001b[0m             \u001b[1;32mtry\u001b[0m\u001b[1;33m:\u001b[0m\u001b[1;33m\u001b[0m\u001b[1;33m\u001b[0m\u001b[0m\n\u001b[1;32m-> 1344\u001b[1;33m                 \u001b[0mresponse\u001b[0m\u001b[1;33m.\u001b[0m\u001b[0mbegin\u001b[0m\u001b[1;33m(\u001b[0m\u001b[1;33m)\u001b[0m\u001b[1;33m\u001b[0m\u001b[1;33m\u001b[0m\u001b[0m\n\u001b[0m\u001b[0;32m   1345\u001b[0m             \u001b[1;32mexcept\u001b[0m \u001b[0mConnectionError\u001b[0m\u001b[1;33m:\u001b[0m\u001b[1;33m\u001b[0m\u001b[1;33m\u001b[0m\u001b[0m\n",
      "\u001b[1;32m~\\AppData\\Local\\Continuum\\anaconda3\\lib\\http\\client.py\u001b[0m in \u001b[0;36mbegin\u001b[1;34m(self)\u001b[0m\n\u001b[0;32m    305\u001b[0m         \u001b[1;32mwhile\u001b[0m \u001b[1;32mTrue\u001b[0m\u001b[1;33m:\u001b[0m\u001b[1;33m\u001b[0m\u001b[1;33m\u001b[0m\u001b[0m\n\u001b[1;32m--> 306\u001b[1;33m             \u001b[0mversion\u001b[0m\u001b[1;33m,\u001b[0m \u001b[0mstatus\u001b[0m\u001b[1;33m,\u001b[0m \u001b[0mreason\u001b[0m \u001b[1;33m=\u001b[0m \u001b[0mself\u001b[0m\u001b[1;33m.\u001b[0m\u001b[0m_read_status\u001b[0m\u001b[1;33m(\u001b[0m\u001b[1;33m)\u001b[0m\u001b[1;33m\u001b[0m\u001b[1;33m\u001b[0m\u001b[0m\n\u001b[0m\u001b[0;32m    307\u001b[0m             \u001b[1;32mif\u001b[0m \u001b[0mstatus\u001b[0m \u001b[1;33m!=\u001b[0m \u001b[0mCONTINUE\u001b[0m\u001b[1;33m:\u001b[0m\u001b[1;33m\u001b[0m\u001b[1;33m\u001b[0m\u001b[0m\n",
      "\u001b[1;32m~\\AppData\\Local\\Continuum\\anaconda3\\lib\\http\\client.py\u001b[0m in \u001b[0;36m_read_status\u001b[1;34m(self)\u001b[0m\n\u001b[0;32m    266\u001b[0m     \u001b[1;32mdef\u001b[0m \u001b[0m_read_status\u001b[0m\u001b[1;33m(\u001b[0m\u001b[0mself\u001b[0m\u001b[1;33m)\u001b[0m\u001b[1;33m:\u001b[0m\u001b[1;33m\u001b[0m\u001b[1;33m\u001b[0m\u001b[0m\n\u001b[1;32m--> 267\u001b[1;33m         \u001b[0mline\u001b[0m \u001b[1;33m=\u001b[0m \u001b[0mstr\u001b[0m\u001b[1;33m(\u001b[0m\u001b[0mself\u001b[0m\u001b[1;33m.\u001b[0m\u001b[0mfp\u001b[0m\u001b[1;33m.\u001b[0m\u001b[0mreadline\u001b[0m\u001b[1;33m(\u001b[0m\u001b[0m_MAXLINE\u001b[0m \u001b[1;33m+\u001b[0m \u001b[1;36m1\u001b[0m\u001b[1;33m)\u001b[0m\u001b[1;33m,\u001b[0m \u001b[1;34m\"iso-8859-1\"\u001b[0m\u001b[1;33m)\u001b[0m\u001b[1;33m\u001b[0m\u001b[1;33m\u001b[0m\u001b[0m\n\u001b[0m\u001b[0;32m    268\u001b[0m         \u001b[1;32mif\u001b[0m \u001b[0mlen\u001b[0m\u001b[1;33m(\u001b[0m\u001b[0mline\u001b[0m\u001b[1;33m)\u001b[0m \u001b[1;33m>\u001b[0m \u001b[0m_MAXLINE\u001b[0m\u001b[1;33m:\u001b[0m\u001b[1;33m\u001b[0m\u001b[1;33m\u001b[0m\u001b[0m\n",
      "\u001b[1;32m~\\AppData\\Local\\Continuum\\anaconda3\\lib\\socket.py\u001b[0m in \u001b[0;36mreadinto\u001b[1;34m(self, b)\u001b[0m\n\u001b[0;32m    588\u001b[0m             \u001b[1;32mtry\u001b[0m\u001b[1;33m:\u001b[0m\u001b[1;33m\u001b[0m\u001b[1;33m\u001b[0m\u001b[0m\n\u001b[1;32m--> 589\u001b[1;33m                 \u001b[1;32mreturn\u001b[0m \u001b[0mself\u001b[0m\u001b[1;33m.\u001b[0m\u001b[0m_sock\u001b[0m\u001b[1;33m.\u001b[0m\u001b[0mrecv_into\u001b[0m\u001b[1;33m(\u001b[0m\u001b[0mb\u001b[0m\u001b[1;33m)\u001b[0m\u001b[1;33m\u001b[0m\u001b[1;33m\u001b[0m\u001b[0m\n\u001b[0m\u001b[0;32m    590\u001b[0m             \u001b[1;32mexcept\u001b[0m \u001b[0mtimeout\u001b[0m\u001b[1;33m:\u001b[0m\u001b[1;33m\u001b[0m\u001b[1;33m\u001b[0m\u001b[0m\n",
      "\u001b[1;32m~\\AppData\\Local\\Continuum\\anaconda3\\lib\\site-packages\\urllib3\\contrib\\pyopenssl.py\u001b[0m in \u001b[0;36mrecv_into\u001b[1;34m(self, *args, **kwargs)\u001b[0m\n\u001b[0;32m    327\u001b[0m             \u001b[1;32melse\u001b[0m\u001b[1;33m:\u001b[0m\u001b[1;33m\u001b[0m\u001b[1;33m\u001b[0m\u001b[0m\n\u001b[1;32m--> 328\u001b[1;33m                 \u001b[1;32mreturn\u001b[0m \u001b[0mself\u001b[0m\u001b[1;33m.\u001b[0m\u001b[0mrecv_into\u001b[0m\u001b[1;33m(\u001b[0m\u001b[1;33m*\u001b[0m\u001b[0margs\u001b[0m\u001b[1;33m,\u001b[0m \u001b[1;33m**\u001b[0m\u001b[0mkwargs\u001b[0m\u001b[1;33m)\u001b[0m\u001b[1;33m\u001b[0m\u001b[1;33m\u001b[0m\u001b[0m\n\u001b[0m\u001b[0;32m    329\u001b[0m \u001b[1;33m\u001b[0m\u001b[0m\n",
      "\u001b[1;32m~\\AppData\\Local\\Continuum\\anaconda3\\lib\\site-packages\\urllib3\\contrib\\pyopenssl.py\u001b[0m in \u001b[0;36mrecv_into\u001b[1;34m(self, *args, **kwargs)\u001b[0m\n\u001b[0;32m    317\u001b[0m             \u001b[1;32melse\u001b[0m\u001b[1;33m:\u001b[0m\u001b[1;33m\u001b[0m\u001b[1;33m\u001b[0m\u001b[0m\n\u001b[1;32m--> 318\u001b[1;33m                 \u001b[1;32mraise\u001b[0m \u001b[0mSocketError\u001b[0m\u001b[1;33m(\u001b[0m\u001b[0mstr\u001b[0m\u001b[1;33m(\u001b[0m\u001b[0me\u001b[0m\u001b[1;33m)\u001b[0m\u001b[1;33m)\u001b[0m\u001b[1;33m\u001b[0m\u001b[1;33m\u001b[0m\u001b[0m\n\u001b[0m\u001b[0;32m    319\u001b[0m         \u001b[1;32mexcept\u001b[0m \u001b[0mOpenSSL\u001b[0m\u001b[1;33m.\u001b[0m\u001b[0mSSL\u001b[0m\u001b[1;33m.\u001b[0m\u001b[0mZeroReturnError\u001b[0m\u001b[1;33m:\u001b[0m\u001b[1;33m\u001b[0m\u001b[1;33m\u001b[0m\u001b[0m\n",
      "\u001b[1;31mProtocolError\u001b[0m: ('Connection aborted.', OSError(\"(10054, 'WSAECONNRESET')\"))",
      "\nDuring handling of the above exception, another exception occurred:\n",
      "\u001b[1;31mConnectionError\u001b[0m                           Traceback (most recent call last)",
      "\u001b[1;32m<ipython-input-5-b7ef23308d83>\u001b[0m in \u001b[0;36m<module>\u001b[1;34m\u001b[0m\n\u001b[0;32m      1\u001b[0m \u001b[1;31m#scraping webpage with beautiful soup\u001b[0m\u001b[1;33m\u001b[0m\u001b[1;33m\u001b[0m\u001b[1;33m\u001b[0m\u001b[0m\n\u001b[1;32m----> 2\u001b[1;33m \u001b[0mresponse\u001b[0m \u001b[1;33m=\u001b[0m \u001b[0mget\u001b[0m\u001b[1;33m(\u001b[0m\u001b[0murl\u001b[0m\u001b[1;33m,\u001b[0m \u001b[0mtimeout\u001b[0m \u001b[1;33m=\u001b[0m \u001b[1;36m10\u001b[0m\u001b[1;33m)\u001b[0m\u001b[1;33m\u001b[0m\u001b[1;33m\u001b[0m\u001b[0m\n\u001b[0m\u001b[0;32m      3\u001b[0m \u001b[0msoup\u001b[0m \u001b[1;33m=\u001b[0m \u001b[0mBeautifulSoup\u001b[0m\u001b[1;33m(\u001b[0m\u001b[0mresponse\u001b[0m\u001b[1;33m.\u001b[0m\u001b[0mtext\u001b[0m\u001b[1;33m,\u001b[0m \u001b[1;34m'html.parser'\u001b[0m\u001b[1;33m)\u001b[0m\u001b[1;33m\u001b[0m\u001b[1;33m\u001b[0m\u001b[0m\n",
      "\u001b[1;32m~\\AppData\\Local\\Continuum\\anaconda3\\lib\\site-packages\\requests\\api.py\u001b[0m in \u001b[0;36mget\u001b[1;34m(url, params, **kwargs)\u001b[0m\n\u001b[0;32m     74\u001b[0m \u001b[1;33m\u001b[0m\u001b[0m\n\u001b[0;32m     75\u001b[0m     \u001b[0mkwargs\u001b[0m\u001b[1;33m.\u001b[0m\u001b[0msetdefault\u001b[0m\u001b[1;33m(\u001b[0m\u001b[1;34m'allow_redirects'\u001b[0m\u001b[1;33m,\u001b[0m \u001b[1;32mTrue\u001b[0m\u001b[1;33m)\u001b[0m\u001b[1;33m\u001b[0m\u001b[1;33m\u001b[0m\u001b[0m\n\u001b[1;32m---> 76\u001b[1;33m     \u001b[1;32mreturn\u001b[0m \u001b[0mrequest\u001b[0m\u001b[1;33m(\u001b[0m\u001b[1;34m'get'\u001b[0m\u001b[1;33m,\u001b[0m \u001b[0murl\u001b[0m\u001b[1;33m,\u001b[0m \u001b[0mparams\u001b[0m\u001b[1;33m=\u001b[0m\u001b[0mparams\u001b[0m\u001b[1;33m,\u001b[0m \u001b[1;33m**\u001b[0m\u001b[0mkwargs\u001b[0m\u001b[1;33m)\u001b[0m\u001b[1;33m\u001b[0m\u001b[1;33m\u001b[0m\u001b[0m\n\u001b[0m\u001b[0;32m     77\u001b[0m \u001b[1;33m\u001b[0m\u001b[0m\n\u001b[0;32m     78\u001b[0m \u001b[1;33m\u001b[0m\u001b[0m\n",
      "\u001b[1;32m~\\AppData\\Local\\Continuum\\anaconda3\\lib\\site-packages\\requests\\api.py\u001b[0m in \u001b[0;36mrequest\u001b[1;34m(method, url, **kwargs)\u001b[0m\n\u001b[0;32m     59\u001b[0m     \u001b[1;31m# cases, and look like a memory leak in others.\u001b[0m\u001b[1;33m\u001b[0m\u001b[1;33m\u001b[0m\u001b[1;33m\u001b[0m\u001b[0m\n\u001b[0;32m     60\u001b[0m     \u001b[1;32mwith\u001b[0m \u001b[0msessions\u001b[0m\u001b[1;33m.\u001b[0m\u001b[0mSession\u001b[0m\u001b[1;33m(\u001b[0m\u001b[1;33m)\u001b[0m \u001b[1;32mas\u001b[0m \u001b[0msession\u001b[0m\u001b[1;33m:\u001b[0m\u001b[1;33m\u001b[0m\u001b[1;33m\u001b[0m\u001b[0m\n\u001b[1;32m---> 61\u001b[1;33m         \u001b[1;32mreturn\u001b[0m \u001b[0msession\u001b[0m\u001b[1;33m.\u001b[0m\u001b[0mrequest\u001b[0m\u001b[1;33m(\u001b[0m\u001b[0mmethod\u001b[0m\u001b[1;33m=\u001b[0m\u001b[0mmethod\u001b[0m\u001b[1;33m,\u001b[0m \u001b[0murl\u001b[0m\u001b[1;33m=\u001b[0m\u001b[0murl\u001b[0m\u001b[1;33m,\u001b[0m \u001b[1;33m**\u001b[0m\u001b[0mkwargs\u001b[0m\u001b[1;33m)\u001b[0m\u001b[1;33m\u001b[0m\u001b[1;33m\u001b[0m\u001b[0m\n\u001b[0m\u001b[0;32m     62\u001b[0m \u001b[1;33m\u001b[0m\u001b[0m\n\u001b[0;32m     63\u001b[0m \u001b[1;33m\u001b[0m\u001b[0m\n",
      "\u001b[1;32m~\\AppData\\Local\\Continuum\\anaconda3\\lib\\site-packages\\requests\\sessions.py\u001b[0m in \u001b[0;36mrequest\u001b[1;34m(self, method, url, params, data, headers, cookies, files, auth, timeout, allow_redirects, proxies, hooks, stream, verify, cert, json)\u001b[0m\n\u001b[0;32m    528\u001b[0m         }\n\u001b[0;32m    529\u001b[0m         \u001b[0msend_kwargs\u001b[0m\u001b[1;33m.\u001b[0m\u001b[0mupdate\u001b[0m\u001b[1;33m(\u001b[0m\u001b[0msettings\u001b[0m\u001b[1;33m)\u001b[0m\u001b[1;33m\u001b[0m\u001b[1;33m\u001b[0m\u001b[0m\n\u001b[1;32m--> 530\u001b[1;33m         \u001b[0mresp\u001b[0m \u001b[1;33m=\u001b[0m \u001b[0mself\u001b[0m\u001b[1;33m.\u001b[0m\u001b[0msend\u001b[0m\u001b[1;33m(\u001b[0m\u001b[0mprep\u001b[0m\u001b[1;33m,\u001b[0m \u001b[1;33m**\u001b[0m\u001b[0msend_kwargs\u001b[0m\u001b[1;33m)\u001b[0m\u001b[1;33m\u001b[0m\u001b[1;33m\u001b[0m\u001b[0m\n\u001b[0m\u001b[0;32m    531\u001b[0m \u001b[1;33m\u001b[0m\u001b[0m\n\u001b[0;32m    532\u001b[0m         \u001b[1;32mreturn\u001b[0m \u001b[0mresp\u001b[0m\u001b[1;33m\u001b[0m\u001b[1;33m\u001b[0m\u001b[0m\n",
      "\u001b[1;32m~\\AppData\\Local\\Continuum\\anaconda3\\lib\\site-packages\\requests\\sessions.py\u001b[0m in \u001b[0;36msend\u001b[1;34m(self, request, **kwargs)\u001b[0m\n\u001b[0;32m    663\u001b[0m \u001b[1;33m\u001b[0m\u001b[0m\n\u001b[0;32m    664\u001b[0m         \u001b[1;31m# Resolve redirects if allowed.\u001b[0m\u001b[1;33m\u001b[0m\u001b[1;33m\u001b[0m\u001b[1;33m\u001b[0m\u001b[0m\n\u001b[1;32m--> 665\u001b[1;33m         \u001b[0mhistory\u001b[0m \u001b[1;33m=\u001b[0m \u001b[1;33m[\u001b[0m\u001b[0mresp\u001b[0m \u001b[1;32mfor\u001b[0m \u001b[0mresp\u001b[0m \u001b[1;32min\u001b[0m \u001b[0mgen\u001b[0m\u001b[1;33m]\u001b[0m \u001b[1;32mif\u001b[0m \u001b[0mallow_redirects\u001b[0m \u001b[1;32melse\u001b[0m \u001b[1;33m[\u001b[0m\u001b[1;33m]\u001b[0m\u001b[1;33m\u001b[0m\u001b[1;33m\u001b[0m\u001b[0m\n\u001b[0m\u001b[0;32m    666\u001b[0m \u001b[1;33m\u001b[0m\u001b[0m\n\u001b[0;32m    667\u001b[0m         \u001b[1;31m# Shuffle things around if there's history.\u001b[0m\u001b[1;33m\u001b[0m\u001b[1;33m\u001b[0m\u001b[1;33m\u001b[0m\u001b[0m\n",
      "\u001b[1;32m~\\AppData\\Local\\Continuum\\anaconda3\\lib\\site-packages\\requests\\sessions.py\u001b[0m in \u001b[0;36m<listcomp>\u001b[1;34m(.0)\u001b[0m\n\u001b[0;32m    663\u001b[0m \u001b[1;33m\u001b[0m\u001b[0m\n\u001b[0;32m    664\u001b[0m         \u001b[1;31m# Resolve redirects if allowed.\u001b[0m\u001b[1;33m\u001b[0m\u001b[1;33m\u001b[0m\u001b[1;33m\u001b[0m\u001b[0m\n\u001b[1;32m--> 665\u001b[1;33m         \u001b[0mhistory\u001b[0m \u001b[1;33m=\u001b[0m \u001b[1;33m[\u001b[0m\u001b[0mresp\u001b[0m \u001b[1;32mfor\u001b[0m \u001b[0mresp\u001b[0m \u001b[1;32min\u001b[0m \u001b[0mgen\u001b[0m\u001b[1;33m]\u001b[0m \u001b[1;32mif\u001b[0m \u001b[0mallow_redirects\u001b[0m \u001b[1;32melse\u001b[0m \u001b[1;33m[\u001b[0m\u001b[1;33m]\u001b[0m\u001b[1;33m\u001b[0m\u001b[1;33m\u001b[0m\u001b[0m\n\u001b[0m\u001b[0;32m    666\u001b[0m \u001b[1;33m\u001b[0m\u001b[0m\n\u001b[0;32m    667\u001b[0m         \u001b[1;31m# Shuffle things around if there's history.\u001b[0m\u001b[1;33m\u001b[0m\u001b[1;33m\u001b[0m\u001b[1;33m\u001b[0m\u001b[0m\n",
      "\u001b[1;32m~\\AppData\\Local\\Continuum\\anaconda3\\lib\\site-packages\\requests\\sessions.py\u001b[0m in \u001b[0;36mresolve_redirects\u001b[1;34m(self, resp, req, stream, timeout, verify, cert, proxies, yield_requests, **adapter_kwargs)\u001b[0m\n\u001b[0;32m    243\u001b[0m                     \u001b[0mproxies\u001b[0m\u001b[1;33m=\u001b[0m\u001b[0mproxies\u001b[0m\u001b[1;33m,\u001b[0m\u001b[1;33m\u001b[0m\u001b[1;33m\u001b[0m\u001b[0m\n\u001b[0;32m    244\u001b[0m                     \u001b[0mallow_redirects\u001b[0m\u001b[1;33m=\u001b[0m\u001b[1;32mFalse\u001b[0m\u001b[1;33m,\u001b[0m\u001b[1;33m\u001b[0m\u001b[1;33m\u001b[0m\u001b[0m\n\u001b[1;32m--> 245\u001b[1;33m                     \u001b[1;33m**\u001b[0m\u001b[0madapter_kwargs\u001b[0m\u001b[1;33m\u001b[0m\u001b[1;33m\u001b[0m\u001b[0m\n\u001b[0m\u001b[0;32m    246\u001b[0m                 )\n\u001b[0;32m    247\u001b[0m \u001b[1;33m\u001b[0m\u001b[0m\n",
      "\u001b[1;32m~\\AppData\\Local\\Continuum\\anaconda3\\lib\\site-packages\\requests\\sessions.py\u001b[0m in \u001b[0;36msend\u001b[1;34m(self, request, **kwargs)\u001b[0m\n\u001b[0;32m    641\u001b[0m \u001b[1;33m\u001b[0m\u001b[0m\n\u001b[0;32m    642\u001b[0m         \u001b[1;31m# Send the request\u001b[0m\u001b[1;33m\u001b[0m\u001b[1;33m\u001b[0m\u001b[1;33m\u001b[0m\u001b[0m\n\u001b[1;32m--> 643\u001b[1;33m         \u001b[0mr\u001b[0m \u001b[1;33m=\u001b[0m \u001b[0madapter\u001b[0m\u001b[1;33m.\u001b[0m\u001b[0msend\u001b[0m\u001b[1;33m(\u001b[0m\u001b[0mrequest\u001b[0m\u001b[1;33m,\u001b[0m \u001b[1;33m**\u001b[0m\u001b[0mkwargs\u001b[0m\u001b[1;33m)\u001b[0m\u001b[1;33m\u001b[0m\u001b[1;33m\u001b[0m\u001b[0m\n\u001b[0m\u001b[0;32m    644\u001b[0m \u001b[1;33m\u001b[0m\u001b[0m\n\u001b[0;32m    645\u001b[0m         \u001b[1;31m# Total elapsed time of the request (approximately)\u001b[0m\u001b[1;33m\u001b[0m\u001b[1;33m\u001b[0m\u001b[1;33m\u001b[0m\u001b[0m\n",
      "\u001b[1;32m~\\AppData\\Local\\Continuum\\anaconda3\\lib\\site-packages\\requests\\adapters.py\u001b[0m in \u001b[0;36msend\u001b[1;34m(self, request, stream, timeout, verify, cert, proxies)\u001b[0m\n\u001b[0;32m    496\u001b[0m \u001b[1;33m\u001b[0m\u001b[0m\n\u001b[0;32m    497\u001b[0m         \u001b[1;32mexcept\u001b[0m \u001b[1;33m(\u001b[0m\u001b[0mProtocolError\u001b[0m\u001b[1;33m,\u001b[0m \u001b[0msocket\u001b[0m\u001b[1;33m.\u001b[0m\u001b[0merror\u001b[0m\u001b[1;33m)\u001b[0m \u001b[1;32mas\u001b[0m \u001b[0merr\u001b[0m\u001b[1;33m:\u001b[0m\u001b[1;33m\u001b[0m\u001b[1;33m\u001b[0m\u001b[0m\n\u001b[1;32m--> 498\u001b[1;33m             \u001b[1;32mraise\u001b[0m \u001b[0mConnectionError\u001b[0m\u001b[1;33m(\u001b[0m\u001b[0merr\u001b[0m\u001b[1;33m,\u001b[0m \u001b[0mrequest\u001b[0m\u001b[1;33m=\u001b[0m\u001b[0mrequest\u001b[0m\u001b[1;33m)\u001b[0m\u001b[1;33m\u001b[0m\u001b[1;33m\u001b[0m\u001b[0m\n\u001b[0m\u001b[0;32m    499\u001b[0m \u001b[1;33m\u001b[0m\u001b[0m\n\u001b[0;32m    500\u001b[0m         \u001b[1;32mexcept\u001b[0m \u001b[0mMaxRetryError\u001b[0m \u001b[1;32mas\u001b[0m \u001b[0me\u001b[0m\u001b[1;33m:\u001b[0m\u001b[1;33m\u001b[0m\u001b[1;33m\u001b[0m\u001b[0m\n",
      "\u001b[1;31mConnectionError\u001b[0m: ('Connection aborted.', OSError(\"(10054, 'WSAECONNRESET')\"))"
     ]
    }
   ],
   "source": [
    "#scraping webpage with beautiful soup\n",
    "response = get(url, timeout = 10)\n",
    "soup = BeautifulSoup(response.text, 'html.parser')"
   ]
  },
  {
   "cell_type": "code",
   "execution_count": 5,
   "metadata": {},
   "outputs": [
    {
     "name": "stdout",
     "output_type": "stream",
     "text": [
      "/vehicle/1C4PJMDSXGW187284\n"
     ]
    }
   ],
   "source": [
    "data = soup.find(id='listing_0').find('a')['href']\n",
    "print(data)"
   ]
  },
  {
   "cell_type": "code",
   "execution_count": 7,
   "metadata": {},
   "outputs": [],
   "source": [
    "links = []"
   ]
  },
  {
   "cell_type": "code",
   "execution_count": 8,
   "metadata": {},
   "outputs": [
    {
     "name": "stdout",
     "output_type": "stream",
     "text": [
      "https://www.carfax.com/vehicle/1C4PJMDSXGW187284\n",
      "https://www.carfax.com/vehicle/1C4PJMDSXGW187284\n",
      "https://www.carfax.com/vehicle/1C4PJLDBXJD561566\n",
      "https://www.carfax.com/vehicle/1C4PJLDBXJD561566\n",
      "https://www.carfax.com/vehicle/1C4PJMLB9KD299693\n",
      "https://www.carfax.com/vehicle/1C4PJMLB9KD299693\n",
      "https://www.carfax.com/vehicle/1C4PJLCB0HD231897\n",
      "https://www.carfax.com/vehicle/1C4PJLCB0HD231897\n",
      "https://www.carfax.com/vehicle/1C4PJLDB0HW626701\n",
      "https://www.carfax.com/vehicle/1C4PJLDB0HW626701\n",
      "https://www.carfax.com/vehicle/1C4PJLDS0HW664123\n",
      "https://www.carfax.com/vehicle/1C4PJLDS0HW664123\n",
      "https://www.carfax.com/vehicle/1C4PJLCX2KD396689\n",
      "https://www.carfax.com/vehicle/1C4PJLCX2KD396689\n",
      "https://www.carfax.com/vehicle/1C4PJLCSXGW362208\n",
      "https://www.carfax.com/vehicle/1C4PJLCSXGW362208\n",
      "https://www.carfax.com/vehicle/1C4PJLCBXKD487648\n",
      "https://www.carfax.com/vehicle/1C4PJLCBXKD487648\n",
      "https://www.carfax.com/vehicle/1C4PJLLB9KD222378\n",
      "https://www.carfax.com/vehicle/1C4PJLLB9KD222378\n",
      "https://www.carfax.com/vehicle/1C4PJLCB3HW640769\n",
      "https://www.carfax.com/vehicle/1C4PJLCB3HW640769\n",
      "https://www.carfax.com/vehicle/1C4PJMDS6GW327959\n",
      "https://www.carfax.com/vehicle/1C4PJMDS6GW327959\n",
      "https://www.carfax.com/vehicle/1C4PJMDB4HW537767\n",
      "https://www.carfax.com/vehicle/1C4PJMDB4HW537767\n",
      "https://www.carfax.com/vehicle/1C4PJMCB8HW521427\n",
      "https://www.carfax.com/vehicle/1C4PJMCB8HW521427\n",
      "https://www.carfax.com/vehicle/1C4PJLCSXGW304454\n",
      "https://www.carfax.com/vehicle/1C4PJLCSXGW304454\n",
      "https://www.carfax.com/vehicle/1C4PJLDB5HW662965\n",
      "https://www.carfax.com/vehicle/1C4PJLDB5HW662965\n",
      "https://www.carfax.com/vehicle/1C4PJMDS8HW545404\n",
      "https://www.carfax.com/vehicle/1C4PJMDS8HW545404\n",
      "https://www.carfax.com/vehicle/1C4PJMJN8KD173841\n",
      "https://www.carfax.com/vehicle/1C4PJMJN8KD173841\n",
      "https://www.carfax.com/vehicle/1C4PJMCB3HD218289\n",
      "https://www.carfax.com/vehicle/1C4PJMCB3HD218289\n",
      "https://www.carfax.com/vehicle/1C4PJMDBXGW236810\n",
      "https://www.carfax.com/vehicle/1C4PJMDBXGW236810\n",
      "https://www.carfax.com/vehicle/1C4PJMCS9GW341467\n",
      "https://www.carfax.com/vehicle/1C4PJMCS9GW341467\n",
      "https://www.carfax.com/vehicle/1C4PJMCS2GW332965\n",
      "https://www.carfax.com/vehicle/1C4PJMCS2GW332965\n",
      "https://www.carfax.com/vehicle/1C4PJMCBXHW582469\n",
      "https://www.carfax.com/vehicle/1C4PJMCBXHW582469\n",
      "https://www.carfax.com/vehicle/1C4PJMCBXGW330414\n",
      "https://www.carfax.com/vehicle/1C4PJMCBXGW330414\n",
      "https://www.carfax.com/vehicle/1C4PJMCS4GW154380\n",
      "https://www.carfax.com/vehicle/1C4PJMCS4GW154380\n"
     ]
    }
   ],
   "source": [
    "for link in soup.findAll('a', attrs={'href': re.compile(\"/vehicle/\")}):\n",
    "    #print(link.get('href'))\n",
    "    string = 'https://www.carfax.com' + link.get('href')\n",
    "    links.append(string)\n",
    "    print(string)"
   ]
  },
  {
   "cell_type": "code",
   "execution_count": 9,
   "metadata": {},
   "outputs": [
    {
     "name": "stdout",
     "output_type": "stream",
     "text": [
      "['https://www.carfax.com/vehicle/1C4PJLLB9KD222378', 'https://www.carfax.com/vehicle/1C4PJMDS6GW327959', 'https://www.carfax.com/vehicle/1C4PJMCBXHW582469', 'https://www.carfax.com/vehicle/1C4PJLCB3HW640769', 'https://www.carfax.com/vehicle/1C4PJMCB3HD218289', 'https://www.carfax.com/vehicle/1C4PJMLB9KD299693', 'https://www.carfax.com/vehicle/1C4PJLDB5HW662965', 'https://www.carfax.com/vehicle/1C4PJMCS9GW341467', 'https://www.carfax.com/vehicle/1C4PJMJN8KD173841', 'https://www.carfax.com/vehicle/1C4PJMDBXGW236810', 'https://www.carfax.com/vehicle/1C4PJMDSXGW187284', 'https://www.carfax.com/vehicle/1C4PJMCS4GW154380', 'https://www.carfax.com/vehicle/1C4PJLCX2KD396689', 'https://www.carfax.com/vehicle/1C4PJLCBXKD487648', 'https://www.carfax.com/vehicle/1C4PJLCSXGW304454', 'https://www.carfax.com/vehicle/1C4PJMCB8HW521427', 'https://www.carfax.com/vehicle/1C4PJLDS0HW664123', 'https://www.carfax.com/vehicle/1C4PJLCSXGW362208', 'https://www.carfax.com/vehicle/1C4PJMDS8HW545404', 'https://www.carfax.com/vehicle/1C4PJLCB0HD231897', 'https://www.carfax.com/vehicle/1C4PJLDB0HW626701', 'https://www.carfax.com/vehicle/1C4PJMCS2GW332965', 'https://www.carfax.com/vehicle/1C4PJMCBXGW330414', 'https://www.carfax.com/vehicle/1C4PJLDBXJD561566', 'https://www.carfax.com/vehicle/1C4PJMDB4HW537767']\n"
     ]
    }
   ],
   "source": [
    "links = list(set(links))\n",
    "print(links)"
   ]
  },
  {
   "cell_type": "code",
   "execution_count": 10,
   "metadata": {},
   "outputs": [
    {
     "name": "stdout",
     "output_type": "stream",
     "text": [
      "https://www.carfax.com/vehicle/1C4PJLLB9KD222378\n",
      "https://www.carfax.com/vehicle/1C4PJMDS6GW327959\n",
      "https://www.carfax.com/vehicle/1C4PJMCBXHW582469\n",
      "https://www.carfax.com/vehicle/1C4PJLCB3HW640769\n",
      "https://www.carfax.com/vehicle/1C4PJMCB3HD218289\n",
      "https://www.carfax.com/vehicle/1C4PJMLB9KD299693\n",
      "https://www.carfax.com/vehicle/1C4PJLDB5HW662965\n",
      "https://www.carfax.com/vehicle/1C4PJMCS9GW341467\n",
      "https://www.carfax.com/vehicle/1C4PJMJN8KD173841\n",
      "https://www.carfax.com/vehicle/1C4PJMDBXGW236810\n",
      "https://www.carfax.com/vehicle/1C4PJMDSXGW187284\n",
      "https://www.carfax.com/vehicle/1C4PJMCS4GW154380\n",
      "https://www.carfax.com/vehicle/1C4PJLCX2KD396689\n",
      "https://www.carfax.com/vehicle/1C4PJLCBXKD487648\n",
      "https://www.carfax.com/vehicle/1C4PJLCSXGW304454\n",
      "https://www.carfax.com/vehicle/1C4PJMCB8HW521427\n",
      "https://www.carfax.com/vehicle/1C4PJLDS0HW664123\n",
      "https://www.carfax.com/vehicle/1C4PJLCSXGW362208\n",
      "https://www.carfax.com/vehicle/1C4PJMDS8HW545404\n",
      "https://www.carfax.com/vehicle/1C4PJLCB0HD231897\n",
      "https://www.carfax.com/vehicle/1C4PJLDB0HW626701\n",
      "https://www.carfax.com/vehicle/1C4PJMCS2GW332965\n",
      "https://www.carfax.com/vehicle/1C4PJMCBXGW330414\n",
      "https://www.carfax.com/vehicle/1C4PJLDBXJD561566\n",
      "https://www.carfax.com/vehicle/1C4PJMDB4HW537767\n"
     ]
    }
   ],
   "source": [
    "clean_links = []\n",
    "data2 = []\n",
    "for link in links:\n",
    "    link = link.replace('.com//','.com/')\n",
    "    if(link not in clean_links):\n",
    "        clean_links.append(link)\n",
    "        print(link)\n",
    "        data2.append(CarFaxVehicleScrapper(link))"
   ]
  },
  {
   "cell_type": "code",
   "execution_count": 11,
   "metadata": {},
   "outputs": [
    {
     "data": {
      "text/plain": [
       "25"
      ]
     },
     "execution_count": 11,
     "metadata": {},
     "output_type": "execute_result"
    }
   ],
   "source": [
    "len(data2)"
   ]
  },
  {
   "cell_type": "code",
   "execution_count": 12,
   "metadata": {},
   "outputs": [
    {
     "data": {
      "text/plain": [
       "25"
      ]
     },
     "execution_count": 12,
     "metadata": {},
     "output_type": "execute_result"
    }
   ],
   "source": [
    "len(clean_links)"
   ]
  },
  {
   "cell_type": "code",
   "execution_count": null,
   "metadata": {},
   "outputs": [],
   "source": []
  },
  {
   "cell_type": "code",
   "execution_count": 12,
   "metadata": {},
   "outputs": [],
   "source": [
    "#dealer info"
   ]
  },
  {
   "cell_type": "code",
   "execution_count": 13,
   "metadata": {},
   "outputs": [
    {
     "data": {
      "text/plain": [
       "{'vin': '1C4PJLLB9KD222378',\n",
       " 'year': '2019',\n",
       " 'make': 'Jeep',\n",
       " 'model': 'Cherokee',\n",
       " 'trim': 'Latitude',\n",
       " 'price': '$18,782',\n",
       " 'mileage': '20,718 miles',\n",
       " 'location': 'Plano, TX',\n",
       " 'ext_color': 'Black',\n",
       " 'int_color': 'Black',\n",
       " 'drive_type': 'FWD',\n",
       " 'transmission': 'Automatic',\n",
       " 'body_style': 'SUV',\n",
       " 'engine': '4 Cyl 2.4 L',\n",
       " 'fuel': 'Gasoline',\n",
       " 'mpg': '22',\n",
       " 'stock_num': 'S541414A',\n",
       " 'dealer_info': {'vin': '1C4PJLLB9KD222378',\n",
       "  'dealer_name': 'Ewing Subaru of Plano',\n",
       "  'dealer_street': '1555 Dallas Pkwy',\n",
       "  'dealer_city': 'Plano,',\n",
       "  'dealer_state': 'TX',\n",
       "  'dealer_zip': '75093',\n",
       "  'dealer_phone': '(833) 223-7685',\n",
       "  'stock_number': 'S541414A'}}"
      ]
     },
     "execution_count": 13,
     "metadata": {},
     "output_type": "execute_result"
    }
   ],
   "source": [
    "data2[0]"
   ]
  },
  {
   "cell_type": "code",
   "execution_count": 14,
   "metadata": {},
   "outputs": [],
   "source": [
    "all_dealers = [x['dealer_info'] for x in data2]"
   ]
  },
  {
   "cell_type": "code",
   "execution_count": 15,
   "metadata": {},
   "outputs": [
    {
     "data": {
      "text/plain": [
       "[{'vin': '1C4PJLLB9KD222378',\n",
       "  'dealer_name': 'Ewing Subaru of Plano',\n",
       "  'dealer_street': '1555 Dallas Pkwy',\n",
       "  'dealer_city': 'Plano,',\n",
       "  'dealer_state': 'TX',\n",
       "  'dealer_zip': '75093',\n",
       "  'dealer_phone': '(833) 223-7685',\n",
       "  'stock_number': 'S541414A'},\n",
       " {'vin': '1C4PJMDS6GW327959',\n",
       "  'dealer_name': 'Novak Motors',\n",
       "  'dealer_street': '210 Airport Fwy',\n",
       "  'dealer_city': 'Bedford,',\n",
       "  'dealer_state': 'TX',\n",
       "  'dealer_zip': '76022',\n",
       "  'dealer_phone': '(844) 924-0439',\n",
       "  'stock_number': '72811'},\n",
       " {'vin': '1C4PJMCBXHW582469',\n",
       "  'dealer_name': 'Novak Motors',\n",
       "  'dealer_street': '210 Airport Fwy',\n",
       "  'dealer_city': 'Bedford,',\n",
       "  'dealer_state': 'TX',\n",
       "  'dealer_zip': '76022',\n",
       "  'dealer_phone': '(844) 924-0439',\n",
       "  'stock_number': '88534'},\n",
       " {'vin': '1C4PJLCB3HW640769',\n",
       "  'dealer_name': 'C3 Auto.com',\n",
       "  'dealer_street': '3101 Premier Dr',\n",
       "  'dealer_city': 'Plano,',\n",
       "  'dealer_state': 'TX',\n",
       "  'dealer_zip': '75075',\n",
       "  'dealer_phone': '(855) 967-1149',\n",
       "  'stock_number': 'P5199'},\n",
       " {'vin': '1C4PJMCB3HD218289',\n",
       "  'dealer_name': 'Driversselect',\n",
       "  'dealer_street': '2615 W Interstate 20',\n",
       "  'dealer_city': 'Grand',\n",
       "  'dealer_state': 'Prairie,',\n",
       "  'dealer_zip': 'TX',\n",
       "  'dealer_phone': '(844) 955-1616',\n",
       "  'stock_number': 'PHD218289'},\n",
       " {'vin': '1C4PJMLB9KD299693',\n",
       "  'dealer_name': 'Certified Autoplex Inc.',\n",
       "  'dealer_street': '3340 Belt Line Rd',\n",
       "  'dealer_city': 'Dallas,',\n",
       "  'dealer_state': 'TX',\n",
       "  'dealer_zip': '75234',\n",
       "  'dealer_phone': '(844) 220-7163',\n",
       "  'stock_number': 'KD299693'},\n",
       " {'vin': '1C4PJLDB5HW662965',\n",
       "  'dealer_name': 'BMW of Grapevine',\n",
       "  'dealer_street': '1111 E State Highway 114',\n",
       "  'dealer_city': 'Grapevine,',\n",
       "  'dealer_state': 'TX',\n",
       "  'dealer_zip': '76092',\n",
       "  'dealer_phone': '(844) 955-1632',\n",
       "  'stock_number': '5063520C'},\n",
       " {'vin': '1C4PJMCS9GW341467',\n",
       "  'dealer_name': 'Novak Motors',\n",
       "  'dealer_street': '210 Airport Fwy',\n",
       "  'dealer_city': 'Bedford,',\n",
       "  'dealer_state': 'TX',\n",
       "  'dealer_zip': '76022',\n",
       "  'dealer_phone': '(844) 924-0439',\n",
       "  'stock_number': '79663'},\n",
       " {'vin': '1C4PJMJN8KD173841',\n",
       "  'dealer_name': 'P.M. Standley Motorcars',\n",
       "  'dealer_street': '1835 Forms Dr',\n",
       "  'dealer_city': 'Carrollton,',\n",
       "  'dealer_state': 'TX',\n",
       "  'dealer_zip': '75006',\n",
       "  'dealer_phone': '(844) 356-4245',\n",
       "  'stock_number': 'KD173841'},\n",
       " {'vin': '1C4PJMDBXGW236810',\n",
       "  'dealer_name': 'Novak Motors',\n",
       "  'dealer_street': '210 Airport Fwy',\n",
       "  'dealer_city': 'Bedford,',\n",
       "  'dealer_state': 'TX',\n",
       "  'dealer_zip': '76022',\n",
       "  'dealer_phone': '(844) 924-0439',\n",
       "  'stock_number': '125437'},\n",
       " {'vin': '1C4PJMDSXGW187284',\n",
       "  'dealer_name': 'Grubbs Infiniti',\n",
       "  'dealer_street': '1500 E State Highway 114',\n",
       "  'dealer_city': 'Grapevine,',\n",
       "  'dealer_state': 'TX',\n",
       "  'dealer_zip': '76092',\n",
       "  'dealer_phone': '(844) 928-1616',\n",
       "  'stock_number': 'GW187284'},\n",
       " {'vin': '1C4PJMCS4GW154380',\n",
       "  'dealer_name': 'Novak Motors',\n",
       "  'dealer_street': '210 Airport Fwy',\n",
       "  'dealer_city': 'Bedford,',\n",
       "  'dealer_state': 'TX',\n",
       "  'dealer_zip': '76022',\n",
       "  'dealer_phone': '(844) 924-0439',\n",
       "  'stock_number': '65530'},\n",
       " {'vin': '1C4PJLCX2KD396689',\n",
       "  'dealer_name': 'Autos of Dallas',\n",
       "  'dealer_street': '4472 W Plano Pkwy',\n",
       "  'dealer_city': 'Plano,',\n",
       "  'dealer_state': 'TX',\n",
       "  'dealer_zip': '75093',\n",
       "  'dealer_phone': '(972) 284-0341',\n",
       "  'stock_number': 'S396689'},\n",
       " {'vin': '1C4PJLCBXKD487648',\n",
       "  'dealer_name': 'Toyota of Richardson',\n",
       "  'dealer_street': '1221 N Central Expy',\n",
       "  'dealer_city': 'Richardson,',\n",
       "  'dealer_state': 'TX',\n",
       "  'dealer_zip': '75080',\n",
       "  'dealer_phone': '(844) 435-8242',\n",
       "  'stock_number': 'KD487648'},\n",
       " {'vin': '1C4PJLCSXGW304454',\n",
       "  'dealer_name': 'Dallas Lease Returns',\n",
       "  'dealer_street': '14335 INWOOD RD',\n",
       "  'dealer_city': 'DALLAS,',\n",
       "  'dealer_state': 'TX',\n",
       "  'dealer_zip': '75244',\n",
       "  'dealer_phone': '(469) 217-6167',\n",
       "  'stock_number': '304454'},\n",
       " {'vin': '1C4PJMCB8HW521427',\n",
       "  'dealer_name': 'Novak Motors',\n",
       "  'dealer_street': '210 Airport Fwy',\n",
       "  'dealer_city': 'Bedford,',\n",
       "  'dealer_state': 'TX',\n",
       "  'dealer_zip': '76022',\n",
       "  'dealer_phone': '(844) 924-0439',\n",
       "  'stock_number': '85091'},\n",
       " {'vin': '1C4PJLDS0HW664123',\n",
       "  'dealer_name': 'Driversselect',\n",
       "  'dealer_street': '2615 W Interstate 20',\n",
       "  'dealer_city': 'Grand',\n",
       "  'dealer_state': 'Prairie,',\n",
       "  'dealer_zip': 'TX',\n",
       "  'dealer_phone': '(844) 955-1616',\n",
       "  'stock_number': 'PHW664123'},\n",
       " {'vin': '1C4PJLCSXGW362208',\n",
       "  'dealer_name': 'Audi Dallas',\n",
       "  'dealer_street': '5033 Lemmon Ave',\n",
       "  'dealer_city': 'Dallas,',\n",
       "  'dealer_state': 'TX',\n",
       "  'dealer_zip': '75209',\n",
       "  'dealer_phone': '(833) 629-7680',\n",
       "  'stock_number': 'GW362208'},\n",
       " {'vin': '1C4PJMDS8HW545404',\n",
       "  'dealer_name': 'Garland Cadillac',\n",
       "  'dealer_street': '11675 Lyndon B Johnson Fwy',\n",
       "  'dealer_city': 'Garland,',\n",
       "  'dealer_state': 'TX',\n",
       "  'dealer_zip': '75041',\n",
       "  'dealer_phone': '(855) 997-1753',\n",
       "  'stock_number': 'XHW545404'},\n",
       " {'vin': '1C4PJLCB0HD231897',\n",
       "  'dealer_name': 'Nissan Of Lewisville',\n",
       "  'dealer_street': '1601 S Stemmons Fwy',\n",
       "  'dealer_city': 'Lewisville,',\n",
       "  'dealer_state': 'TX',\n",
       "  'dealer_zip': '75067',\n",
       "  'dealer_phone': '(833) 959-1331',\n",
       "  'stock_number': 'HD231897'},\n",
       " {'vin': '1C4PJLDB0HW626701',\n",
       "  'dealer_name': 'Moritz Kia of Hurst',\n",
       "  'dealer_street': '110 NE Loop 820',\n",
       "  'dealer_city': 'Hurst,',\n",
       "  'dealer_state': 'TX',\n",
       "  'dealer_zip': '76053',\n",
       "  'dealer_phone': '(833) 309-0706',\n",
       "  'stock_number': 'W211552A'},\n",
       " {'vin': '1C4PJMCS2GW332965',\n",
       "  'dealer_name': 'Huffines Chrysler Jeep Dodge Ram - Lewisville',\n",
       "  'dealer_street': '1024 S Stemmons Fwy # I-35e',\n",
       "  'dealer_city': 'Lewisville,',\n",
       "  'dealer_state': 'TX',\n",
       "  'dealer_zip': '75067',\n",
       "  'dealer_phone': '(844) 931-1903',\n",
       "  'stock_number': 'B4790A'},\n",
       " {'vin': '1C4PJMCBXGW330414',\n",
       "  'dealer_name': 'Novak Motors',\n",
       "  'dealer_street': '210 Airport Fwy',\n",
       "  'dealer_city': 'Bedford,',\n",
       "  'dealer_state': 'TX',\n",
       "  'dealer_zip': '76022',\n",
       "  'dealer_phone': '(844) 924-0439',\n",
       "  'stock_number': '71598'},\n",
       " {'vin': '1C4PJLDBXJD561566',\n",
       "  'dealer_name': 'Huggins Honda',\n",
       "  'dealer_street': '7551 NE Loop 820',\n",
       "  'dealer_city': 'North',\n",
       "  'dealer_state': 'Richland',\n",
       "  'dealer_zip': 'Hills,',\n",
       "  'dealer_phone': '(833) 932-0947',\n",
       "  'stock_number': 'U561566'},\n",
       " {'vin': '1C4PJMDB4HW537767',\n",
       "  'dealer_name': 'Novak Motors',\n",
       "  'dealer_street': '210 Airport Fwy',\n",
       "  'dealer_city': 'Bedford,',\n",
       "  'dealer_state': 'TX',\n",
       "  'dealer_zip': '76022',\n",
       "  'dealer_phone': '(844) 924-0439',\n",
       "  'stock_number': '88420'}]"
      ]
     },
     "execution_count": 15,
     "metadata": {},
     "output_type": "execute_result"
    }
   ],
   "source": [
    "all_dealers "
   ]
  },
  {
   "cell_type": "code",
   "execution_count": 16,
   "metadata": {},
   "outputs": [
    {
     "data": {
      "text/html": [
       "<div>\n",
       "<style scoped>\n",
       "    .dataframe tbody tr th:only-of-type {\n",
       "        vertical-align: middle;\n",
       "    }\n",
       "\n",
       "    .dataframe tbody tr th {\n",
       "        vertical-align: top;\n",
       "    }\n",
       "\n",
       "    .dataframe thead th {\n",
       "        text-align: right;\n",
       "    }\n",
       "</style>\n",
       "<table border=\"1\" class=\"dataframe\">\n",
       "  <thead>\n",
       "    <tr style=\"text-align: right;\">\n",
       "      <th></th>\n",
       "      <th>vin</th>\n",
       "      <th>dealer_name</th>\n",
       "      <th>dealer_street</th>\n",
       "      <th>dealer_city</th>\n",
       "      <th>dealer_state</th>\n",
       "      <th>dealer_zip</th>\n",
       "      <th>dealer_phone</th>\n",
       "      <th>stock_number</th>\n",
       "    </tr>\n",
       "  </thead>\n",
       "  <tbody>\n",
       "    <tr>\n",
       "      <th>0</th>\n",
       "      <td>1C4PJLLB9KD222378</td>\n",
       "      <td>Ewing Subaru of Plano</td>\n",
       "      <td>1555 Dallas Pkwy</td>\n",
       "      <td>Plano,</td>\n",
       "      <td>TX</td>\n",
       "      <td>75093</td>\n",
       "      <td>(833) 223-7685</td>\n",
       "      <td>S541414A</td>\n",
       "    </tr>\n",
       "    <tr>\n",
       "      <th>1</th>\n",
       "      <td>1C4PJMDS6GW327959</td>\n",
       "      <td>Novak Motors</td>\n",
       "      <td>210 Airport Fwy</td>\n",
       "      <td>Bedford,</td>\n",
       "      <td>TX</td>\n",
       "      <td>76022</td>\n",
       "      <td>(844) 924-0439</td>\n",
       "      <td>72811</td>\n",
       "    </tr>\n",
       "    <tr>\n",
       "      <th>2</th>\n",
       "      <td>1C4PJMCBXHW582469</td>\n",
       "      <td>Novak Motors</td>\n",
       "      <td>210 Airport Fwy</td>\n",
       "      <td>Bedford,</td>\n",
       "      <td>TX</td>\n",
       "      <td>76022</td>\n",
       "      <td>(844) 924-0439</td>\n",
       "      <td>88534</td>\n",
       "    </tr>\n",
       "    <tr>\n",
       "      <th>3</th>\n",
       "      <td>1C4PJLCB3HW640769</td>\n",
       "      <td>C3 Auto.com</td>\n",
       "      <td>3101 Premier Dr</td>\n",
       "      <td>Plano,</td>\n",
       "      <td>TX</td>\n",
       "      <td>75075</td>\n",
       "      <td>(855) 967-1149</td>\n",
       "      <td>P5199</td>\n",
       "    </tr>\n",
       "    <tr>\n",
       "      <th>4</th>\n",
       "      <td>1C4PJMCB3HD218289</td>\n",
       "      <td>Driversselect</td>\n",
       "      <td>2615 W Interstate 20</td>\n",
       "      <td>Grand</td>\n",
       "      <td>Prairie,</td>\n",
       "      <td>TX</td>\n",
       "      <td>(844) 955-1616</td>\n",
       "      <td>PHD218289</td>\n",
       "    </tr>\n",
       "  </tbody>\n",
       "</table>\n",
       "</div>"
      ],
      "text/plain": [
       "                 vin            dealer_name         dealer_street dealer_city  \\\n",
       "0  1C4PJLLB9KD222378  Ewing Subaru of Plano      1555 Dallas Pkwy      Plano,   \n",
       "1  1C4PJMDS6GW327959           Novak Motors       210 Airport Fwy    Bedford,   \n",
       "2  1C4PJMCBXHW582469           Novak Motors       210 Airport Fwy    Bedford,   \n",
       "3  1C4PJLCB3HW640769            C3 Auto.com       3101 Premier Dr      Plano,   \n",
       "4  1C4PJMCB3HD218289          Driversselect  2615 W Interstate 20       Grand   \n",
       "\n",
       "  dealer_state dealer_zip    dealer_phone stock_number  \n",
       "0           TX      75093  (833) 223-7685     S541414A  \n",
       "1           TX      76022  (844) 924-0439        72811  \n",
       "2           TX      76022  (844) 924-0439        88534  \n",
       "3           TX      75075  (855) 967-1149        P5199  \n",
       "4     Prairie,         TX  (844) 955-1616    PHD218289  "
      ]
     },
     "execution_count": 16,
     "metadata": {},
     "output_type": "execute_result"
    }
   ],
   "source": [
    "dealer_df = pd.DataFrame(all_dealers)\n",
    "dealer_df.head()"
   ]
  },
  {
   "cell_type": "code",
   "execution_count": 17,
   "metadata": {},
   "outputs": [
    {
     "data": {
      "text/plain": [
       "[{'vin': '1C4PJLLB9KD222378',\n",
       "  'dealer_name': 'Ewing Subaru of Plano',\n",
       "  'dealer_street': '1555 Dallas Pkwy',\n",
       "  'dealer_city': 'Plano,',\n",
       "  'dealer_state': 'TX',\n",
       "  'dealer_zip': '75093',\n",
       "  'dealer_phone': '(833) 223-7685',\n",
       "  'stock_number': 'S541414A'},\n",
       " {'vin': '1C4PJMDS6GW327959',\n",
       "  'dealer_name': 'Novak Motors',\n",
       "  'dealer_street': '210 Airport Fwy',\n",
       "  'dealer_city': 'Bedford,',\n",
       "  'dealer_state': 'TX',\n",
       "  'dealer_zip': '76022',\n",
       "  'dealer_phone': '(844) 924-0439',\n",
       "  'stock_number': '72811'},\n",
       " {'vin': '1C4PJMCBXHW582469',\n",
       "  'dealer_name': 'Novak Motors',\n",
       "  'dealer_street': '210 Airport Fwy',\n",
       "  'dealer_city': 'Bedford,',\n",
       "  'dealer_state': 'TX',\n",
       "  'dealer_zip': '76022',\n",
       "  'dealer_phone': '(844) 924-0439',\n",
       "  'stock_number': '88534'},\n",
       " {'vin': '1C4PJLCB3HW640769',\n",
       "  'dealer_name': 'C3 Auto.com',\n",
       "  'dealer_street': '3101 Premier Dr',\n",
       "  'dealer_city': 'Plano,',\n",
       "  'dealer_state': 'TX',\n",
       "  'dealer_zip': '75075',\n",
       "  'dealer_phone': '(855) 967-1149',\n",
       "  'stock_number': 'P5199'},\n",
       " {'vin': '1C4PJMCB3HD218289',\n",
       "  'dealer_name': 'Driversselect',\n",
       "  'dealer_street': '2615 W Interstate 20',\n",
       "  'dealer_city': 'Grand',\n",
       "  'dealer_state': 'Prairie,',\n",
       "  'dealer_zip': 'TX',\n",
       "  'dealer_phone': '(844) 955-1616',\n",
       "  'stock_number': 'PHD218289'},\n",
       " {'vin': '1C4PJMLB9KD299693',\n",
       "  'dealer_name': 'Certified Autoplex Inc.',\n",
       "  'dealer_street': '3340 Belt Line Rd',\n",
       "  'dealer_city': 'Dallas,',\n",
       "  'dealer_state': 'TX',\n",
       "  'dealer_zip': '75234',\n",
       "  'dealer_phone': '(844) 220-7163',\n",
       "  'stock_number': 'KD299693'},\n",
       " {'vin': '1C4PJLDB5HW662965',\n",
       "  'dealer_name': 'BMW of Grapevine',\n",
       "  'dealer_street': '1111 E State Highway 114',\n",
       "  'dealer_city': 'Grapevine,',\n",
       "  'dealer_state': 'TX',\n",
       "  'dealer_zip': '76092',\n",
       "  'dealer_phone': '(844) 955-1632',\n",
       "  'stock_number': '5063520C'},\n",
       " {'vin': '1C4PJMCS9GW341467',\n",
       "  'dealer_name': 'Novak Motors',\n",
       "  'dealer_street': '210 Airport Fwy',\n",
       "  'dealer_city': 'Bedford,',\n",
       "  'dealer_state': 'TX',\n",
       "  'dealer_zip': '76022',\n",
       "  'dealer_phone': '(844) 924-0439',\n",
       "  'stock_number': '79663'},\n",
       " {'vin': '1C4PJMJN8KD173841',\n",
       "  'dealer_name': 'P.M. Standley Motorcars',\n",
       "  'dealer_street': '1835 Forms Dr',\n",
       "  'dealer_city': 'Carrollton,',\n",
       "  'dealer_state': 'TX',\n",
       "  'dealer_zip': '75006',\n",
       "  'dealer_phone': '(844) 356-4245',\n",
       "  'stock_number': 'KD173841'},\n",
       " {'vin': '1C4PJMDBXGW236810',\n",
       "  'dealer_name': 'Novak Motors',\n",
       "  'dealer_street': '210 Airport Fwy',\n",
       "  'dealer_city': 'Bedford,',\n",
       "  'dealer_state': 'TX',\n",
       "  'dealer_zip': '76022',\n",
       "  'dealer_phone': '(844) 924-0439',\n",
       "  'stock_number': '125437'},\n",
       " {'vin': '1C4PJMDSXGW187284',\n",
       "  'dealer_name': 'Grubbs Infiniti',\n",
       "  'dealer_street': '1500 E State Highway 114',\n",
       "  'dealer_city': 'Grapevine,',\n",
       "  'dealer_state': 'TX',\n",
       "  'dealer_zip': '76092',\n",
       "  'dealer_phone': '(844) 928-1616',\n",
       "  'stock_number': 'GW187284'},\n",
       " {'vin': '1C4PJMCS4GW154380',\n",
       "  'dealer_name': 'Novak Motors',\n",
       "  'dealer_street': '210 Airport Fwy',\n",
       "  'dealer_city': 'Bedford,',\n",
       "  'dealer_state': 'TX',\n",
       "  'dealer_zip': '76022',\n",
       "  'dealer_phone': '(844) 924-0439',\n",
       "  'stock_number': '65530'},\n",
       " {'vin': '1C4PJLCX2KD396689',\n",
       "  'dealer_name': 'Autos of Dallas',\n",
       "  'dealer_street': '4472 W Plano Pkwy',\n",
       "  'dealer_city': 'Plano,',\n",
       "  'dealer_state': 'TX',\n",
       "  'dealer_zip': '75093',\n",
       "  'dealer_phone': '(972) 284-0341',\n",
       "  'stock_number': 'S396689'},\n",
       " {'vin': '1C4PJLCBXKD487648',\n",
       "  'dealer_name': 'Toyota of Richardson',\n",
       "  'dealer_street': '1221 N Central Expy',\n",
       "  'dealer_city': 'Richardson,',\n",
       "  'dealer_state': 'TX',\n",
       "  'dealer_zip': '75080',\n",
       "  'dealer_phone': '(844) 435-8242',\n",
       "  'stock_number': 'KD487648'},\n",
       " {'vin': '1C4PJLCSXGW304454',\n",
       "  'dealer_name': 'Dallas Lease Returns',\n",
       "  'dealer_street': '14335 INWOOD RD',\n",
       "  'dealer_city': 'DALLAS,',\n",
       "  'dealer_state': 'TX',\n",
       "  'dealer_zip': '75244',\n",
       "  'dealer_phone': '(469) 217-6167',\n",
       "  'stock_number': '304454'},\n",
       " {'vin': '1C4PJMCB8HW521427',\n",
       "  'dealer_name': 'Novak Motors',\n",
       "  'dealer_street': '210 Airport Fwy',\n",
       "  'dealer_city': 'Bedford,',\n",
       "  'dealer_state': 'TX',\n",
       "  'dealer_zip': '76022',\n",
       "  'dealer_phone': '(844) 924-0439',\n",
       "  'stock_number': '85091'},\n",
       " {'vin': '1C4PJLDS0HW664123',\n",
       "  'dealer_name': 'Driversselect',\n",
       "  'dealer_street': '2615 W Interstate 20',\n",
       "  'dealer_city': 'Grand',\n",
       "  'dealer_state': 'Prairie,',\n",
       "  'dealer_zip': 'TX',\n",
       "  'dealer_phone': '(844) 955-1616',\n",
       "  'stock_number': 'PHW664123'},\n",
       " {'vin': '1C4PJLCSXGW362208',\n",
       "  'dealer_name': 'Audi Dallas',\n",
       "  'dealer_street': '5033 Lemmon Ave',\n",
       "  'dealer_city': 'Dallas,',\n",
       "  'dealer_state': 'TX',\n",
       "  'dealer_zip': '75209',\n",
       "  'dealer_phone': '(833) 629-7680',\n",
       "  'stock_number': 'GW362208'},\n",
       " {'vin': '1C4PJMDS8HW545404',\n",
       "  'dealer_name': 'Garland Cadillac',\n",
       "  'dealer_street': '11675 Lyndon B Johnson Fwy',\n",
       "  'dealer_city': 'Garland,',\n",
       "  'dealer_state': 'TX',\n",
       "  'dealer_zip': '75041',\n",
       "  'dealer_phone': '(855) 997-1753',\n",
       "  'stock_number': 'XHW545404'},\n",
       " {'vin': '1C4PJLCB0HD231897',\n",
       "  'dealer_name': 'Nissan Of Lewisville',\n",
       "  'dealer_street': '1601 S Stemmons Fwy',\n",
       "  'dealer_city': 'Lewisville,',\n",
       "  'dealer_state': 'TX',\n",
       "  'dealer_zip': '75067',\n",
       "  'dealer_phone': '(833) 959-1331',\n",
       "  'stock_number': 'HD231897'},\n",
       " {'vin': '1C4PJLDB0HW626701',\n",
       "  'dealer_name': 'Moritz Kia of Hurst',\n",
       "  'dealer_street': '110 NE Loop 820',\n",
       "  'dealer_city': 'Hurst,',\n",
       "  'dealer_state': 'TX',\n",
       "  'dealer_zip': '76053',\n",
       "  'dealer_phone': '(833) 309-0706',\n",
       "  'stock_number': 'W211552A'},\n",
       " {'vin': '1C4PJMCS2GW332965',\n",
       "  'dealer_name': 'Huffines Chrysler Jeep Dodge Ram - Lewisville',\n",
       "  'dealer_street': '1024 S Stemmons Fwy # I-35e',\n",
       "  'dealer_city': 'Lewisville,',\n",
       "  'dealer_state': 'TX',\n",
       "  'dealer_zip': '75067',\n",
       "  'dealer_phone': '(844) 931-1903',\n",
       "  'stock_number': 'B4790A'},\n",
       " {'vin': '1C4PJMCBXGW330414',\n",
       "  'dealer_name': 'Novak Motors',\n",
       "  'dealer_street': '210 Airport Fwy',\n",
       "  'dealer_city': 'Bedford,',\n",
       "  'dealer_state': 'TX',\n",
       "  'dealer_zip': '76022',\n",
       "  'dealer_phone': '(844) 924-0439',\n",
       "  'stock_number': '71598'},\n",
       " {'vin': '1C4PJLDBXJD561566',\n",
       "  'dealer_name': 'Huggins Honda',\n",
       "  'dealer_street': '7551 NE Loop 820',\n",
       "  'dealer_city': 'North',\n",
       "  'dealer_state': 'Richland',\n",
       "  'dealer_zip': 'Hills,',\n",
       "  'dealer_phone': '(833) 932-0947',\n",
       "  'stock_number': 'U561566'},\n",
       " {'vin': '1C4PJMDB4HW537767',\n",
       "  'dealer_name': 'Novak Motors',\n",
       "  'dealer_street': '210 Airport Fwy',\n",
       "  'dealer_city': 'Bedford,',\n",
       "  'dealer_state': 'TX',\n",
       "  'dealer_zip': '76022',\n",
       "  'dealer_phone': '(844) 924-0439',\n",
       "  'stock_number': '88420'}]"
      ]
     },
     "execution_count": 17,
     "metadata": {},
     "output_type": "execute_result"
    }
   ],
   "source": [
    "all_dealers"
   ]
  },
  {
   "cell_type": "code",
   "execution_count": 17,
   "metadata": {},
   "outputs": [],
   "source": [
    "temp = soup.find(id='totalResultCount')"
   ]
  },
  {
   "cell_type": "code",
   "execution_count": 18,
   "metadata": {},
   "outputs": [
    {
     "data": {
      "text/plain": [
       "'187'"
      ]
     },
     "execution_count": 18,
     "metadata": {},
     "output_type": "execute_result"
    }
   ],
   "source": [
    "str(temp.contents[0]).strip()"
   ]
  },
  {
   "cell_type": "code",
   "execution_count": 19,
   "metadata": {},
   "outputs": [],
   "source": [
    "#Car_description table"
   ]
  },
  {
   "cell_type": "code",
   "execution_count": 20,
   "metadata": {},
   "outputs": [],
   "source": [
    "vin= [k['vin'] for k in data2]\n",
    "make=[k['make'] for k in data2]\n",
    "model=[k['model'] for k in data2]\n",
    "ext_color= [k['ext_color'] for k in data2]\n",
    "int_color= [k['int_color'] for k in data2]\n",
    "body_style= [k['body_style'] for k in data2]\n",
    "year= [k['year'] for k in data2]"
   ]
  },
  {
   "cell_type": "code",
   "execution_count": 21,
   "metadata": {},
   "outputs": [],
   "source": [
    "list_of_descriptions= list(zip(vin,make,model,ext_color,int_color,body_style,year))"
   ]
  },
  {
   "cell_type": "code",
   "execution_count": 22,
   "metadata": {},
   "outputs": [
    {
     "data": {
      "text/html": [
       "<div>\n",
       "<style scoped>\n",
       "    .dataframe tbody tr th:only-of-type {\n",
       "        vertical-align: middle;\n",
       "    }\n",
       "\n",
       "    .dataframe tbody tr th {\n",
       "        vertical-align: top;\n",
       "    }\n",
       "\n",
       "    .dataframe thead th {\n",
       "        text-align: right;\n",
       "    }\n",
       "</style>\n",
       "<table border=\"1\" class=\"dataframe\">\n",
       "  <thead>\n",
       "    <tr style=\"text-align: right;\">\n",
       "      <th></th>\n",
       "      <th>vin</th>\n",
       "      <th>make</th>\n",
       "      <th>model</th>\n",
       "      <th>ext_color</th>\n",
       "      <th>int_color</th>\n",
       "      <th>body_style</th>\n",
       "      <th>year</th>\n",
       "    </tr>\n",
       "  </thead>\n",
       "  <tbody>\n",
       "    <tr>\n",
       "      <th>0</th>\n",
       "      <td>1C4PJMDSXGW187284</td>\n",
       "      <td>Jeep</td>\n",
       "      <td>Cherokee</td>\n",
       "      <td>Black</td>\n",
       "      <td>Tan</td>\n",
       "      <td>SUV</td>\n",
       "      <td>2016</td>\n",
       "    </tr>\n",
       "    <tr>\n",
       "      <th>1</th>\n",
       "      <td>1C4PJLCSXGW362208</td>\n",
       "      <td>Jeep</td>\n",
       "      <td>Cherokee</td>\n",
       "      <td>Silver</td>\n",
       "      <td>Black</td>\n",
       "      <td>SUV</td>\n",
       "      <td>2016</td>\n",
       "    </tr>\n",
       "    <tr>\n",
       "      <th>2</th>\n",
       "      <td>1C4PJLDB5HW662965</td>\n",
       "      <td>Jeep</td>\n",
       "      <td>Cherokee</td>\n",
       "      <td>Black</td>\n",
       "      <td>Black</td>\n",
       "      <td>SUV</td>\n",
       "      <td>2017</td>\n",
       "    </tr>\n",
       "    <tr>\n",
       "      <th>3</th>\n",
       "      <td>1C4PJMCB3HD218289</td>\n",
       "      <td>Jeep</td>\n",
       "      <td>Cherokee</td>\n",
       "      <td>Silver</td>\n",
       "      <td>Black</td>\n",
       "      <td>SUV</td>\n",
       "      <td>2017</td>\n",
       "    </tr>\n",
       "    <tr>\n",
       "      <th>4</th>\n",
       "      <td>1C4PJMCB8HW521427</td>\n",
       "      <td>Jeep</td>\n",
       "      <td>Cherokee</td>\n",
       "      <td>Gray</td>\n",
       "      <td>Black</td>\n",
       "      <td>SUV</td>\n",
       "      <td>2017</td>\n",
       "    </tr>\n",
       "  </tbody>\n",
       "</table>\n",
       "</div>"
      ],
      "text/plain": [
       "                 vin  make     model ext_color int_color body_style  year\n",
       "0  1C4PJMDSXGW187284  Jeep  Cherokee     Black       Tan        SUV  2016\n",
       "1  1C4PJLCSXGW362208  Jeep  Cherokee    Silver     Black        SUV  2016\n",
       "2  1C4PJLDB5HW662965  Jeep  Cherokee     Black     Black        SUV  2017\n",
       "3  1C4PJMCB3HD218289  Jeep  Cherokee    Silver     Black        SUV  2017\n",
       "4  1C4PJMCB8HW521427  Jeep  Cherokee      Gray     Black        SUV  2017"
      ]
     },
     "execution_count": 22,
     "metadata": {},
     "output_type": "execute_result"
    }
   ],
   "source": [
    "car_descriptions_df=  pd.DataFrame(list_of_descriptions, columns=['vin','make','model','ext_color','int_color','body_style','year'])\n",
    "\n",
    "car_descriptions_df.head()"
   ]
  },
  {
   "cell_type": "code",
   "execution_count": 23,
   "metadata": {},
   "outputs": [],
   "source": [
    "####Vehicle Info"
   ]
  },
  {
   "cell_type": "code",
   "execution_count": 24,
   "metadata": {},
   "outputs": [],
   "source": [
    "mileage= [k['mileage'] for k in data2]\n",
    "location= [k['location'] for k in data2]"
   ]
  },
  {
   "cell_type": "code",
   "execution_count": 25,
   "metadata": {},
   "outputs": [],
   "source": [
    "v_info_list = list(zip(vin,mileage,location))"
   ]
  },
  {
   "cell_type": "code",
   "execution_count": 26,
   "metadata": {},
   "outputs": [
    {
     "data": {
      "text/html": [
       "<div>\n",
       "<style scoped>\n",
       "    .dataframe tbody tr th:only-of-type {\n",
       "        vertical-align: middle;\n",
       "    }\n",
       "\n",
       "    .dataframe tbody tr th {\n",
       "        vertical-align: top;\n",
       "    }\n",
       "\n",
       "    .dataframe thead th {\n",
       "        text-align: right;\n",
       "    }\n",
       "</style>\n",
       "<table border=\"1\" class=\"dataframe\">\n",
       "  <thead>\n",
       "    <tr style=\"text-align: right;\">\n",
       "      <th></th>\n",
       "      <th>vin</th>\n",
       "      <th>mileage</th>\n",
       "      <th>location</th>\n",
       "    </tr>\n",
       "  </thead>\n",
       "  <tbody>\n",
       "    <tr>\n",
       "      <th>0</th>\n",
       "      <td>1C4PJMDSXGW187284</td>\n",
       "      <td>42,081 miles</td>\n",
       "      <td>Grapevine, TX</td>\n",
       "    </tr>\n",
       "    <tr>\n",
       "      <th>1</th>\n",
       "      <td>1C4PJLCSXGW362208</td>\n",
       "      <td>36,616 miles</td>\n",
       "      <td>Dallas, TX</td>\n",
       "    </tr>\n",
       "    <tr>\n",
       "      <th>2</th>\n",
       "      <td>1C4PJLDB5HW662965</td>\n",
       "      <td>33,813 miles</td>\n",
       "      <td>Grapevine, TX</td>\n",
       "    </tr>\n",
       "    <tr>\n",
       "      <th>3</th>\n",
       "      <td>1C4PJMCB3HD218289</td>\n",
       "      <td>25,212 miles</td>\n",
       "      <td>Grand Prairie, TX</td>\n",
       "    </tr>\n",
       "    <tr>\n",
       "      <th>4</th>\n",
       "      <td>1C4PJMCB8HW521427</td>\n",
       "      <td>27,613 miles</td>\n",
       "      <td>Bedford, TX</td>\n",
       "    </tr>\n",
       "  </tbody>\n",
       "</table>\n",
       "</div>"
      ],
      "text/plain": [
       "                 vin       mileage           location\n",
       "0  1C4PJMDSXGW187284  42,081 miles      Grapevine, TX\n",
       "1  1C4PJLCSXGW362208  36,616 miles         Dallas, TX\n",
       "2  1C4PJLDB5HW662965  33,813 miles      Grapevine, TX\n",
       "3  1C4PJMCB3HD218289  25,212 miles  Grand Prairie, TX\n",
       "4  1C4PJMCB8HW521427  27,613 miles        Bedford, TX"
      ]
     },
     "execution_count": 26,
     "metadata": {},
     "output_type": "execute_result"
    }
   ],
   "source": [
    "v_info_df= pd.DataFrame(v_info_list, columns=['vin','mileage','location'])\n",
    "\n",
    "v_info_df.head()"
   ]
  },
  {
   "cell_type": "code",
   "execution_count": 27,
   "metadata": {},
   "outputs": [],
   "source": [
    "###Drive train info"
   ]
  },
  {
   "cell_type": "code",
   "execution_count": 28,
   "metadata": {},
   "outputs": [],
   "source": [
    "drive_type= [k['drive_type'] for k in data2]\n",
    "engine= [k['engine'] for k in data2]\n",
    "transmission= [k['transmission'] for k in data2]\n",
    "mpg= [k['mpg'] for k in data2]\n",
    "fuel= [k['fuel'] for k in data2]"
   ]
  },
  {
   "cell_type": "code",
   "execution_count": 29,
   "metadata": {},
   "outputs": [],
   "source": [
    "drive_train_list= list(zip(vin,drive_type,engine,transmission,mpg,fuel))"
   ]
  },
  {
   "cell_type": "code",
   "execution_count": 30,
   "metadata": {},
   "outputs": [
    {
     "data": {
      "text/html": [
       "<div>\n",
       "<style scoped>\n",
       "    .dataframe tbody tr th:only-of-type {\n",
       "        vertical-align: middle;\n",
       "    }\n",
       "\n",
       "    .dataframe tbody tr th {\n",
       "        vertical-align: top;\n",
       "    }\n",
       "\n",
       "    .dataframe thead th {\n",
       "        text-align: right;\n",
       "    }\n",
       "</style>\n",
       "<table border=\"1\" class=\"dataframe\">\n",
       "  <thead>\n",
       "    <tr style=\"text-align: right;\">\n",
       "      <th></th>\n",
       "      <th>vin</th>\n",
       "      <th>drive_type</th>\n",
       "      <th>engine</th>\n",
       "      <th>transmission</th>\n",
       "      <th>mpg</th>\n",
       "      <th>fuel</th>\n",
       "    </tr>\n",
       "  </thead>\n",
       "  <tbody>\n",
       "    <tr>\n",
       "      <th>0</th>\n",
       "      <td>1C4PJMDSXGW187284</td>\n",
       "      <td>4WD</td>\n",
       "      <td>6 Cyl 3.2 L</td>\n",
       "      <td>Automatic</td>\n",
       "      <td>19</td>\n",
       "      <td>Gasoline</td>\n",
       "    </tr>\n",
       "    <tr>\n",
       "      <th>1</th>\n",
       "      <td>1C4PJLCSXGW362208</td>\n",
       "      <td>FWD</td>\n",
       "      <td>6 Cyl 3.2 L</td>\n",
       "      <td>Automatic</td>\n",
       "      <td>21</td>\n",
       "      <td>Gasoline</td>\n",
       "    </tr>\n",
       "    <tr>\n",
       "      <th>2</th>\n",
       "      <td>1C4PJLDB5HW662965</td>\n",
       "      <td>FWD</td>\n",
       "      <td>4 Cyl 2.4 L</td>\n",
       "      <td>Automatic</td>\n",
       "      <td>21</td>\n",
       "      <td>Gasoline</td>\n",
       "    </tr>\n",
       "    <tr>\n",
       "      <th>3</th>\n",
       "      <td>1C4PJMCB3HD218289</td>\n",
       "      <td>4WD</td>\n",
       "      <td>4 Cyl 2.4 L</td>\n",
       "      <td>Automatic</td>\n",
       "      <td>21</td>\n",
       "      <td>Gasoline</td>\n",
       "    </tr>\n",
       "    <tr>\n",
       "      <th>4</th>\n",
       "      <td>1C4PJMCB8HW521427</td>\n",
       "      <td>4WD</td>\n",
       "      <td>4 Cyl 2.4 L</td>\n",
       "      <td>Automatic</td>\n",
       "      <td>21</td>\n",
       "      <td>Gasoline</td>\n",
       "    </tr>\n",
       "  </tbody>\n",
       "</table>\n",
       "</div>"
      ],
      "text/plain": [
       "                 vin drive_type       engine transmission mpg      fuel\n",
       "0  1C4PJMDSXGW187284        4WD  6 Cyl 3.2 L    Automatic  19  Gasoline\n",
       "1  1C4PJLCSXGW362208        FWD  6 Cyl 3.2 L    Automatic  21  Gasoline\n",
       "2  1C4PJLDB5HW662965        FWD  4 Cyl 2.4 L    Automatic  21  Gasoline\n",
       "3  1C4PJMCB3HD218289        4WD  4 Cyl 2.4 L    Automatic  21  Gasoline\n",
       "4  1C4PJMCB8HW521427        4WD  4 Cyl 2.4 L    Automatic  21  Gasoline"
      ]
     },
     "execution_count": 30,
     "metadata": {},
     "output_type": "execute_result"
    }
   ],
   "source": [
    "drive_train_df= pd.DataFrame(drive_train_list, columns= ['vin','drive_type','engine', 'transmission', 'mpg', 'fuel'])\n",
    "\n",
    "drive_train_df.head()"
   ]
  },
  {
   "cell_type": "code",
   "execution_count": 31,
   "metadata": {},
   "outputs": [],
   "source": [
    "###orice info"
   ]
  },
  {
   "cell_type": "code",
   "execution_count": 32,
   "metadata": {},
   "outputs": [],
   "source": [
    "price= [x['price'] for x in data2]"
   ]
  },
  {
   "cell_type": "code",
   "execution_count": 33,
   "metadata": {},
   "outputs": [],
   "source": [
    "price_list= list(zip(vin,price))"
   ]
  },
  {
   "cell_type": "code",
   "execution_count": 34,
   "metadata": {},
   "outputs": [
    {
     "data": {
      "text/html": [
       "<div>\n",
       "<style scoped>\n",
       "    .dataframe tbody tr th:only-of-type {\n",
       "        vertical-align: middle;\n",
       "    }\n",
       "\n",
       "    .dataframe tbody tr th {\n",
       "        vertical-align: top;\n",
       "    }\n",
       "\n",
       "    .dataframe thead th {\n",
       "        text-align: right;\n",
       "    }\n",
       "</style>\n",
       "<table border=\"1\" class=\"dataframe\">\n",
       "  <thead>\n",
       "    <tr style=\"text-align: right;\">\n",
       "      <th></th>\n",
       "      <th>vin</th>\n",
       "      <th>price</th>\n",
       "    </tr>\n",
       "  </thead>\n",
       "  <tbody>\n",
       "    <tr>\n",
       "      <th>0</th>\n",
       "      <td>1C4PJMDSXGW187284</td>\n",
       "      <td>$18,250</td>\n",
       "    </tr>\n",
       "    <tr>\n",
       "      <th>1</th>\n",
       "      <td>1C4PJLCSXGW362208</td>\n",
       "      <td>$15,493</td>\n",
       "    </tr>\n",
       "    <tr>\n",
       "      <th>2</th>\n",
       "      <td>1C4PJLDB5HW662965</td>\n",
       "      <td>$16,988</td>\n",
       "    </tr>\n",
       "    <tr>\n",
       "      <th>3</th>\n",
       "      <td>1C4PJMCB3HD218289</td>\n",
       "      <td>$16,869</td>\n",
       "    </tr>\n",
       "    <tr>\n",
       "      <th>4</th>\n",
       "      <td>1C4PJMCB8HW521427</td>\n",
       "      <td>$17,498</td>\n",
       "    </tr>\n",
       "  </tbody>\n",
       "</table>\n",
       "</div>"
      ],
      "text/plain": [
       "                 vin    price\n",
       "0  1C4PJMDSXGW187284  $18,250\n",
       "1  1C4PJLCSXGW362208  $15,493\n",
       "2  1C4PJLDB5HW662965  $16,988\n",
       "3  1C4PJMCB3HD218289  $16,869\n",
       "4  1C4PJMCB8HW521427  $17,498"
      ]
     },
     "execution_count": 34,
     "metadata": {},
     "output_type": "execute_result"
    }
   ],
   "source": [
    "price_df= pd.DataFrame(price_list, columns=['vin', 'price'])\n",
    "\n",
    "price_df.head()"
   ]
  },
  {
   "cell_type": "code",
   "execution_count": 35,
   "metadata": {},
   "outputs": [
    {
     "ename": "NameError",
     "evalue": "name 'browser' is not defined",
     "output_type": "error",
     "traceback": [
      "\u001b[1;31m---------------------------------------------------------------------------\u001b[0m",
      "\u001b[1;31mNameError\u001b[0m                                 Traceback (most recent call last)",
      "\u001b[1;32m<ipython-input-35-710928f8954f>\u001b[0m in \u001b[0;36m<module>\u001b[1;34m\u001b[0m\n\u001b[1;32m----> 1\u001b[1;33m \u001b[0mbrowser\u001b[0m\u001b[1;33m.\u001b[0m\u001b[0mquit\u001b[0m\u001b[1;33m(\u001b[0m\u001b[1;33m)\u001b[0m\u001b[1;33m\u001b[0m\u001b[1;33m\u001b[0m\u001b[0m\n\u001b[0m",
      "\u001b[1;31mNameError\u001b[0m: name 'browser' is not defined"
     ]
    }
   ],
   "source": [
    "browser.quit()"
   ]
  },
  {
   "cell_type": "markdown",
   "metadata": {},
   "source": [
    "# Load into MongoDB\n"
   ]
  },
  {
   "cell_type": "code",
   "execution_count": 36,
   "metadata": {},
   "outputs": [],
   "source": [
    "import pymongo"
   ]
  },
  {
   "cell_type": "code",
   "execution_count": 37,
   "metadata": {},
   "outputs": [],
   "source": [
    "conn = 'mongodb://localhost:27017'\n",
    "client = pymongo.MongoClient(conn)\n",
    "\n",
    "# Define the 'classDB' database in Mongo\n",
    "db = client.carfaxDB"
   ]
  },
  {
   "cell_type": "code",
   "execution_count": 42,
   "metadata": {},
   "outputs": [
    {
     "data": {
      "text/plain": [
       "<pymongo.results.InsertManyResult at 0x1c846971d48>"
      ]
     },
     "execution_count": 42,
     "metadata": {},
     "output_type": "execute_result"
    }
   ],
   "source": [
    "db.price_df.insert_many(price_df.to_dict('records'))"
   ]
  },
  {
   "cell_type": "code",
   "execution_count": 43,
   "metadata": {},
   "outputs": [
    {
     "data": {
      "text/plain": [
       "<pymongo.results.InsertManyResult at 0x1c846da8708>"
      ]
     },
     "execution_count": 43,
     "metadata": {},
     "output_type": "execute_result"
    }
   ],
   "source": [
    "db.driveTrain_df.insert_many(drive_train_df.to_dict('records'))"
   ]
  },
  {
   "cell_type": "code",
   "execution_count": 44,
   "metadata": {},
   "outputs": [
    {
     "data": {
      "text/plain": [
       "<pymongo.results.InsertManyResult at 0x1c846da8788>"
      ]
     },
     "execution_count": 44,
     "metadata": {},
     "output_type": "execute_result"
    }
   ],
   "source": [
    "db.vehicleInfo_df.insert_many(v_info_df.to_dict('records'))"
   ]
  },
  {
   "cell_type": "code",
   "execution_count": 45,
   "metadata": {},
   "outputs": [
    {
     "data": {
      "text/plain": [
       "<pymongo.results.InsertManyResult at 0x1c846da1e88>"
      ]
     },
     "execution_count": 45,
     "metadata": {},
     "output_type": "execute_result"
    }
   ],
   "source": [
    "db.carDescriptions_df.insert_many(car_descriptions_df.to_dict('records'))"
   ]
  },
  {
   "cell_type": "code",
   "execution_count": null,
   "metadata": {},
   "outputs": [],
   "source": []
  },
  {
   "cell_type": "code",
   "execution_count": null,
   "metadata": {},
   "outputs": [],
   "source": []
  }
 ],
 "metadata": {
  "kernelspec": {
   "display_name": "Python 3",
   "language": "python",
   "name": "python3"
  },
  "language_info": {
   "codemirror_mode": {
    "name": "ipython",
    "version": 3
   },
   "file_extension": ".py",
   "mimetype": "text/x-python",
   "name": "python",
   "nbconvert_exporter": "python",
   "pygments_lexer": "ipython3",
   "version": "3.7.7"
  }
 },
 "nbformat": 4,
 "nbformat_minor": 4
}
