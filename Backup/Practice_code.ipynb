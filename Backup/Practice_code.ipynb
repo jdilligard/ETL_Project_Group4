{
 "cells": [
  {
   "cell_type": "code",
   "execution_count": 1,
   "metadata": {},
   "outputs": [],
   "source": [
    "import requests\n",
    "from bs4 import BeautifulSoup"
   ]
  },
  {
   "cell_type": "code",
   "execution_count": 2,
   "metadata": {},
   "outputs": [],
   "source": [
    "URL = 'https://www.carfax.com/Used-Jeep-Cherokee_w371'"
   ]
  },
  {
   "cell_type": "code",
   "execution_count": 3,
   "metadata": {},
   "outputs": [],
   "source": [
    "page = requests.get(URL)"
   ]
  },
  {
   "cell_type": "code",
   "execution_count": 5,
   "metadata": {},
   "outputs": [
    {
     "data": {
      "text/plain": [
       "<Response [200]>"
      ]
     },
     "execution_count": 5,
     "metadata": {},
     "output_type": "execute_result"
    }
   ],
   "source": [
    "page"
   ]
  },
  {
   "cell_type": "code",
   "execution_count": 4,
   "metadata": {},
   "outputs": [],
   "source": [
    "soup = BeautifulSoup(page.content, 'html.parser')"
   ]
  },
  {
   "cell_type": "code",
   "execution_count": null,
   "metadata": {},
   "outputs": [],
   "source": [
    "#title of car"
   ]
  },
  {
   "cell_type": "code",
   "execution_count": 19,
   "metadata": {},
   "outputs": [],
   "source": [
    "car_model = soup.find_all(class_=\"srp-list-item-basic-info-model\")"
   ]
  },
  {
   "cell_type": "code",
   "execution_count": 23,
   "metadata": {},
   "outputs": [
    {
     "name": "stdout",
     "output_type": "stream",
     "text": [
      "2019 Jeep Cherokee Latitude\n",
      "2018 Jeep Cherokee Overland\n",
      "2018 Jeep Cherokee Overland\n",
      "2019 Jeep Cherokee Trailhawk\n",
      "2019 Jeep Cherokee Limited Edition\n",
      "2019 Jeep Cherokee Limited Edition\n",
      "2019 Jeep Cherokee Latitude Plus\n",
      "2018 Jeep Cherokee Overland\n",
      "2017 Jeep Cherokee Latitude\n",
      "2016 Jeep Cherokee Latitude\n",
      "2014 Jeep Cherokee Latitude\n",
      "2017 Jeep Cherokee Limited Edition\n",
      "2019 Jeep Cherokee Limited Edition\n",
      "2018 Jeep Cherokee Latitude Plus\n",
      "2017 Jeep Cherokee Latitude\n",
      "2018 Jeep Cherokee Latitude\n",
      "2019 Jeep Cherokee Latitude\n",
      "2014 Jeep Cherokee Latitude\n",
      "2018 Jeep Cherokee Latitude Plus\n",
      "2016 Jeep Cherokee Trailhawk\n",
      "2016 Jeep Cherokee Trailhawk\n",
      "2020 Jeep Cherokee Latitude\n",
      "2018 Jeep Cherokee\n",
      "2017 Jeep Cherokee Latitude\n",
      "2018 Jeep Cherokee Latitude Plus\n"
     ]
    }
   ],
   "source": [
    "\n",
    "for car in car_model:\n",
    "    car= car.text.strip()\n",
    "    print(car)\n",
    "    "
   ]
  },
  {
   "cell_type": "code",
   "execution_count": 38,
   "metadata": {},
   "outputs": [],
   "source": [
    "car_color = soup.find(\"span\", class_=\"srp-list-item-basic-info-value\", )"
   ]
  },
  {
   "cell_type": "code",
   "execution_count": 39,
   "metadata": {},
   "outputs": [
    {
     "data": {
      "text/plain": [
       "<span class=\"srp-list-item-basic-info-value\"><strong>Mileage<!-- -->: </strong>35,693 miles </span>"
      ]
     },
     "execution_count": 39,
     "metadata": {},
     "output_type": "execute_result"
    }
   ],
   "source": [
    "car_color"
   ]
  },
  {
   "cell_type": "code",
   "execution_count": 25,
   "metadata": {},
   "outputs": [
    {
     "name": "stdout",
     "output_type": "stream",
     "text": [
      "<span class=\"srp-list-item-basic-info-value\"><strong>Mileage<!-- -->: </strong>35,693 miles </span>\n",
      "<span class=\"srp-list-item-basic-info-value\"><strong>Body Type<!-- -->: </strong>SUV </span>\n",
      "<span class=\"srp-list-item-basic-info-value\"><strong>Color<!-- -->: </strong>Black </span>\n",
      "<span class=\"srp-list-item-basic-info-value\"><strong>Engine<!-- -->: </strong>4 Cyl 2.4 L </span>\n",
      "<span class=\"srp-list-item-basic-info-value\"><strong>Mileage<!-- -->: </strong>24,509 miles </span>\n",
      "<span class=\"srp-list-item-basic-info-value\"><strong>Body Type<!-- -->: </strong>SUV </span>\n",
      "<span class=\"srp-list-item-basic-info-value\"><strong>Color<!-- -->: </strong>Gray </span>\n",
      "<span class=\"srp-list-item-basic-info-value\"><strong>Engine<!-- -->: </strong>6 Cyl 3.2 L </span>\n",
      "<span class=\"srp-list-item-basic-info-value\"><strong>Mileage<!-- -->: </strong>26,715 miles </span>\n",
      "<span class=\"srp-list-item-basic-info-value\"><strong>Body Type<!-- -->: </strong>SUV </span>\n",
      "<span class=\"srp-list-item-basic-info-value\"><strong>Color<!-- -->: </strong>Gray </span>\n",
      "<span class=\"srp-list-item-basic-info-value\"><strong>Engine<!-- -->: </strong>6 Cyl 3.2 L </span>\n",
      "<span class=\"srp-list-item-basic-info-value\"><strong>Mileage<!-- -->: </strong>70,185 miles </span>\n",
      "<span class=\"srp-list-item-basic-info-value\"><strong>Body Type<!-- -->: </strong>SUV </span>\n",
      "<span class=\"srp-list-item-basic-info-value\"><strong>Color<!-- -->: </strong>White </span>\n",
      "<span class=\"srp-list-item-basic-info-value\"><strong>Engine<!-- -->: </strong>6 Cyl 3.2 L </span>\n",
      "<span class=\"srp-list-item-basic-info-value\"><strong>Mileage<!-- -->: </strong>15,586 miles </span>\n",
      "<span class=\"srp-list-item-basic-info-value\"><strong>Body Type<!-- -->: </strong>SUV </span>\n",
      "<span class=\"srp-list-item-basic-info-value\"><strong>Color<!-- -->: </strong>Black </span>\n",
      "<span class=\"srp-list-item-basic-info-value\"><strong>Engine<!-- -->: </strong>4 Cyl 2.0 L </span>\n",
      "<span class=\"srp-list-item-basic-info-value\"><strong>Mileage<!-- -->: </strong>6,302 miles </span>\n",
      "<span class=\"srp-list-item-basic-info-value\"><strong>Body Type<!-- -->: </strong>SUV </span>\n",
      "<span class=\"srp-list-item-basic-info-value\"><strong>Color<!-- -->: </strong>White </span>\n",
      "<span class=\"srp-list-item-basic-info-value\"><strong>Engine<!-- -->: </strong>6 Cyl 3.2 L </span>\n",
      "<span class=\"srp-list-item-basic-info-value\"><strong>Mileage<!-- -->: </strong>6,261 miles </span>\n",
      "<span class=\"srp-list-item-basic-info-value\"><strong>Body Type<!-- -->: </strong>SUV </span>\n",
      "<span class=\"srp-list-item-basic-info-value\"><strong>Color<!-- -->: </strong>Red </span>\n",
      "<span class=\"srp-list-item-basic-info-value\"><strong>Engine<!-- -->: </strong>4 Cyl 2.4 L </span>\n",
      "<span class=\"srp-list-item-basic-info-value\"><strong>Mileage<!-- -->: </strong>40,585 miles </span>\n",
      "<span class=\"srp-list-item-basic-info-value\"><strong>Body Type<!-- -->: </strong>SUV </span>\n",
      "<span class=\"srp-list-item-basic-info-value\"><strong>Color<!-- -->: </strong>Gray </span>\n",
      "<span class=\"srp-list-item-basic-info-value\"><strong>Engine<!-- -->: </strong>6 Cyl 3.2 L </span>\n",
      "<span class=\"srp-list-item-basic-info-value\"><strong>Mileage<!-- -->: </strong>31,029 miles </span>\n",
      "<span class=\"srp-list-item-basic-info-value\"><strong>Body Type<!-- -->: </strong>SUV </span>\n",
      "<span class=\"srp-list-item-basic-info-value\"><strong>Color<!-- -->: </strong>Black </span>\n",
      "<span class=\"srp-list-item-basic-info-value\"><strong>Engine<!-- -->: </strong>6 Cyl 3.2 L </span>\n",
      "<span class=\"srp-list-item-basic-info-value\"><strong>Mileage<!-- -->: </strong>83,116 miles </span>\n",
      "<span class=\"srp-list-item-basic-info-value\"><strong>Body Type<!-- -->: </strong>SUV </span>\n",
      "<span class=\"srp-list-item-basic-info-value\"><strong>Color<!-- -->: </strong>Silver </span>\n",
      "<span class=\"srp-list-item-basic-info-value\"><strong>Engine<!-- -->: </strong>6 Cyl 3.2 L </span>\n",
      "<span class=\"srp-list-item-basic-info-value\"><strong>Mileage<!-- -->: </strong>120,620 miles </span>\n",
      "<span class=\"srp-list-item-basic-info-value\"><strong>Body Type<!-- -->: </strong>SUV </span>\n",
      "<span class=\"srp-list-item-basic-info-value\"><strong>Color<!-- -->: </strong>Blue </span>\n",
      "<span class=\"srp-list-item-basic-info-value\"><strong>Engine<!-- -->: </strong>6 Cyl 3.2 L </span>\n",
      "<span class=\"srp-list-item-basic-info-value\"><strong>Mileage<!-- -->: </strong>31,859 miles </span>\n",
      "<span class=\"srp-list-item-basic-info-value\"><strong>Body Type<!-- -->: </strong>SUV </span>\n",
      "<span class=\"srp-list-item-basic-info-value\"><strong>Color<!-- -->: </strong>Red </span>\n",
      "<span class=\"srp-list-item-basic-info-value\"><strong>Engine<!-- -->: </strong>4 Cyl 2.4 L </span>\n",
      "<span class=\"srp-list-item-basic-info-value\"><strong>Mileage<!-- -->: </strong>24,426 miles </span>\n",
      "<span class=\"srp-list-item-basic-info-value\"><strong>Body Type<!-- -->: </strong>SUV </span>\n",
      "<span class=\"srp-list-item-basic-info-value\"><strong>Color<!-- -->: </strong>White </span>\n",
      "<span class=\"srp-list-item-basic-info-value\"><strong>Engine<!-- -->: </strong>6 Cyl 3.2 L </span>\n",
      "<span class=\"srp-list-item-basic-info-value\"><strong>Mileage<!-- -->: </strong>20,972 miles </span>\n",
      "<span class=\"srp-list-item-basic-info-value\"><strong>Body Type<!-- -->: </strong>SUV </span>\n",
      "<span class=\"srp-list-item-basic-info-value\"><strong>Color<!-- -->: </strong>Blue </span>\n",
      "<span class=\"srp-list-item-basic-info-value\"><strong>Engine<!-- -->: </strong>4 Cyl 2.4 L </span>\n",
      "<span class=\"srp-list-item-basic-info-value\"><strong>Mileage<!-- -->: </strong>39,470 miles </span>\n",
      "<span class=\"srp-list-item-basic-info-value\"><strong>Body Type<!-- -->: </strong>SUV </span>\n",
      "<span class=\"srp-list-item-basic-info-value\"><strong>Color<!-- -->: </strong>Black </span>\n",
      "<span class=\"srp-list-item-basic-info-value\"><strong>Engine<!-- -->: </strong>6 Cyl 3.2 L </span>\n",
      "<span class=\"srp-list-item-basic-info-value\"><strong>Mileage<!-- -->: </strong>14,215 miles </span>\n",
      "<span class=\"srp-list-item-basic-info-value\"><strong>Body Type<!-- -->: </strong>SUV </span>\n",
      "<span class=\"srp-list-item-basic-info-value\"><strong>Color<!-- -->: </strong>Silver </span>\n",
      "<span class=\"srp-list-item-basic-info-value\"><strong>Engine<!-- -->: </strong>6 Cyl 3.2 L </span>\n",
      "<span class=\"srp-list-item-basic-info-value\"><strong>Mileage<!-- -->: </strong>4,281 miles </span>\n",
      "<span class=\"srp-list-item-basic-info-value\"><strong>Body Type<!-- -->: </strong>SUV </span>\n",
      "<span class=\"srp-list-item-basic-info-value\"><strong>Color<!-- -->: </strong>White </span>\n",
      "<span class=\"srp-list-item-basic-info-value\"><strong>Engine<!-- -->: </strong>4 Cyl 2.4 L </span>\n",
      "<span class=\"srp-list-item-basic-info-value\"><strong>Mileage<!-- -->: </strong>62,804 miles </span>\n",
      "<span class=\"srp-list-item-basic-info-value\"><strong>Body Type<!-- -->: </strong>SUV </span>\n",
      "<span class=\"srp-list-item-basic-info-value\"><strong>Color<!-- -->: </strong>Black </span>\n",
      "<span class=\"srp-list-item-basic-info-value\"><strong>Engine<!-- -->: </strong>4 Cyl 2.4 L </span>\n",
      "<span class=\"srp-list-item-basic-info-value\"><strong>Mileage<!-- -->: </strong>20,052 miles </span>\n",
      "<span class=\"srp-list-item-basic-info-value\"><strong>Body Type<!-- -->: </strong>SUV </span>\n",
      "<span class=\"srp-list-item-basic-info-value\"><strong>Color<!-- -->: </strong>Gray </span>\n",
      "<span class=\"srp-list-item-basic-info-value\"><strong>Engine<!-- -->: </strong>4 Cyl 2.4 L </span>\n",
      "<span class=\"srp-list-item-basic-info-value\"><strong>Mileage<!-- -->: </strong>48,297 miles </span>\n",
      "<span class=\"srp-list-item-basic-info-value\"><strong>Body Type<!-- -->: </strong>SUV </span>\n",
      "<span class=\"srp-list-item-basic-info-value\"><strong>Color<!-- -->: </strong>Red </span>\n",
      "<span class=\"srp-list-item-basic-info-value\"><strong>Engine<!-- -->: </strong>6 Cyl 3.2 L </span>\n",
      "<span class=\"srp-list-item-basic-info-value\"><strong>Mileage<!-- -->: </strong>79,063 miles </span>\n",
      "<span class=\"srp-list-item-basic-info-value\"><strong>Body Type<!-- -->: </strong>SUV </span>\n",
      "<span class=\"srp-list-item-basic-info-value\"><strong>Color<!-- -->: </strong>White </span>\n",
      "<span class=\"srp-list-item-basic-info-value\"><strong>Engine<!-- -->: </strong>6 Cyl 3.2 L </span>\n",
      "<span class=\"srp-list-item-basic-info-value\"><strong>Mileage<!-- -->: </strong>4,821 miles </span>\n",
      "<span class=\"srp-list-item-basic-info-value\"><strong>Body Type<!-- -->: </strong>SUV </span>\n",
      "<span class=\"srp-list-item-basic-info-value\"><strong>Color<!-- -->: </strong>White </span>\n",
      "<span class=\"srp-list-item-basic-info-value\"><strong>Engine<!-- -->: </strong>4 Cyl 2.4 L </span>\n",
      "<span class=\"srp-list-item-basic-info-value\"><strong>Mileage<!-- -->: </strong>27,302 miles </span>\n",
      "<span class=\"srp-list-item-basic-info-value\"><strong>Body Type<!-- -->: </strong>SUV </span>\n",
      "<span class=\"srp-list-item-basic-info-value\"><strong>Color<!-- -->: </strong>Red </span>\n",
      "<span class=\"srp-list-item-basic-info-value\"><strong>Engine<!-- -->: </strong>6 Cyl 3.2 L </span>\n",
      "<span class=\"srp-list-item-basic-info-value\"><strong>Mileage<!-- -->: </strong>58,066 miles </span>\n",
      "<span class=\"srp-list-item-basic-info-value\"><strong>Body Type<!-- -->: </strong>SUV </span>\n",
      "<span class=\"srp-list-item-basic-info-value\"><strong>Color<!-- -->: </strong>White </span>\n",
      "<span class=\"srp-list-item-basic-info-value\"><strong>Engine<!-- -->: </strong>4 Cyl 2.4 L </span>\n",
      "<span class=\"srp-list-item-basic-info-value\"><strong>Mileage<!-- -->: </strong>16,866 miles </span>\n",
      "<span class=\"srp-list-item-basic-info-value\"><strong>Body Type<!-- -->: </strong>SUV </span>\n",
      "<span class=\"srp-list-item-basic-info-value\"><strong>Color<!-- -->: </strong>White </span>\n",
      "<span class=\"srp-list-item-basic-info-value\"><strong>Engine<!-- -->: </strong>4 Cyl 2.4 L </span>\n"
     ]
    }
   ],
   "source": [
    "for color in car_color:\n",
    "    print(color)"
   ]
  },
  {
   "cell_type": "code",
   "execution_count": null,
   "metadata": {},
   "outputs": [],
   "source": []
  },
  {
   "cell_type": "code",
   "execution_count": null,
   "metadata": {},
   "outputs": [],
   "source": []
  },
  {
   "cell_type": "code",
   "execution_count": null,
   "metadata": {},
   "outputs": [],
   "source": []
  },
  {
   "cell_type": "code",
   "execution_count": null,
   "metadata": {},
   "outputs": [],
   "source": []
  },
  {
   "cell_type": "code",
   "execution_count": null,
   "metadata": {},
   "outputs": [],
   "source": []
  },
  {
   "cell_type": "code",
   "execution_count": null,
   "metadata": {},
   "outputs": [],
   "source": []
  }
 ],
 "metadata": {
  "kernelspec": {
   "display_name": "Python 3",
   "language": "python",
   "name": "python3"
  },
  "language_info": {
   "codemirror_mode": {
    "name": "ipython",
    "version": 3
   },
   "file_extension": ".py",
   "mimetype": "text/x-python",
   "name": "python",
   "nbconvert_exporter": "python",
   "pygments_lexer": "ipython3",
   "version": "3.7.6"
  }
 },
 "nbformat": 4,
 "nbformat_minor": 4
}
