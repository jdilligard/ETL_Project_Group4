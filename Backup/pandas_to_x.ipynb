{
 "cells": [
  {
   "cell_type": "code",
   "execution_count": null,
   "metadata": {},
   "outputs": [],
   "source": [
    "#Import the important libraries\n",
    "from time import time,sleep\n",
    "from random import randint\n",
    "from IPython.core.display import clear_output\n",
    "from requests import get\n",
    "from bs4 import BeautifulSoup\n",
    "import matplotlib.pyplot as plt\n",
    "import pandas as pd\n",
    "import re \n",
    "import pymongo\n",
    "from sqlalchemy import create_engine\n",
    "from Scrapper import *\n"
   ]
  },
  {
   "cell_type": "code",
   "execution_count": null,
   "metadata": {},
   "outputs": [],
   "source": [
    "def pandas_to_mongo(dict):\n",
    "    print('I'm doing the mongo thing')\n",
    "          \n",
    " try:\n",
    "    conn = 'mongodb://localhost:27017'\n",
    "    client = pymongo.MongoClient(conn)\n",
    "    # Define the 'classDB' database in Mongo\n",
    "    db = client.carfaxDB\n",
    "    price_df = dict['price']\n",
    "    drive_train_df = dict['drive_train']\n",
    "    v_info_df = dict['vehicle_info']\n",
    "    car_descriptions_df = dict['car_descriptions']\n",
    "    dealer_df = dict['dealer']\n",
    "    \n",
    "    db.price_df.insert_many(price_df.to_dict('records'))\n",
    "    db.driveTrain_df.insert_many(drive_train_df.to_dict('records'))\n",
    "    db.vehicleInfo_df.insert_many(v_info_df.to_dict('records'))\n",
    "    db.carDescriptions_df.insert_many(car_descriptions_df.to_dict('records'))\n",
    "    db.dealer.insert_many(dealer_df.to_dict('records'))\n",
    "    print('I did the mongo thing')\n",
    "    return\n",
    "\n",
    "except:\n",
    "     print('pandas to mongo failed: Check your database info and connections')\n",
    "     print('I did not do the mongo thing. ')\n",
    "     return\n",
    "          \n",
    "          \n",
    "def pandas_to_postgres(dict)\n",
    "    engine = create_engine('sqlite://', echo=False)\n",
    "    print('I did the postgres thing')\n",
    "    "
   ]
  },
  {
   "cell_type": "code",
   "execution_count": null,
   "metadata": {},
   "outputs": [],
   "source": [
    "\n",
    "    \n",
    "\n",
    "    "
   ]
  }
 ],
 "metadata": {
  "kernelspec": {
   "display_name": "Python 3",
   "language": "python",
   "name": "python3"
  },
  "language_info": {
   "codemirror_mode": {
    "name": "ipython",
    "version": 3
   },
   "file_extension": ".py",
   "mimetype": "text/x-python",
   "name": "python",
   "nbconvert_exporter": "python",
   "pygments_lexer": "ipython3",
   "version": "3.7.7"
  }
 },
 "nbformat": 4,
 "nbformat_minor": 4
}
